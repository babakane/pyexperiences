{
  "nbformat": 4,
  "nbformat_minor": 0,
  "metadata": {
    "colab": {
      "name": "Analyzing arrondissements of Senegal.ipynb",
      "provenance": [],
      "authorship_tag": "ABX9TyOiloeQP2SzO1k2tVPJxlGg",
      "include_colab_link": true
    },
    "kernelspec": {
      "name": "python3",
      "display_name": "Python 3"
    }
  },
  "cells": [
    {
      "cell_type": "markdown",
      "metadata": {
        "id": "view-in-github",
        "colab_type": "text"
      },
      "source": [
        "<a href=\"https://colab.research.google.com/github/babakane/pyexperiences/blob/main/Analyzing_arrondissements_of_Senegal.ipynb\" target=\"_parent\"><img src=\"https://colab.research.google.com/assets/colab-badge.svg\" alt=\"Open In Colab\"/></a>"
      ]
    },
    {
      "cell_type": "markdown",
      "metadata": {
        "id": "rR1vgQyhWGux"
      },
      "source": [
        "Analyzing Administratives limites (arrondissements) of Senegal"
      ]
    },
    {
      "cell_type": "code",
      "metadata": {
        "id": "9i-Rg8lbphLM"
      },
      "source": [
        "import matplotlib.pyplot as plt\r\n",
        "import numpy as np\r\n",
        "import geopandas as gpd"
      ],
      "execution_count": 94,
      "outputs": []
    },
    {
      "cell_type": "code",
      "metadata": {
        "id": "DGnYyEXkq6-9"
      },
      "source": [
        "url = 'https://opendata.arcgis.com/datasets/6ec9d1cf60944eaba2ec776147270ddb_0.geojson'"
      ],
      "execution_count": 11,
      "outputs": []
    },
    {
      "cell_type": "code",
      "metadata": {
        "id": "ZuclgKQ9qUTF"
      },
      "source": [
        "limites_administratives_region_senegal = gpd.read_file(url)"
      ],
      "execution_count": 12,
      "outputs": []
    },
    {
      "cell_type": "code",
      "metadata": {
        "colab": {
          "base_uri": "https://localhost:8080/",
          "height": 551
        },
        "id": "hO27d48aqvH0",
        "outputId": "58b55319-6056-4eea-f4ae-4bcfdcbce771"
      },
      "source": [
        "limites_administratives_region_senegal.head()"
      ],
      "execution_count": 13,
      "outputs": [
        {
          "output_type": "execute_result",
          "data": {
            "text/html": [
              "<div>\n",
              "<style scoped>\n",
              "    .dataframe tbody tr th:only-of-type {\n",
              "        vertical-align: middle;\n",
              "    }\n",
              "\n",
              "    .dataframe tbody tr th {\n",
              "        vertical-align: top;\n",
              "    }\n",
              "\n",
              "    .dataframe thead th {\n",
              "        text-align: right;\n",
              "    }\n",
              "</style>\n",
              "<table border=\"1\" class=\"dataframe\">\n",
              "  <thead>\n",
              "    <tr style=\"text-align: right;\">\n",
              "      <th></th>\n",
              "      <th>FID</th>\n",
              "      <th>CODE</th>\n",
              "      <th>NOM</th>\n",
              "      <th>THEME</th>\n",
              "      <th>PAYS</th>\n",
              "      <th>IDUU</th>\n",
              "      <th>SUM_SUPERF</th>\n",
              "      <th>Shape_Leng</th>\n",
              "      <th>Shape_Le_1</th>\n",
              "      <th>Shape_Area</th>\n",
              "      <th>Shape__Area</th>\n",
              "      <th>Shape__Length</th>\n",
              "      <th>geometry</th>\n",
              "    </tr>\n",
              "  </thead>\n",
              "  <tbody>\n",
              "    <tr>\n",
              "      <th>0</th>\n",
              "      <td>1</td>\n",
              "      <td>4200012</td>\n",
              "      <td>Cabrousse</td>\n",
              "      <td>LA</td>\n",
              "      <td>SN</td>\n",
              "      <td>a3727009-f80a-4553-8901-cd35ee034ce</td>\n",
              "      <td>417.781833</td>\n",
              "      <td>135120.744512</td>\n",
              "      <td>135120.744512</td>\n",
              "      <td>4.177818e+08</td>\n",
              "      <td>4.407687e+08</td>\n",
              "      <td>138764.922254</td>\n",
              "      <td>POLYGON ((-16.67944 12.54656, -16.67807 12.543...</td>\n",
              "    </tr>\n",
              "    <tr>\n",
              "      <th>1</th>\n",
              "      <td>2</td>\n",
              "      <td>4200012</td>\n",
              "      <td>Niassia</td>\n",
              "      <td>LA</td>\n",
              "      <td>SN</td>\n",
              "      <td>39db0847-f257-428f-a98e-d130abb79d2</td>\n",
              "      <td>445.704402</td>\n",
              "      <td>115297.924897</td>\n",
              "      <td>115297.924897</td>\n",
              "      <td>4.457044e+08</td>\n",
              "      <td>4.705269e+08</td>\n",
              "      <td>118411.191552</td>\n",
              "      <td>POLYGON ((-16.45886 12.59992, -16.45810 12.599...</td>\n",
              "    </tr>\n",
              "    <tr>\n",
              "      <th>2</th>\n",
              "      <td>3</td>\n",
              "      <td>4200012</td>\n",
              "      <td>Djibanar</td>\n",
              "      <td>LA</td>\n",
              "      <td>SN</td>\n",
              "      <td>47e29649-064b-472e-8ee8-422640e5a03</td>\n",
              "      <td>746.300856</td>\n",
              "      <td>155874.312506</td>\n",
              "      <td>155874.312506</td>\n",
              "      <td>7.463009e+08</td>\n",
              "      <td>7.884011e+08</td>\n",
              "      <td>160016.986245</td>\n",
              "      <td>POLYGON ((-15.92711 12.59790, -15.92597 12.596...</td>\n",
              "    </tr>\n",
              "    <tr>\n",
              "      <th>3</th>\n",
              "      <td>4</td>\n",
              "      <td>4200012</td>\n",
              "      <td>Loudia Wolof</td>\n",
              "      <td>LA</td>\n",
              "      <td>SN</td>\n",
              "      <td>77f917ed-3cb6-4201-bfd3-728567e9dbd</td>\n",
              "      <td>459.989496</td>\n",
              "      <td>107879.795749</td>\n",
              "      <td>107879.795749</td>\n",
              "      <td>4.599895e+08</td>\n",
              "      <td>4.856281e+08</td>\n",
              "      <td>110852.493145</td>\n",
              "      <td>POLYGON ((-16.52025 12.55017, -16.51823 12.550...</td>\n",
              "    </tr>\n",
              "    <tr>\n",
              "      <th>4</th>\n",
              "      <td>5</td>\n",
              "      <td>4200012</td>\n",
              "      <td>Niaguis</td>\n",
              "      <td>LA</td>\n",
              "      <td>SN</td>\n",
              "      <td>d144c533-b53c-430c-afbd-2d2a0dd5c6b</td>\n",
              "      <td>679.716683</td>\n",
              "      <td>136253.303312</td>\n",
              "      <td>136253.303312</td>\n",
              "      <td>6.797167e+08</td>\n",
              "      <td>7.179963e+08</td>\n",
              "      <td>139883.631578</td>\n",
              "      <td>POLYGON ((-15.96707 12.61862, -15.96692 12.618...</td>\n",
              "    </tr>\n",
              "  </tbody>\n",
              "</table>\n",
              "</div>"
            ],
            "text/plain": [
              "   FID  ...                                           geometry\n",
              "0    1  ...  POLYGON ((-16.67944 12.54656, -16.67807 12.543...\n",
              "1    2  ...  POLYGON ((-16.45886 12.59992, -16.45810 12.599...\n",
              "2    3  ...  POLYGON ((-15.92711 12.59790, -15.92597 12.596...\n",
              "3    4  ...  POLYGON ((-16.52025 12.55017, -16.51823 12.550...\n",
              "4    5  ...  POLYGON ((-15.96707 12.61862, -15.96692 12.618...\n",
              "\n",
              "[5 rows x 13 columns]"
            ]
          },
          "metadata": {
            "tags": []
          },
          "execution_count": 13
        }
      ]
    },
    {
      "cell_type": "code",
      "metadata": {
        "colab": {
          "base_uri": "https://localhost:8080/"
        },
        "id": "WA835NiqrRVK",
        "outputId": "eb5a847e-026d-4986-ae14-326c1760f3c2"
      },
      "source": [
        "limites_administratives_region_senegal.columns"
      ],
      "execution_count": 14,
      "outputs": [
        {
          "output_type": "execute_result",
          "data": {
            "text/plain": [
              "Index(['FID', 'CODE', 'NOM', 'THEME', 'PAYS', 'IDUU', 'SUM_SUPERF',\n",
              "       'Shape_Leng', 'Shape_Le_1', 'Shape_Area', 'Shape__Area',\n",
              "       'Shape__Length', 'geometry'],\n",
              "      dtype='object')"
            ]
          },
          "metadata": {
            "tags": []
          },
          "execution_count": 14
        }
      ]
    },
    {
      "cell_type": "code",
      "metadata": {
        "id": "aKGWahWArWUR"
      },
      "source": [
        "admin_names = [i for i in limites_administratives_region_senegal['NOM']]"
      ],
      "execution_count": 15,
      "outputs": []
    },
    {
      "cell_type": "code",
      "metadata": {
        "colab": {
          "base_uri": "https://localhost:8080/"
        },
        "id": "F41mhGlEr9Xq",
        "outputId": "4c152f43-86f5-4256-e6af-5652d2862b97"
      },
      "source": [
        "admin_names"
      ],
      "execution_count": 16,
      "outputs": [
        {
          "output_type": "execute_result",
          "data": {
            "text/plain": [
              "['Cabrousse',\n",
              " 'Niassia',\n",
              " 'Djibanar',\n",
              " 'Loudia Wolof',\n",
              " 'Niaguis',\n",
              " 'Fongolembi',\n",
              " 'Dar Salam',\n",
              " 'Simbandi Brassou',\n",
              " 'Pakour',\n",
              " 'Tendouck',\n",
              " 'Tanghori',\n",
              " 'Djibabouya',\n",
              " 'Mampatim',\n",
              " 'Saré Bidji',\n",
              " 'Sindian',\n",
              " 'Kataba 1',\n",
              " 'Saré Coly Sallé',\n",
              " 'Bona',\n",
              " 'Sabodala',\n",
              " 'Bonconto',\n",
              " 'Ndorna',\n",
              " 'Makacoutibantang',\n",
              " 'Missira',\n",
              " 'Wak Ngouna',\n",
              " 'Toubakouta',\n",
              " 'Katakel',\n",
              " 'Niodior',\n",
              " 'Djilor',\n",
              " 'Ndiédiéng',\n",
              " 'Koumbal',\n",
              " 'Dianké Makan',\n",
              " 'Fimla',\n",
              " 'Sibassor',\n",
              " 'Mbadakhoune',\n",
              " 'Koussanar',\n",
              " 'Kéniéba',\n",
              " 'Mabo',\n",
              " 'Séssène',\n",
              " 'Ouadiour',\n",
              " 'Tataguine',\n",
              " 'Diakhao',\n",
              " 'Niakhar',\n",
              " 'Koutiaba Wolof',\n",
              " 'Fissel',\n",
              " 'Bellé',\n",
              " 'Sindia',\n",
              " 'Missira Wadène',\n",
              " 'Ida Mouride',\n",
              " 'Koular',\n",
              " 'Darou Minam 2',\n",
              " 'Colobane',\n",
              " 'Noto',\n",
              " 'Kaèl',\n",
              " 'Ndoulo',\n",
              " 'Ngoye',\n",
              " 'Taïf',\n",
              " 'Lambaye',\n",
              " 'Thiénaba',\n",
              " 'Keur Moussa',\n",
              " 'Ndame',\n",
              " 'Ndindy',\n",
              " 'Baba Garage',\n",
              " 'Pambal',\n",
              " 'Moudéri',\n",
              " 'Mérina Dakhar',\n",
              " 'Méouane',\n",
              " 'Niakhène',\n",
              " 'Darou Mousty',\n",
              " 'Barkédji',\n",
              " 'Sagata Geth',\n",
              " 'Sagata Diolof',\n",
              " 'Ouro Sidi',\n",
              " 'Ndande',\n",
              " 'Mbédiène',\n",
              " 'Yang-Yang',\n",
              " 'Ogo',\n",
              " 'Rao',\n",
              " 'Agnam Civol',\n",
              " 'Keur Momar Sarr',\n",
              " 'Saldé',\n",
              " 'Cas Cas',\n",
              " 'Ndiaye Ngènt',\n",
              " 'Thillé Boubakar',\n",
              " 'Gamadji Sarré',\n",
              " 'Diaroumé',\n",
              " 'Bogal',\n",
              " 'Djirédji',\n",
              " 'Karantaba',\n",
              " 'Dioulacolon',\n",
              " 'Niaming',\n",
              " 'Fafacourou',\n",
              " 'Dakatéli',\n",
              " 'Bembou',\n",
              " 'Bala',\n",
              " 'Bouinguel Bamba',\n",
              " 'Bamba Tialène',\n",
              " 'Lour Escale',\n",
              " 'Médina Sabakh',\n",
              " 'Sagna',\n",
              " 'Gnibi',\n",
              " 'Keur Mboucki',\n",
              " 'Nguélou',\n",
              " 'Nguelou',\n",
              " 'Paoscoto',\n",
              " 'Orkadiéré',\n",
              " 'Vélingara',\n",
              " 'Mbane',\n",
              " 'Dodji',\n",
              " 'Koki',\n",
              " 'Sakal',\n",
              " 'Bandafassi',\n",
              " 'Diendé',\n",
              " 'Grand Dakar',\n",
              " 'Almadies',\n",
              " 'Parcelles Assainies',\n",
              " 'Guédiawaye',\n",
              " 'Pikine Dagoudane',\n",
              " 'Thiaroye',\n",
              " 'Niayes',\n",
              " 'Rufisque-Est',\n",
              " 'Sangalkam',\n",
              " 'Dakar Plateau']"
            ]
          },
          "metadata": {
            "tags": []
          },
          "execution_count": 16
        }
      ]
    },
    {
      "cell_type": "code",
      "metadata": {
        "id": "YhUo-emtt511"
      },
      "source": [
        "dakar_admin = limites_administratives_region_senegal[(limites_administratives_region_senegal[\"NOM\"] == 'Grand Dakar') | (limites_administratives_region_senegal[\"NOM\"] == 'Almadies') | (limites_administratives_region_senegal[\"NOM\"] == 'Parcelles Assainies') | (limites_administratives_region_senegal['NOM'] == 'Guédiawaye') | (limites_administratives_region_senegal['NOM'] == 'Pikine Dagoudane') | (limites_administratives_region_senegal['NOM'] == 'Thiaroye') | (limites_administratives_region_senegal['NOM'] == 'Niayes') | (limites_administratives_region_senegal['NOM'] == 'Rufisque-Est') | (limites_administratives_region_senegal['NOM'] == 'Sangalkam') | (limites_administratives_region_senegal['NOM'] == 'Dakar Plateau')]\r\n"
      ],
      "execution_count": 22,
      "outputs": []
    },
    {
      "cell_type": "code",
      "metadata": {
        "colab": {
          "base_uri": "https://localhost:8080/",
          "height": 1000
        },
        "id": "A0hzEjrZr-vQ",
        "outputId": "8be1b637-ee4b-4017-a53f-90c401c4d0dc"
      },
      "source": [
        "dakar_admin"
      ],
      "execution_count": 23,
      "outputs": [
        {
          "output_type": "execute_result",
          "data": {
            "text/html": [
              "<div>\n",
              "<style scoped>\n",
              "    .dataframe tbody tr th:only-of-type {\n",
              "        vertical-align: middle;\n",
              "    }\n",
              "\n",
              "    .dataframe tbody tr th {\n",
              "        vertical-align: top;\n",
              "    }\n",
              "\n",
              "    .dataframe thead th {\n",
              "        text-align: right;\n",
              "    }\n",
              "</style>\n",
              "<table border=\"1\" class=\"dataframe\">\n",
              "  <thead>\n",
              "    <tr style=\"text-align: right;\">\n",
              "      <th></th>\n",
              "      <th>FID</th>\n",
              "      <th>CODE</th>\n",
              "      <th>NOM</th>\n",
              "      <th>THEME</th>\n",
              "      <th>PAYS</th>\n",
              "      <th>IDUU</th>\n",
              "      <th>SUM_SUPERF</th>\n",
              "      <th>Shape_Leng</th>\n",
              "      <th>Shape_Le_1</th>\n",
              "      <th>Shape_Area</th>\n",
              "      <th>Shape__Area</th>\n",
              "      <th>Shape__Length</th>\n",
              "      <th>geometry</th>\n",
              "    </tr>\n",
              "  </thead>\n",
              "  <tbody>\n",
              "    <tr>\n",
              "      <th>112</th>\n",
              "      <td>113</td>\n",
              "      <td>4200012</td>\n",
              "      <td>Grand Dakar</td>\n",
              "      <td>LA</td>\n",
              "      <td>SN</td>\n",
              "      <td>bb6dd812-9b10-4447-be18-a106208f1e9</td>\n",
              "      <td>19.004578</td>\n",
              "      <td>33977.204010</td>\n",
              "      <td>33977.204010</td>\n",
              "      <td>1.900458e+07</td>\n",
              "      <td>2.041601e+07</td>\n",
              "      <td>35231.090095</td>\n",
              "      <td>POLYGON ((-17.42040 14.73391, -17.42015 14.733...</td>\n",
              "    </tr>\n",
              "    <tr>\n",
              "      <th>113</th>\n",
              "      <td>114</td>\n",
              "      <td>4200012</td>\n",
              "      <td>Almadies</td>\n",
              "      <td>LA</td>\n",
              "      <td>SN</td>\n",
              "      <td>3565dff6-e9d0-498c-abbe-4a5d7532d1f</td>\n",
              "      <td>30.085439</td>\n",
              "      <td>34711.302034</td>\n",
              "      <td>34711.302034</td>\n",
              "      <td>3.008544e+07</td>\n",
              "      <td>3.232406e+07</td>\n",
              "      <td>35971.850132</td>\n",
              "      <td>MULTIPOLYGON (((-17.51314 14.75747, -17.51313 ...</td>\n",
              "    </tr>\n",
              "    <tr>\n",
              "      <th>114</th>\n",
              "      <td>115</td>\n",
              "      <td>4200012</td>\n",
              "      <td>Parcelles Assainies</td>\n",
              "      <td>LA</td>\n",
              "      <td>SN</td>\n",
              "      <td>c85c0b99-808c-48d6-91bc-1db97d9dbbf</td>\n",
              "      <td>14.986987</td>\n",
              "      <td>19878.631963</td>\n",
              "      <td>19878.631963</td>\n",
              "      <td>1.498699e+07</td>\n",
              "      <td>1.610483e+07</td>\n",
              "      <td>20597.450826</td>\n",
              "      <td>POLYGON ((-17.43993 14.73358, -17.44026 14.728...</td>\n",
              "    </tr>\n",
              "    <tr>\n",
              "      <th>115</th>\n",
              "      <td>116</td>\n",
              "      <td>4200012</td>\n",
              "      <td>Guédiawaye</td>\n",
              "      <td>LA</td>\n",
              "      <td>SN</td>\n",
              "      <td>5e546726-0520-4e6c-a993-a5daa547b54</td>\n",
              "      <td>13.155361</td>\n",
              "      <td>22683.002636</td>\n",
              "      <td>22683.002636</td>\n",
              "      <td>1.315536e+07</td>\n",
              "      <td>1.414117e+07</td>\n",
              "      <td>23508.114846</td>\n",
              "      <td>POLYGON ((-17.37032 14.77672, -17.37036 14.776...</td>\n",
              "    </tr>\n",
              "    <tr>\n",
              "      <th>116</th>\n",
              "      <td>117</td>\n",
              "      <td>4200012</td>\n",
              "      <td>Pikine Dagoudane</td>\n",
              "      <td>LA</td>\n",
              "      <td>SN</td>\n",
              "      <td>0b6fb10a-e2b4-41e5-8c17-d044c793729</td>\n",
              "      <td>14.781354</td>\n",
              "      <td>19406.473151</td>\n",
              "      <td>19406.473151</td>\n",
              "      <td>1.478135e+07</td>\n",
              "      <td>1.588560e+07</td>\n",
              "      <td>20108.837732</td>\n",
              "      <td>POLYGON ((-17.37274 14.77002, -17.37072 14.768...</td>\n",
              "    </tr>\n",
              "    <tr>\n",
              "      <th>117</th>\n",
              "      <td>118</td>\n",
              "      <td>42000120</td>\n",
              "      <td>Thiaroye</td>\n",
              "      <td>LA</td>\n",
              "      <td>SN</td>\n",
              "      <td>bc41b6e8-e51a-44e7-b091-cc5ce4dae43</td>\n",
              "      <td>31.278710</td>\n",
              "      <td>29593.998679</td>\n",
              "      <td>29593.998679</td>\n",
              "      <td>3.127871e+07</td>\n",
              "      <td>3.361666e+07</td>\n",
              "      <td>30640.907885</td>\n",
              "      <td>POLYGON ((-17.31865 14.77066, -17.30944 14.762...</td>\n",
              "    </tr>\n",
              "    <tr>\n",
              "      <th>118</th>\n",
              "      <td>119</td>\n",
              "      <td>4200012</td>\n",
              "      <td>Niayes</td>\n",
              "      <td>LA</td>\n",
              "      <td>SN</td>\n",
              "      <td>dc72b25c-96a0-42f4-acd1-670568251fc</td>\n",
              "      <td>40.507985</td>\n",
              "      <td>29902.365485</td>\n",
              "      <td>29902.365485</td>\n",
              "      <td>4.050798e+07</td>\n",
              "      <td>4.355170e+07</td>\n",
              "      <td>31000.570223</td>\n",
              "      <td>POLYGON ((-17.29226 14.78057, -17.29307 14.775...</td>\n",
              "    </tr>\n",
              "    <tr>\n",
              "      <th>119</th>\n",
              "      <td>120</td>\n",
              "      <td>4200012</td>\n",
              "      <td>Rufisque-Est</td>\n",
              "      <td>LA</td>\n",
              "      <td>SN</td>\n",
              "      <td>c4469fb5-50be-44e5-adac-5ccbb1b88fa</td>\n",
              "      <td>24.980783</td>\n",
              "      <td>23257.536728</td>\n",
              "      <td>23257.536728</td>\n",
              "      <td>2.498078e+07</td>\n",
              "      <td>2.684496e+07</td>\n",
              "      <td>24093.942278</td>\n",
              "      <td>POLYGON ((-17.24476 14.73618, -17.24396 14.736...</td>\n",
              "    </tr>\n",
              "    <tr>\n",
              "      <th>120</th>\n",
              "      <td>121</td>\n",
              "      <td>4100012</td>\n",
              "      <td>Sangalkam</td>\n",
              "      <td>LA</td>\n",
              "      <td>SN</td>\n",
              "      <td>7c0e3170-10a2-4d27-965a-d815d929463</td>\n",
              "      <td>331.847422</td>\n",
              "      <td>86431.680744</td>\n",
              "      <td>86431.680744</td>\n",
              "      <td>3.318474e+08</td>\n",
              "      <td>3.567595e+08</td>\n",
              "      <td>89695.518841</td>\n",
              "      <td>POLYGON ((-17.13025 14.73969, -17.13058 14.737...</td>\n",
              "    </tr>\n",
              "    <tr>\n",
              "      <th>121</th>\n",
              "      <td>122</td>\n",
              "      <td>4200012</td>\n",
              "      <td>Dakar Plateau</td>\n",
              "      <td>LA</td>\n",
              "      <td>SN</td>\n",
              "      <td>4bc86a15-3eb5-465c-8894-6714b4eafdf</td>\n",
              "      <td>14.859608</td>\n",
              "      <td>36040.046782</td>\n",
              "      <td>36040.046782</td>\n",
              "      <td>1.485961e+07</td>\n",
              "      <td>1.595814e+07</td>\n",
              "      <td>37364.415211</td>\n",
              "      <td>MULTIPOLYGON (((-17.47205 14.65172, -17.47206 ...</td>\n",
              "    </tr>\n",
              "  </tbody>\n",
              "</table>\n",
              "</div>"
            ],
            "text/plain": [
              "     FID  ...                                           geometry\n",
              "112  113  ...  POLYGON ((-17.42040 14.73391, -17.42015 14.733...\n",
              "113  114  ...  MULTIPOLYGON (((-17.51314 14.75747, -17.51313 ...\n",
              "114  115  ...  POLYGON ((-17.43993 14.73358, -17.44026 14.728...\n",
              "115  116  ...  POLYGON ((-17.37032 14.77672, -17.37036 14.776...\n",
              "116  117  ...  POLYGON ((-17.37274 14.77002, -17.37072 14.768...\n",
              "117  118  ...  POLYGON ((-17.31865 14.77066, -17.30944 14.762...\n",
              "118  119  ...  POLYGON ((-17.29226 14.78057, -17.29307 14.775...\n",
              "119  120  ...  POLYGON ((-17.24476 14.73618, -17.24396 14.736...\n",
              "120  121  ...  POLYGON ((-17.13025 14.73969, -17.13058 14.737...\n",
              "121  122  ...  MULTIPOLYGON (((-17.47205 14.65172, -17.47206 ...\n",
              "\n",
              "[10 rows x 13 columns]"
            ]
          },
          "metadata": {
            "tags": []
          },
          "execution_count": 23
        }
      ]
    },
    {
      "cell_type": "code",
      "metadata": {
        "colab": {
          "base_uri": "https://localhost:8080/",
          "height": 286
        },
        "id": "4UhLyM_ks9s3",
        "outputId": "24b4329e-af39-4f25-8457-f773d26324de"
      },
      "source": [
        "dakar_admin.plot()"
      ],
      "execution_count": 29,
      "outputs": [
        {
          "output_type": "execute_result",
          "data": {
            "text/plain": [
              "<matplotlib.axes._subplots.AxesSubplot at 0x7fec3b3e5be0>"
            ]
          },
          "metadata": {
            "tags": []
          },
          "execution_count": 29
        },
        {
          "output_type": "display_data",
          "data": {
            "image/png": "[encoded data removed]",
            "text/plain": [
              "<Figure size 432x288 with 1 Axes>"
            ]
          },
          "metadata": {
            "tags": [],
            "needs_background": "light"
          }
        }
      ]
    },
    {
      "cell_type": "markdown",
      "metadata": {
        "id": "bv3lYvL9wyCy"
      },
      "source": [
        "The above figure represents Dakar region of Senegal, it's the capital city of the country composed with the following department:\r\n"
      ]
    },
    {
      "cell_type": "code",
      "metadata": {
        "colab": {
          "base_uri": "https://localhost:8080/"
        },
        "id": "57PDu_4awQal",
        "outputId": "8f343171-a64f-4d3f-fc56-57845b15a754"
      },
      "source": [
        "dakar_admin.NOM"
      ],
      "execution_count": 30,
      "outputs": [
        {
          "output_type": "execute_result",
          "data": {
            "text/plain": [
              "112            Grand Dakar\n",
              "113               Almadies\n",
              "114    Parcelles Assainies\n",
              "115             Guédiawaye\n",
              "116       Pikine Dagoudane\n",
              "117               Thiaroye\n",
              "118                 Niayes\n",
              "119           Rufisque-Est\n",
              "120              Sangalkam\n",
              "121          Dakar Plateau\n",
              "Name: NOM, dtype: object"
            ]
          },
          "metadata": {
            "tags": []
          },
          "execution_count": 30
        }
      ]
    },
    {
      "cell_type": "code",
      "metadata": {
        "colab": {
          "base_uri": "https://localhost:8080/"
        },
        "id": "6cp7W08xw4bn",
        "outputId": "30a431a1-90dc-47e1-9386-9438a92c7056"
      },
      "source": [
        "# Number of department in Dakar\r\n",
        "len(dakar_admin)"
      ],
      "execution_count": 31,
      "outputs": [
        {
          "output_type": "execute_result",
          "data": {
            "text/plain": [
              "10"
            ]
          },
          "metadata": {
            "tags": []
          },
          "execution_count": 31
        }
      ]
    },
    {
      "cell_type": "code",
      "metadata": {
        "colab": {
          "base_uri": "https://localhost:8080/"
        },
        "id": "W_ntt5Yww_2g",
        "outputId": "8b2f1d30-79a9-40c6-d76a-43e5c4aa48e8"
      },
      "source": [
        "# Area of every department\r\n",
        "dep_area = [i for i in dakar_admin.area]"
      ],
      "execution_count": 33,
      "outputs": [
        {
          "output_type": "stream",
          "text": [
            "/usr/local/lib/python3.6/dist-packages/ipykernel_launcher.py:2: UserWarning: Geometry is in a geographic CRS. Results from 'area' are likely incorrect. Use 'GeoSeries.to_crs()' to re-project geometries to a projected CRS before this operation.\n",
            "\n",
            "  \n"
          ],
          "name": "stderr"
        }
      ]
    },
    {
      "cell_type": "code",
      "metadata": {
        "colab": {
          "base_uri": "https://localhost:8080/"
        },
        "id": "8Eh5gG2MxJio",
        "outputId": "cb74b4cd-67d7-45af-dc87-c33fa6badb11"
      },
      "source": [
        "dep_area"
      ],
      "execution_count": 34,
      "outputs": [
        {
          "output_type": "execute_result",
          "data": {
            "text/plain": [
              "[0.0015934772549178035,\n",
              " 0.00252265708828254,\n",
              " 0.0012567942526485326,\n",
              " 0.0011034129726326973,\n",
              " 0.001239657114673259,\n",
              " 0.0026233892757184614,\n",
              " 0.003398102124754777,\n",
              " 0.002095148816879807,\n",
              " 0.02783919113446465,\n",
              " 0.0012457304717332035]"
            ]
          },
          "metadata": {
            "tags": []
          },
          "execution_count": 34
        }
      ]
    },
    {
      "cell_type": "code",
      "metadata": {
        "colab": {
          "base_uri": "https://localhost:8080/"
        },
        "id": "Uo0w4pz8xcDf",
        "outputId": "43fffaa0-9952-435a-b954-40bcb5d8eb0d"
      },
      "source": [
        "# The biggest department and the lowest size\r\n",
        "dakar_admin.area.max"
      ],
      "execution_count": 36,
      "outputs": [
        {
          "output_type": "stream",
          "text": [
            "/usr/local/lib/python3.6/dist-packages/ipykernel_launcher.py:2: UserWarning: Geometry is in a geographic CRS. Results from 'area' are likely incorrect. Use 'GeoSeries.to_crs()' to re-project geometries to a projected CRS before this operation.\n",
            "\n",
            "  \n"
          ],
          "name": "stderr"
        },
        {
          "output_type": "execute_result",
          "data": {
            "text/plain": [
              "<bound method Series.max of 112    0.001593\n",
              "113    0.002523\n",
              "114    0.001257\n",
              "115    0.001103\n",
              "116    0.001240\n",
              "117    0.002623\n",
              "118    0.003398\n",
              "119    0.002095\n",
              "120    0.027839\n",
              "121    0.001246\n",
              "dtype: float64>"
            ]
          },
          "metadata": {
            "tags": []
          },
          "execution_count": 36
        }
      ]
    },
    {
      "cell_type": "code",
      "metadata": {
        "colab": {
          "base_uri": "https://localhost:8080/"
        },
        "id": "F1YDY6DGxuFl",
        "outputId": "60ea96cf-4a00-4bb4-a16c-3c8908c79ab0"
      },
      "source": [
        "dakar_admin.Shape_Area.max()"
      ],
      "execution_count": 40,
      "outputs": [
        {
          "output_type": "execute_result",
          "data": {
            "text/plain": [
              "331847421.979"
            ]
          },
          "metadata": {
            "tags": []
          },
          "execution_count": 40
        }
      ]
    },
    {
      "cell_type": "code",
      "metadata": {
        "id": "m0uYZ_zNyEO_"
      },
      "source": [
        "h_dep = dakar_admin[dakar_admin['Shape__Area'] == dakar_admin.Shape__Area.max()]"
      ],
      "execution_count": 44,
      "outputs": []
    },
    {
      "cell_type": "code",
      "metadata": {
        "colab": {
          "base_uri": "https://localhost:8080/",
          "height": 164
        },
        "id": "OJ8IwgLr42Zf",
        "outputId": "bd5b6819-4af4-46ef-a7f6-9e6bd0f44b29"
      },
      "source": [
        "h_dep"
      ],
      "execution_count": 45,
      "outputs": [
        {
          "output_type": "execute_result",
          "data": {
            "text/html": [
              "<div>\n",
              "<style scoped>\n",
              "    .dataframe tbody tr th:only-of-type {\n",
              "        vertical-align: middle;\n",
              "    }\n",
              "\n",
              "    .dataframe tbody tr th {\n",
              "        vertical-align: top;\n",
              "    }\n",
              "\n",
              "    .dataframe thead th {\n",
              "        text-align: right;\n",
              "    }\n",
              "</style>\n",
              "<table border=\"1\" class=\"dataframe\">\n",
              "  <thead>\n",
              "    <tr style=\"text-align: right;\">\n",
              "      <th></th>\n",
              "      <th>FID</th>\n",
              "      <th>CODE</th>\n",
              "      <th>NOM</th>\n",
              "      <th>THEME</th>\n",
              "      <th>PAYS</th>\n",
              "      <th>IDUU</th>\n",
              "      <th>SUM_SUPERF</th>\n",
              "      <th>Shape_Leng</th>\n",
              "      <th>Shape_Le_1</th>\n",
              "      <th>Shape_Area</th>\n",
              "      <th>Shape__Area</th>\n",
              "      <th>Shape__Length</th>\n",
              "      <th>geometry</th>\n",
              "    </tr>\n",
              "  </thead>\n",
              "  <tbody>\n",
              "    <tr>\n",
              "      <th>120</th>\n",
              "      <td>121</td>\n",
              "      <td>4100012</td>\n",
              "      <td>Sangalkam</td>\n",
              "      <td>LA</td>\n",
              "      <td>SN</td>\n",
              "      <td>7c0e3170-10a2-4d27-965a-d815d929463</td>\n",
              "      <td>331.847422</td>\n",
              "      <td>86431.680744</td>\n",
              "      <td>86431.680744</td>\n",
              "      <td>3.318474e+08</td>\n",
              "      <td>3.567595e+08</td>\n",
              "      <td>89695.518841</td>\n",
              "      <td>POLYGON ((-17.13025 14.73969, -17.13058 14.737...</td>\n",
              "    </tr>\n",
              "  </tbody>\n",
              "</table>\n",
              "</div>"
            ],
            "text/plain": [
              "     FID  ...                                           geometry\n",
              "120  121  ...  POLYGON ((-17.13025 14.73969, -17.13058 14.737...\n",
              "\n",
              "[1 rows x 13 columns]"
            ]
          },
          "metadata": {
            "tags": []
          },
          "execution_count": 45
        }
      ]
    },
    {
      "cell_type": "markdown",
      "metadata": {
        "id": "pU-OdsDh3qKM"
      },
      "source": [
        "The biggest department size in Dakar is SANGALKAM with 3.5 km2\r\n"
      ]
    },
    {
      "cell_type": "code",
      "metadata": {
        "colab": {
          "base_uri": "https://localhost:8080/",
          "height": 550
        },
        "id": "WTZBMsaoB13d",
        "outputId": "27d86887-e6fa-47f7-ed68-f981a172d77e"
      },
      "source": [
        "print(l_dep.plot());\r\n",
        "print(h_dep.plot())"
      ],
      "execution_count": 69,
      "outputs": [
        {
          "output_type": "stream",
          "text": [
            "AxesSubplot(0.198754,0.125;0.627491x0.755)\n",
            "AxesSubplot(0.368042,0.125;0.288916x0.755)\n"
          ],
          "name": "stdout"
        },
        {
          "output_type": "display_data",
          "data": {
            "image/png": "[encoded data removed]",
            "text/plain": [
              "<Figure size 432x288 with 1 Axes>"
            ]
          },
          "metadata": {
            "tags": [],
            "needs_background": "light"
          }
        },
        {
          "output_type": "display_data",
          "data": {
            "image/png": "[encoded data removed]",
            "text/plain": [
              "<Figure size 432x288 with 1 Axes>"
            ]
          },
          "metadata": {
            "tags": [],
            "needs_background": "light"
          }
        }
      ]
    },
    {
      "cell_type": "code",
      "metadata": {
        "id": "k-Qlo8at3i2l"
      },
      "source": [
        "# The lowest department size\r\n",
        "l_dep = dakar_admin[dakar_admin['Shape__Area'] == dakar_admin.Shape__Area.min()]"
      ],
      "execution_count": 46,
      "outputs": []
    },
    {
      "cell_type": "code",
      "metadata": {
        "colab": {
          "base_uri": "https://localhost:8080/",
          "height": 164
        },
        "id": "-H4Gr7FV48Xo",
        "outputId": "3f450431-8153-403d-d10e-b844b9c25d77"
      },
      "source": [
        "l_dep"
      ],
      "execution_count": 47,
      "outputs": [
        {
          "output_type": "execute_result",
          "data": {
            "text/html": [
              "<div>\n",
              "<style scoped>\n",
              "    .dataframe tbody tr th:only-of-type {\n",
              "        vertical-align: middle;\n",
              "    }\n",
              "\n",
              "    .dataframe tbody tr th {\n",
              "        vertical-align: top;\n",
              "    }\n",
              "\n",
              "    .dataframe thead th {\n",
              "        text-align: right;\n",
              "    }\n",
              "</style>\n",
              "<table border=\"1\" class=\"dataframe\">\n",
              "  <thead>\n",
              "    <tr style=\"text-align: right;\">\n",
              "      <th></th>\n",
              "      <th>FID</th>\n",
              "      <th>CODE</th>\n",
              "      <th>NOM</th>\n",
              "      <th>THEME</th>\n",
              "      <th>PAYS</th>\n",
              "      <th>IDUU</th>\n",
              "      <th>SUM_SUPERF</th>\n",
              "      <th>Shape_Leng</th>\n",
              "      <th>Shape_Le_1</th>\n",
              "      <th>Shape_Area</th>\n",
              "      <th>Shape__Area</th>\n",
              "      <th>Shape__Length</th>\n",
              "      <th>geometry</th>\n",
              "    </tr>\n",
              "  </thead>\n",
              "  <tbody>\n",
              "    <tr>\n",
              "      <th>115</th>\n",
              "      <td>116</td>\n",
              "      <td>4200012</td>\n",
              "      <td>Guédiawaye</td>\n",
              "      <td>LA</td>\n",
              "      <td>SN</td>\n",
              "      <td>5e546726-0520-4e6c-a993-a5daa547b54</td>\n",
              "      <td>13.155361</td>\n",
              "      <td>22683.002636</td>\n",
              "      <td>22683.002636</td>\n",
              "      <td>1.315536e+07</td>\n",
              "      <td>1.414117e+07</td>\n",
              "      <td>23508.114846</td>\n",
              "      <td>POLYGON ((-17.37032 14.77672, -17.37036 14.776...</td>\n",
              "    </tr>\n",
              "  </tbody>\n",
              "</table>\n",
              "</div>"
            ],
            "text/plain": [
              "     FID  ...                                           geometry\n",
              "115  116  ...  POLYGON ((-17.37032 14.77672, -17.37036 14.776...\n",
              "\n",
              "[1 rows x 13 columns]"
            ]
          },
          "metadata": {
            "tags": []
          },
          "execution_count": 47
        }
      ]
    },
    {
      "cell_type": "markdown",
      "metadata": {
        "id": "R2bRqRB538gA"
      },
      "source": [
        "Guediawaye is the lowest size with 1.4 km2"
      ]
    },
    {
      "cell_type": "code",
      "metadata": {
        "id": "bKZn6J5t33a7"
      },
      "source": [
        ""
      ],
      "execution_count": 52,
      "outputs": []
    },
    {
      "cell_type": "code",
      "metadata": {
        "colab": {
          "base_uri": "https://localhost:8080/",
          "height": 164
        },
        "id": "yA1GG3cF5Qtx",
        "outputId": "ebbca759-9e98-47d5-82b3-a549a043b099"
      },
      "source": [
        "limites_administratives_region_senegal.loc[[limites_administratives_region_senegal.Shape__Area.idxmax(2)]]\r\n"
      ],
      "execution_count": 61,
      "outputs": [
        {
          "output_type": "execute_result",
          "data": {
            "text/html": [
              "<div>\n",
              "<style scoped>\n",
              "    .dataframe tbody tr th:only-of-type {\n",
              "        vertical-align: middle;\n",
              "    }\n",
              "\n",
              "    .dataframe tbody tr th {\n",
              "        vertical-align: top;\n",
              "    }\n",
              "\n",
              "    .dataframe thead th {\n",
              "        text-align: right;\n",
              "    }\n",
              "</style>\n",
              "<table border=\"1\" class=\"dataframe\">\n",
              "  <thead>\n",
              "    <tr style=\"text-align: right;\">\n",
              "      <th></th>\n",
              "      <th>FID</th>\n",
              "      <th>CODE</th>\n",
              "      <th>NOM</th>\n",
              "      <th>THEME</th>\n",
              "      <th>PAYS</th>\n",
              "      <th>IDUU</th>\n",
              "      <th>SUM_SUPERF</th>\n",
              "      <th>Shape_Leng</th>\n",
              "      <th>Shape_Le_1</th>\n",
              "      <th>Shape_Area</th>\n",
              "      <th>Shape__Area</th>\n",
              "      <th>Shape__Length</th>\n",
              "      <th>geometry</th>\n",
              "    </tr>\n",
              "  </thead>\n",
              "  <tbody>\n",
              "    <tr>\n",
              "      <th>105</th>\n",
              "      <td>106</td>\n",
              "      <td>4200012</td>\n",
              "      <td>Vélingara</td>\n",
              "      <td>LA</td>\n",
              "      <td>SN</td>\n",
              "      <td>5dd43a45-6be2-4622-bf3f-34f29270fc7</td>\n",
              "      <td>14430.220082</td>\n",
              "      <td>658210.074324</td>\n",
              "      <td>658210.074324</td>\n",
              "      <td>1.443022e+10</td>\n",
              "      <td>1.557021e+10</td>\n",
              "      <td>683516.485556</td>\n",
              "      <td>POLYGON ((-14.29957 15.52558, -14.29536 15.525...</td>\n",
              "    </tr>\n",
              "  </tbody>\n",
              "</table>\n",
              "</div>"
            ],
            "text/plain": [
              "     FID  ...                                           geometry\n",
              "105  106  ...  POLYGON ((-14.29957 15.52558, -14.29536 15.525...\n",
              "\n",
              "[1 rows x 13 columns]"
            ]
          },
          "metadata": {
            "tags": []
          },
          "execution_count": 61
        }
      ]
    },
    {
      "cell_type": "code",
      "metadata": {
        "colab": {
          "base_uri": "https://localhost:8080/",
          "height": 1000
        },
        "id": "BaLFMxyk6c6w",
        "outputId": "864b52b3-886d-4326-8d5a-d6f2b3629a9b"
      },
      "source": [
        "# Biggest department size\r\n",
        "limites_administratives_region_senegal[limites_administratives_region_senegal['Shape__Area']> 3]"
      ],
      "execution_count": 68,
      "outputs": [
        {
          "output_type": "execute_result",
          "data": {
            "text/html": [
              "<div>\n",
              "<style scoped>\n",
              "    .dataframe tbody tr th:only-of-type {\n",
              "        vertical-align: middle;\n",
              "    }\n",
              "\n",
              "    .dataframe tbody tr th {\n",
              "        vertical-align: top;\n",
              "    }\n",
              "\n",
              "    .dataframe thead th {\n",
              "        text-align: right;\n",
              "    }\n",
              "</style>\n",
              "<table border=\"1\" class=\"dataframe\">\n",
              "  <thead>\n",
              "    <tr style=\"text-align: right;\">\n",
              "      <th></th>\n",
              "      <th>FID</th>\n",
              "      <th>CODE</th>\n",
              "      <th>NOM</th>\n",
              "      <th>THEME</th>\n",
              "      <th>PAYS</th>\n",
              "      <th>IDUU</th>\n",
              "      <th>SUM_SUPERF</th>\n",
              "      <th>Shape_Leng</th>\n",
              "      <th>Shape_Le_1</th>\n",
              "      <th>Shape_Area</th>\n",
              "      <th>Shape__Area</th>\n",
              "      <th>Shape__Length</th>\n",
              "      <th>geometry</th>\n",
              "    </tr>\n",
              "  </thead>\n",
              "  <tbody>\n",
              "    <tr>\n",
              "      <th>0</th>\n",
              "      <td>1</td>\n",
              "      <td>4200012</td>\n",
              "      <td>Cabrousse</td>\n",
              "      <td>LA</td>\n",
              "      <td>SN</td>\n",
              "      <td>a3727009-f80a-4553-8901-cd35ee034ce</td>\n",
              "      <td>417.781833</td>\n",
              "      <td>135120.744512</td>\n",
              "      <td>135120.744512</td>\n",
              "      <td>4.177818e+08</td>\n",
              "      <td>4.407687e+08</td>\n",
              "      <td>138764.922254</td>\n",
              "      <td>POLYGON ((-16.67944 12.54656, -16.67807 12.543...</td>\n",
              "    </tr>\n",
              "    <tr>\n",
              "      <th>1</th>\n",
              "      <td>2</td>\n",
              "      <td>4200012</td>\n",
              "      <td>Niassia</td>\n",
              "      <td>LA</td>\n",
              "      <td>SN</td>\n",
              "      <td>39db0847-f257-428f-a98e-d130abb79d2</td>\n",
              "      <td>445.704402</td>\n",
              "      <td>115297.924897</td>\n",
              "      <td>115297.924897</td>\n",
              "      <td>4.457044e+08</td>\n",
              "      <td>4.705269e+08</td>\n",
              "      <td>118411.191552</td>\n",
              "      <td>POLYGON ((-16.45886 12.59992, -16.45810 12.599...</td>\n",
              "    </tr>\n",
              "    <tr>\n",
              "      <th>2</th>\n",
              "      <td>3</td>\n",
              "      <td>4200012</td>\n",
              "      <td>Djibanar</td>\n",
              "      <td>LA</td>\n",
              "      <td>SN</td>\n",
              "      <td>47e29649-064b-472e-8ee8-422640e5a03</td>\n",
              "      <td>746.300856</td>\n",
              "      <td>155874.312506</td>\n",
              "      <td>155874.312506</td>\n",
              "      <td>7.463009e+08</td>\n",
              "      <td>7.884011e+08</td>\n",
              "      <td>160016.986245</td>\n",
              "      <td>POLYGON ((-15.92711 12.59790, -15.92597 12.596...</td>\n",
              "    </tr>\n",
              "    <tr>\n",
              "      <th>3</th>\n",
              "      <td>4</td>\n",
              "      <td>4200012</td>\n",
              "      <td>Loudia Wolof</td>\n",
              "      <td>LA</td>\n",
              "      <td>SN</td>\n",
              "      <td>77f917ed-3cb6-4201-bfd3-728567e9dbd</td>\n",
              "      <td>459.989496</td>\n",
              "      <td>107879.795749</td>\n",
              "      <td>107879.795749</td>\n",
              "      <td>4.599895e+08</td>\n",
              "      <td>4.856281e+08</td>\n",
              "      <td>110852.493145</td>\n",
              "      <td>POLYGON ((-16.52025 12.55017, -16.51823 12.550...</td>\n",
              "    </tr>\n",
              "    <tr>\n",
              "      <th>4</th>\n",
              "      <td>5</td>\n",
              "      <td>4200012</td>\n",
              "      <td>Niaguis</td>\n",
              "      <td>LA</td>\n",
              "      <td>SN</td>\n",
              "      <td>d144c533-b53c-430c-afbd-2d2a0dd5c6b</td>\n",
              "      <td>679.716683</td>\n",
              "      <td>136253.303312</td>\n",
              "      <td>136253.303312</td>\n",
              "      <td>6.797167e+08</td>\n",
              "      <td>7.179963e+08</td>\n",
              "      <td>139883.631578</td>\n",
              "      <td>POLYGON ((-15.96707 12.61862, -15.96692 12.618...</td>\n",
              "    </tr>\n",
              "    <tr>\n",
              "      <th>...</th>\n",
              "      <td>...</td>\n",
              "      <td>...</td>\n",
              "      <td>...</td>\n",
              "      <td>...</td>\n",
              "      <td>...</td>\n",
              "      <td>...</td>\n",
              "      <td>...</td>\n",
              "      <td>...</td>\n",
              "      <td>...</td>\n",
              "      <td>...</td>\n",
              "      <td>...</td>\n",
              "      <td>...</td>\n",
              "      <td>...</td>\n",
              "    </tr>\n",
              "    <tr>\n",
              "      <th>117</th>\n",
              "      <td>118</td>\n",
              "      <td>42000120</td>\n",
              "      <td>Thiaroye</td>\n",
              "      <td>LA</td>\n",
              "      <td>SN</td>\n",
              "      <td>bc41b6e8-e51a-44e7-b091-cc5ce4dae43</td>\n",
              "      <td>31.278710</td>\n",
              "      <td>29593.998679</td>\n",
              "      <td>29593.998679</td>\n",
              "      <td>3.127871e+07</td>\n",
              "      <td>3.361666e+07</td>\n",
              "      <td>30640.907885</td>\n",
              "      <td>POLYGON ((-17.31865 14.77066, -17.30944 14.762...</td>\n",
              "    </tr>\n",
              "    <tr>\n",
              "      <th>118</th>\n",
              "      <td>119</td>\n",
              "      <td>4200012</td>\n",
              "      <td>Niayes</td>\n",
              "      <td>LA</td>\n",
              "      <td>SN</td>\n",
              "      <td>dc72b25c-96a0-42f4-acd1-670568251fc</td>\n",
              "      <td>40.507985</td>\n",
              "      <td>29902.365485</td>\n",
              "      <td>29902.365485</td>\n",
              "      <td>4.050798e+07</td>\n",
              "      <td>4.355170e+07</td>\n",
              "      <td>31000.570223</td>\n",
              "      <td>POLYGON ((-17.29226 14.78057, -17.29307 14.775...</td>\n",
              "    </tr>\n",
              "    <tr>\n",
              "      <th>119</th>\n",
              "      <td>120</td>\n",
              "      <td>4200012</td>\n",
              "      <td>Rufisque-Est</td>\n",
              "      <td>LA</td>\n",
              "      <td>SN</td>\n",
              "      <td>c4469fb5-50be-44e5-adac-5ccbb1b88fa</td>\n",
              "      <td>24.980783</td>\n",
              "      <td>23257.536728</td>\n",
              "      <td>23257.536728</td>\n",
              "      <td>2.498078e+07</td>\n",
              "      <td>2.684496e+07</td>\n",
              "      <td>24093.942278</td>\n",
              "      <td>POLYGON ((-17.24476 14.73618, -17.24396 14.736...</td>\n",
              "    </tr>\n",
              "    <tr>\n",
              "      <th>120</th>\n",
              "      <td>121</td>\n",
              "      <td>4100012</td>\n",
              "      <td>Sangalkam</td>\n",
              "      <td>LA</td>\n",
              "      <td>SN</td>\n",
              "      <td>7c0e3170-10a2-4d27-965a-d815d929463</td>\n",
              "      <td>331.847422</td>\n",
              "      <td>86431.680744</td>\n",
              "      <td>86431.680744</td>\n",
              "      <td>3.318474e+08</td>\n",
              "      <td>3.567595e+08</td>\n",
              "      <td>89695.518841</td>\n",
              "      <td>POLYGON ((-17.13025 14.73969, -17.13058 14.737...</td>\n",
              "    </tr>\n",
              "    <tr>\n",
              "      <th>121</th>\n",
              "      <td>122</td>\n",
              "      <td>4200012</td>\n",
              "      <td>Dakar Plateau</td>\n",
              "      <td>LA</td>\n",
              "      <td>SN</td>\n",
              "      <td>4bc86a15-3eb5-465c-8894-6714b4eafdf</td>\n",
              "      <td>14.859608</td>\n",
              "      <td>36040.046782</td>\n",
              "      <td>36040.046782</td>\n",
              "      <td>1.485961e+07</td>\n",
              "      <td>1.595814e+07</td>\n",
              "      <td>37364.415211</td>\n",
              "      <td>MULTIPOLYGON (((-17.47205 14.65172, -17.47206 ...</td>\n",
              "    </tr>\n",
              "  </tbody>\n",
              "</table>\n",
              "<p>121 rows × 13 columns</p>\n",
              "</div>"
            ],
            "text/plain": [
              "     FID  ...                                           geometry\n",
              "0      1  ...  POLYGON ((-16.67944 12.54656, -16.67807 12.543...\n",
              "1      2  ...  POLYGON ((-16.45886 12.59992, -16.45810 12.599...\n",
              "2      3  ...  POLYGON ((-15.92711 12.59790, -15.92597 12.596...\n",
              "3      4  ...  POLYGON ((-16.52025 12.55017, -16.51823 12.550...\n",
              "4      5  ...  POLYGON ((-15.96707 12.61862, -15.96692 12.618...\n",
              "..   ...  ...                                                ...\n",
              "117  118  ...  POLYGON ((-17.31865 14.77066, -17.30944 14.762...\n",
              "118  119  ...  POLYGON ((-17.29226 14.78057, -17.29307 14.775...\n",
              "119  120  ...  POLYGON ((-17.24476 14.73618, -17.24396 14.736...\n",
              "120  121  ...  POLYGON ((-17.13025 14.73969, -17.13058 14.737...\n",
              "121  122  ...  MULTIPOLYGON (((-17.47205 14.65172, -17.47206 ...\n",
              "\n",
              "[121 rows x 13 columns]"
            ]
          },
          "metadata": {
            "tags": []
          },
          "execution_count": 68
        }
      ]
    },
    {
      "cell_type": "code",
      "metadata": {
        "id": "3kGZrh13Cisf"
      },
      "source": [
        "# save different data\r\n",
        "limites_administratives_region_senegal.to_file('D:\\Research\\PROJECT\\pyexeriences\\Geospatial experiences\\Raster data analysis\\data\\arrondisment_senegal')"
      ],
      "execution_count": 70,
      "outputs": []
    },
    {
      "cell_type": "code",
      "metadata": {
        "id": "QlZglzHKF18U"
      },
      "source": [
        "dakar_admin.to_file('D:\\Research\\PROJECT\\pyexeriences\\Geospatial experiences\\Raster data analysis\\data\\dakar_arrondis')"
      ],
      "execution_count": 72,
      "outputs": []
    },
    {
      "cell_type": "markdown",
      "metadata": {
        "id": "AS56hHMSGHHI"
      },
      "source": [
        "A future update will be needed in this tutorial\r\n"
      ]
    },
    {
      "cell_type": "code",
      "metadata": {
        "id": "nt5NHmNTJp55"
      },
      "source": [
        "import rasterio"
      ],
      "execution_count": 73,
      "outputs": []
    },
    {
      "cell_type": "code",
      "metadata": {
        "id": "BK6-BDavJsP4"
      },
      "source": [
        "ports_senegal = gpd.read_file('https://opendata.arcgis.com/datasets/97ce8fc1e23c45ed846ae2f8d301ce13_0.geojson')"
      ],
      "execution_count": 74,
      "outputs": []
    },
    {
      "cell_type": "code",
      "metadata": {
        "colab": {
          "base_uri": "https://localhost:8080/",
          "height": 279
        },
        "id": "FK9RLe5uJ9Fq",
        "outputId": "1f915265-bf70-47b2-b96f-1c136f65ae72"
      },
      "source": [
        "ports_senegal"
      ],
      "execution_count": 76,
      "outputs": [
        {
          "output_type": "execute_result",
          "data": {
            "text/html": [
              "<div>\n",
              "<style scoped>\n",
              "    .dataframe tbody tr th:only-of-type {\n",
              "        vertical-align: middle;\n",
              "    }\n",
              "\n",
              "    .dataframe tbody tr th {\n",
              "        vertical-align: top;\n",
              "    }\n",
              "\n",
              "    .dataframe thead th {\n",
              "        text-align: right;\n",
              "    }\n",
              "</style>\n",
              "<table border=\"1\" class=\"dataframe\">\n",
              "  <thead>\n",
              "    <tr style=\"text-align: right;\">\n",
              "      <th></th>\n",
              "      <th>FID</th>\n",
              "      <th>NOM</th>\n",
              "      <th>CODE</th>\n",
              "      <th>THEME</th>\n",
              "      <th>PAYS</th>\n",
              "      <th>TYPE_EHA</th>\n",
              "      <th>X</th>\n",
              "      <th>Y</th>\n",
              "      <th>IDUU</th>\n",
              "      <th>geometry</th>\n",
              "    </tr>\n",
              "  </thead>\n",
              "  <tbody>\n",
              "    <tr>\n",
              "      <th>0</th>\n",
              "      <td>1</td>\n",
              "      <td>Ziguinchor</td>\n",
              "      <td>3300030</td>\n",
              "      <td>HD</td>\n",
              "      <td>SN</td>\n",
              "      <td>3</td>\n",
              "      <td>373423.1319</td>\n",
              "      <td>1.395517e+06</td>\n",
              "      <td>b292d17a-dae9-4d7a-9221-ccff283010c</td>\n",
              "      <td>POINT (-16.16542 12.62110)</td>\n",
              "    </tr>\n",
              "    <tr>\n",
              "      <th>1</th>\n",
              "      <td>2</td>\n",
              "      <td>Foundiougne</td>\n",
              "      <td>3300030</td>\n",
              "      <td>HD</td>\n",
              "      <td>SN</td>\n",
              "      <td>3</td>\n",
              "      <td>340776.3539</td>\n",
              "      <td>1.564558e+06</td>\n",
              "      <td>d894bda3-ed85-4d08-aa51-253f28ec13b</td>\n",
              "      <td>POINT (-16.47522 14.14766)</td>\n",
              "    </tr>\n",
              "    <tr>\n",
              "      <th>2</th>\n",
              "      <td>3</td>\n",
              "      <td>Kaolack</td>\n",
              "      <td>3300030</td>\n",
              "      <td>HD</td>\n",
              "      <td>SN</td>\n",
              "      <td>3</td>\n",
              "      <td>383704.5313</td>\n",
              "      <td>1.563829e+06</td>\n",
              "      <td>f6b54807-a36e-4a9c-85f9-c0664014d82</td>\n",
              "      <td>POINT (-16.07752 14.14318)</td>\n",
              "    </tr>\n",
              "    <tr>\n",
              "      <th>3</th>\n",
              "      <td>4</td>\n",
              "      <td>Dakar</td>\n",
              "      <td>3300030</td>\n",
              "      <td>HD</td>\n",
              "      <td>SN</td>\n",
              "      <td>3</td>\n",
              "      <td>245672.7044</td>\n",
              "      <td>1.618326e+06</td>\n",
              "      <td>e34517bb-067b-4d1a-9c38-b3cbe0fbcca</td>\n",
              "      <td>POINT (-17.39926 14.67089)</td>\n",
              "    </tr>\n",
              "    <tr>\n",
              "      <th>4</th>\n",
              "      <td>5</td>\n",
              "      <td>Saint-Louis</td>\n",
              "      <td>3300030</td>\n",
              "      <td>HD</td>\n",
              "      <td>SN</td>\n",
              "      <td>3</td>\n",
              "      <td>327236.0172</td>\n",
              "      <td>1.768381e+06</td>\n",
              "      <td>0ed8cd8c-7685-47b1-9080-f42be6c5264</td>\n",
              "      <td>POINT (-16.51174 15.97163)</td>\n",
              "    </tr>\n",
              "  </tbody>\n",
              "</table>\n",
              "</div>"
            ],
            "text/plain": [
              "   FID  ...                    geometry\n",
              "0    1  ...  POINT (-16.16542 12.62110)\n",
              "1    2  ...  POINT (-16.47522 14.14766)\n",
              "2    3  ...  POINT (-16.07752 14.14318)\n",
              "3    4  ...  POINT (-17.39926 14.67089)\n",
              "4    5  ...  POINT (-16.51174 15.97163)\n",
              "\n",
              "[5 rows x 10 columns]"
            ]
          },
          "metadata": {
            "tags": []
          },
          "execution_count": 76
        }
      ]
    },
    {
      "cell_type": "code",
      "metadata": {
        "colab": {
          "base_uri": "https://localhost:8080/"
        },
        "id": "XGWvnLO2Kfbl",
        "outputId": "2413212c-e3eb-41cd-c0d1-72d61cfefc53"
      },
      "source": [
        "# Name of ports in Senegal\r\n",
        "ports_senegal.NOM"
      ],
      "execution_count": 77,
      "outputs": [
        {
          "output_type": "execute_result",
          "data": {
            "text/plain": [
              "0     Ziguinchor\n",
              "1    Foundiougne\n",
              "2        Kaolack\n",
              "3          Dakar\n",
              "4    Saint-Louis\n",
              "Name: NOM, dtype: object"
            ]
          },
          "metadata": {
            "tags": []
          },
          "execution_count": 77
        }
      ]
    },
    {
      "cell_type": "markdown",
      "metadata": {
        "id": "kYNckTDmK8Yb"
      },
      "source": [
        "All stated names above are considered regions in Senegal except Foundiougne which is a part of Fatick"
      ]
    },
    {
      "cell_type": "code",
      "metadata": {
        "colab": {
          "base_uri": "https://localhost:8080/",
          "height": 282
        },
        "id": "oNB6cGBjKlFR",
        "outputId": "965f7226-be2d-42a2-da8a-0043939a5740"
      },
      "source": [
        "ports_senegal.plot()"
      ],
      "execution_count": 78,
      "outputs": [
        {
          "output_type": "execute_result",
          "data": {
            "text/plain": [
              "<matplotlib.axes._subplots.AxesSubplot at 0x7fec397919b0>"
            ]
          },
          "metadata": {
            "tags": []
          },
          "execution_count": 78
        },
        {
          "output_type": "display_data",
          "data": {
            "image/png": "[encoded data removed]",
            "text/plain": [
              "<Figure size 432x288 with 1 Axes>"
            ]
          },
          "metadata": {
            "tags": [],
            "needs_background": "light"
          }
        }
      ]
    },
    {
      "cell_type": "code",
      "metadata": {
        "colab": {
          "base_uri": "https://localhost:8080/"
        },
        "id": "pscq3a4HLK6_",
        "outputId": "ef1cd1f5-6427-4f1e-83c0-13bd3020c0d3"
      },
      "source": [
        "print(limites_administratives_region_senegal.crs);\r\n",
        "print(ports_senegal.crs)"
      ],
      "execution_count": 79,
      "outputs": [
        {
          "output_type": "stream",
          "text": [
            "epsg:4326\n",
            "epsg:4326\n"
          ],
          "name": "stdout"
        }
      ]
    },
    {
      "cell_type": "code",
      "metadata": {
        "colab": {
          "base_uri": "https://localhost:8080/",
          "height": 472
        },
        "id": "hwB4YMp1La7V",
        "outputId": "4b56a6c2-6481-4264-b716-c5ac9a3c9ac2"
      },
      "source": [
        "# Plot data\r\n",
        "f, ax = plt.subplots(figsize=(10, 10))\r\n",
        "\r\n",
        "limites_administratives_region_senegal.plot(ax=ax,\r\n",
        "                       edgecolor=\"blue\",\r\n",
        "                       color=\"white\")\r\n",
        "\r\n",
        "ports_senegal.plot(ax=ax,\r\n",
        "                color=\"grey\")\r\n",
        "ax.set(title=\"Plot of study area Senegalese ports\")\r\n",
        "plt.show()"
      ],
      "execution_count": 82,
      "outputs": [
        {
          "output_type": "display_data",
          "data": {
            "image/png": "[encoded data removed]",
            "text/plain": [
              "<Figure size 720x720 with 1 Axes>"
            ]
          },
          "metadata": {
            "tags": [],
            "needs_background": "light"
          }
        }
      ]
    },
    {
      "cell_type": "code",
      "metadata": {
        "id": "azmtfYbpSGnV"
      },
      "source": [
        "#future updated will be needed in this tutorial"
      ],
      "execution_count": 93,
      "outputs": []
    }
  ]
}