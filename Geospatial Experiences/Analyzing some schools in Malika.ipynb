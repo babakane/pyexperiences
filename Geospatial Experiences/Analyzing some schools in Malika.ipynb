{
 "cells": [
  {
   "cell_type": "markdown",
   "metadata": {},
   "source": [
    "## Analyzing spatial data in Python: Schools in Malika, Dakar, Senegal"
   ]
  },
  {
   "cell_type": "markdown",
   "metadata": {},
   "source": [
    "Today, i will anaylyze some school point location in Malika. The goal is to visualize these schools in Malika and see if some of them are within the shape of Malika. I will also show how to check distance between different schools together"
   ]
  },
  {
   "cell_type": "markdown",
   "metadata": {},
   "source": [
    "I will load some school data that i extracted from google earth pro, saving my research to kml file and opened it with microsoft excel then clean up my data, take the needed part only and load it here with pandas."
   ]
  },
  {
   "cell_type": "code",
   "execution_count": 290,
   "metadata": {},
   "outputs": [],
   "source": [
    "import pandas as pd\n",
    "import geopandas\n",
    "import osmnx as ox\n",
    "import matplotlib.pyplot as plt\n",
    "from shapely.geometry import Point, Polygon"
   ]
  },
  {
   "cell_type": "code",
   "execution_count": 291,
   "metadata": {},
   "outputs": [],
   "source": [
    "some_schools_in_Malika = pd.read_excel('D:\\Research\\PROJECT\\pyexeriences\\Geospatial experiences\\data\\some_schools_in_malika.xlsx')\n"
   ]
  },
  {
   "cell_type": "code",
   "execution_count": 292,
   "metadata": {},
   "outputs": [
    {
     "data": {
      "text/html": [
       "<div>\n",
       "<style scoped>\n",
       "    .dataframe tbody tr th:only-of-type {\n",
       "        vertical-align: middle;\n",
       "    }\n",
       "\n",
       "    .dataframe tbody tr th {\n",
       "        vertical-align: top;\n",
       "    }\n",
       "\n",
       "    .dataframe thead th {\n",
       "        text-align: right;\n",
       "    }\n",
       "</style>\n",
       "<table border=\"1\" class=\"dataframe\">\n",
       "  <thead>\n",
       "    <tr style=\"text-align: right;\">\n",
       "      <th></th>\n",
       "      <th>school_name</th>\n",
       "      <th>addresses</th>\n",
       "      <th>coordinates</th>\n",
       "      <th>phone_contacts</th>\n",
       "    </tr>\n",
       "  </thead>\n",
       "  <tbody>\n",
       "    <tr>\n",
       "      <th>0</th>\n",
       "      <td>Institut Biblique, Malika Sénégal</td>\n",
       "      <td>Malika, Senegal</td>\n",
       "      <td>-17.337383, 14.796181</td>\n",
       "      <td>NaN</td>\n",
       "    </tr>\n",
       "    <tr>\n",
       "      <th>1</th>\n",
       "      <td>Elementary School Malika Plage</td>\n",
       "      <td>Malika, Senegal</td>\n",
       "      <td>-17.337383, 14.796181</td>\n",
       "      <td>NaN</td>\n",
       "    </tr>\n",
       "    <tr>\n",
       "      <th>2</th>\n",
       "      <td>Keur Serigne Touba</td>\n",
       "      <td>Malika Plage, Senegal</td>\n",
       "      <td>-17.3363701, 14.7963104</td>\n",
       "      <td>+221 76 002 83 91</td>\n",
       "    </tr>\n",
       "    <tr>\n",
       "      <th>3</th>\n",
       "      <td>Gs Cholaye</td>\n",
       "      <td>Malika plage, Malika, Senegal</td>\n",
       "      <td>-17.3376452, 14.8007407</td>\n",
       "      <td>+221 77 381 32 10</td>\n",
       "    </tr>\n",
       "    <tr>\n",
       "      <th>4</th>\n",
       "      <td>School Houddalah</td>\n",
       "      <td>Malika- Cite Sonatel Road, Senegal</td>\n",
       "      <td>-17.338977, 14.785753</td>\n",
       "      <td>NaN</td>\n",
       "    </tr>\n",
       "  </tbody>\n",
       "</table>\n",
       "</div>"
      ],
      "text/plain": [
       "                         school_name                           addresses  \\\n",
       "0  Institut Biblique, Malika Sénégal                     Malika, Senegal   \n",
       "1     Elementary School Malika Plage                     Malika, Senegal   \n",
       "2                 Keur Serigne Touba               Malika Plage, Senegal   \n",
       "3                         Gs Cholaye       Malika plage, Malika, Senegal   \n",
       "4                   School Houddalah  Malika- Cite Sonatel Road, Senegal   \n",
       "\n",
       "               coordinates     phone_contacts  \n",
       "0    -17.337383, 14.796181                NaN  \n",
       "1    -17.337383, 14.796181                NaN  \n",
       "2  -17.3363701, 14.7963104  +221 76 002 83 91  \n",
       "3  -17.3376452, 14.8007407  +221 77 381 32 10  \n",
       "4    -17.338977, 14.785753                NaN  "
      ]
     },
     "execution_count": 292,
     "metadata": {},
     "output_type": "execute_result"
    }
   ],
   "source": [
    "some_schools_in_Malika.head()"
   ]
  },
  {
   "cell_type": "code",
   "execution_count": 293,
   "metadata": {},
   "outputs": [
    {
     "data": {
      "text/plain": [
       "30"
      ]
     },
     "execution_count": 293,
     "metadata": {},
     "output_type": "execute_result"
    }
   ],
   "source": [
    "len(some_schools_in_Malika)"
   ]
  },
  {
   "cell_type": "markdown",
   "metadata": {},
   "source": [
    "I will check which address is not containing Malika, but that doesn't mean it's not in Malika."
   ]
  },
  {
   "cell_type": "code",
   "execution_count": 294,
   "metadata": {},
   "outputs": [],
   "source": [
    "malika_not_in_address = [i for i in some_schools_in_Malika['addresses'] if \"Malika\" not in i]"
   ]
  },
  {
   "cell_type": "code",
   "execution_count": 295,
   "metadata": {},
   "outputs": [
    {
     "data": {
      "text/plain": [
       "['Dakar, Senegal',\n",
       " 'Dakar, Senegal',\n",
       " 'Unnamed Road, Senegal',\n",
       " 'Unnamed Road, Senegal',\n",
       " 'Dakar, Senegal',\n",
       " 'keur massar, Sénégal P.A, Senegal',\n",
       " 'Ecole Unité 17, Keur Massar, Senegal',\n",
       " 'Senegal',\n",
       " 'Dakar, Senegal',\n",
       " 'Dakar, Senegal',\n",
       " 'Keur Massar, Senegal',\n",
       " 'Keur Massar, Senegal',\n",
       " 'Dakar, Senegal',\n",
       " 'Unnamed Road, Dakar, Senegal',\n",
       " 'Keur Massar, Senegal',\n",
       " 'Senegal',\n",
       " 'Dakar, Senegal',\n",
       " 'Senegal',\n",
       " 'Unnamed Road, Senegal']"
      ]
     },
     "execution_count": 295,
     "metadata": {},
     "output_type": "execute_result"
    }
   ],
   "source": [
    "malika_not_in_address"
   ]
  },
  {
   "cell_type": "code",
   "execution_count": 296,
   "metadata": {},
   "outputs": [
    {
     "data": {
      "text/plain": [
       "19"
      ]
     },
     "execution_count": 296,
     "metadata": {},
     "output_type": "execute_result"
    }
   ],
   "source": [
    "len(malika_not_in_address)"
   ]
  },
  {
   "cell_type": "markdown",
   "metadata": {},
   "source": [
    "We have 19 addresses that are already in 'Keur Massar', a neighbor city of Malika. Malika and Keur Massar are linked together directly (no natural border between them)."
   ]
  },
  {
   "cell_type": "markdown",
   "metadata": {},
   "source": [
    "As i live in Malika since almost 2002 or little later, i think the real Malika is starting almost from 'Tali bukhonk' (means a red road) to down of 'Malika Montagne'. I will try to keep the border geometries to these two locations. Any school out of these two points will be considered out of Malika"
   ]
  },
  {
   "cell_type": "code",
   "execution_count": 297,
   "metadata": {
    "scrolled": true
   },
   "outputs": [
    {
     "data": {
      "text/plain": [
       "school_name       object\n",
       "addresses         object\n",
       "coordinates       object\n",
       "phone_contacts    object\n",
       "dtype: object"
      ]
     },
     "execution_count": 297,
     "metadata": {},
     "output_type": "execute_result"
    }
   ],
   "source": [
    "# Checking the data type of our data\n",
    "some_schools_in_Malika.dtypes"
   ]
  },
  {
   "cell_type": "code",
   "execution_count": 298,
   "metadata": {},
   "outputs": [
    {
     "data": {
      "text/plain": [
       "Index(['school_name', 'addresses', 'coordinates', 'phone_contacts'], dtype='object')"
      ]
     },
     "execution_count": 298,
     "metadata": {},
     "output_type": "execute_result"
    }
   ],
   "source": [
    "# Remove any space within the columns\n",
    "some_schools_in_Malika.columns = some_schools_in_Malika.columns.str.strip()\n",
    "some_schools_in_Malika.columns"
   ]
  },
  {
   "cell_type": "code",
   "execution_count": 299,
   "metadata": {},
   "outputs": [],
   "source": [
    "some_schools_in_Malika[['longitude', 'latitude']] = some_schools_in_Malika['coordinates'].str.split(', ', expand=True)"
   ]
  },
  {
   "cell_type": "code",
   "execution_count": 300,
   "metadata": {},
   "outputs": [
    {
     "data": {
      "text/html": [
       "<div>\n",
       "<style scoped>\n",
       "    .dataframe tbody tr th:only-of-type {\n",
       "        vertical-align: middle;\n",
       "    }\n",
       "\n",
       "    .dataframe tbody tr th {\n",
       "        vertical-align: top;\n",
       "    }\n",
       "\n",
       "    .dataframe thead th {\n",
       "        text-align: right;\n",
       "    }\n",
       "</style>\n",
       "<table border=\"1\" class=\"dataframe\">\n",
       "  <thead>\n",
       "    <tr style=\"text-align: right;\">\n",
       "      <th></th>\n",
       "      <th>school_name</th>\n",
       "      <th>addresses</th>\n",
       "      <th>coordinates</th>\n",
       "      <th>phone_contacts</th>\n",
       "      <th>longitude</th>\n",
       "      <th>latitude</th>\n",
       "    </tr>\n",
       "  </thead>\n",
       "  <tbody>\n",
       "    <tr>\n",
       "      <th>0</th>\n",
       "      <td>Institut Biblique, Malika Sénégal</td>\n",
       "      <td>Malika, Senegal</td>\n",
       "      <td>-17.337383, 14.796181</td>\n",
       "      <td>NaN</td>\n",
       "      <td>-17.337383</td>\n",
       "      <td>14.796181</td>\n",
       "    </tr>\n",
       "    <tr>\n",
       "      <th>1</th>\n",
       "      <td>Elementary School Malika Plage</td>\n",
       "      <td>Malika, Senegal</td>\n",
       "      <td>-17.337383, 14.796181</td>\n",
       "      <td>NaN</td>\n",
       "      <td>-17.337383</td>\n",
       "      <td>14.796181</td>\n",
       "    </tr>\n",
       "    <tr>\n",
       "      <th>2</th>\n",
       "      <td>Keur Serigne Touba</td>\n",
       "      <td>Malika Plage, Senegal</td>\n",
       "      <td>-17.3363701, 14.7963104</td>\n",
       "      <td>+221 76 002 83 91</td>\n",
       "      <td>-17.3363701</td>\n",
       "      <td>14.7963104</td>\n",
       "    </tr>\n",
       "    <tr>\n",
       "      <th>3</th>\n",
       "      <td>Gs Cholaye</td>\n",
       "      <td>Malika plage, Malika, Senegal</td>\n",
       "      <td>-17.3376452, 14.8007407</td>\n",
       "      <td>+221 77 381 32 10</td>\n",
       "      <td>-17.3376452</td>\n",
       "      <td>14.8007407</td>\n",
       "    </tr>\n",
       "    <tr>\n",
       "      <th>4</th>\n",
       "      <td>School Houddalah</td>\n",
       "      <td>Malika- Cite Sonatel Road, Senegal</td>\n",
       "      <td>-17.338977, 14.785753</td>\n",
       "      <td>NaN</td>\n",
       "      <td>-17.338977</td>\n",
       "      <td>14.785753</td>\n",
       "    </tr>\n",
       "  </tbody>\n",
       "</table>\n",
       "</div>"
      ],
      "text/plain": [
       "                         school_name                           addresses  \\\n",
       "0  Institut Biblique, Malika Sénégal                     Malika, Senegal   \n",
       "1     Elementary School Malika Plage                     Malika, Senegal   \n",
       "2                 Keur Serigne Touba               Malika Plage, Senegal   \n",
       "3                         Gs Cholaye       Malika plage, Malika, Senegal   \n",
       "4                   School Houddalah  Malika- Cite Sonatel Road, Senegal   \n",
       "\n",
       "               coordinates     phone_contacts    longitude    latitude  \n",
       "0    -17.337383, 14.796181                NaN   -17.337383   14.796181  \n",
       "1    -17.337383, 14.796181                NaN   -17.337383   14.796181  \n",
       "2  -17.3363701, 14.7963104  +221 76 002 83 91  -17.3363701  14.7963104  \n",
       "3  -17.3376452, 14.8007407  +221 77 381 32 10  -17.3376452  14.8007407  \n",
       "4    -17.338977, 14.785753                NaN   -17.338977   14.785753  "
      ]
     },
     "execution_count": 300,
     "metadata": {},
     "output_type": "execute_result"
    }
   ],
   "source": [
    "some_schools_in_Malika.head()"
   ]
  },
  {
   "cell_type": "markdown",
   "metadata": {},
   "source": [
    "We have latitude and longitude in our data now, let's see"
   ]
  },
  {
   "cell_type": "code",
   "execution_count": 301,
   "metadata": {},
   "outputs": [
    {
     "data": {
      "text/plain": [
       "Index(['school_name', 'addresses', 'coordinates', 'phone_contacts',\n",
       "       'longitude', 'latitude'],\n",
       "      dtype='object')"
      ]
     },
     "execution_count": 301,
     "metadata": {},
     "output_type": "execute_result"
    }
   ],
   "source": [
    "some_schools_in_Malika.columns"
   ]
  },
  {
   "cell_type": "code",
   "execution_count": 302,
   "metadata": {},
   "outputs": [],
   "source": [
    "some_schools_in_Malika.to_excel('schools_in_malika_with_latlon.xlsx')"
   ]
  },
  {
   "cell_type": "markdown",
   "metadata": {},
   "source": [
    "Moving to create a spatial data "
   ]
  },
  {
   "cell_type": "code",
   "execution_count": 303,
   "metadata": {},
   "outputs": [],
   "source": [
    "geom_schools = geopandas.GeoDataFrame(some_schools_in_Malika, geometry = geopandas.points_from_xy(some_schools_in_Malika.longitude, some_schools_in_Malika.latitude))"
   ]
  },
  {
   "cell_type": "code",
   "execution_count": 304,
   "metadata": {},
   "outputs": [
    {
     "data": {
      "text/html": [
       "<div>\n",
       "<style scoped>\n",
       "    .dataframe tbody tr th:only-of-type {\n",
       "        vertical-align: middle;\n",
       "    }\n",
       "\n",
       "    .dataframe tbody tr th {\n",
       "        vertical-align: top;\n",
       "    }\n",
       "\n",
       "    .dataframe thead th {\n",
       "        text-align: right;\n",
       "    }\n",
       "</style>\n",
       "<table border=\"1\" class=\"dataframe\">\n",
       "  <thead>\n",
       "    <tr style=\"text-align: right;\">\n",
       "      <th></th>\n",
       "      <th>school_name</th>\n",
       "      <th>addresses</th>\n",
       "      <th>coordinates</th>\n",
       "      <th>phone_contacts</th>\n",
       "      <th>longitude</th>\n",
       "      <th>latitude</th>\n",
       "      <th>geometry</th>\n",
       "    </tr>\n",
       "  </thead>\n",
       "  <tbody>\n",
       "    <tr>\n",
       "      <th>0</th>\n",
       "      <td>Institut Biblique, Malika Sénégal</td>\n",
       "      <td>Malika, Senegal</td>\n",
       "      <td>-17.337383, 14.796181</td>\n",
       "      <td>NaN</td>\n",
       "      <td>-17.337383</td>\n",
       "      <td>14.796181</td>\n",
       "      <td>POINT (-17.33738 14.79618)</td>\n",
       "    </tr>\n",
       "    <tr>\n",
       "      <th>1</th>\n",
       "      <td>Elementary School Malika Plage</td>\n",
       "      <td>Malika, Senegal</td>\n",
       "      <td>-17.337383, 14.796181</td>\n",
       "      <td>NaN</td>\n",
       "      <td>-17.337383</td>\n",
       "      <td>14.796181</td>\n",
       "      <td>POINT (-17.33738 14.79618)</td>\n",
       "    </tr>\n",
       "    <tr>\n",
       "      <th>2</th>\n",
       "      <td>Keur Serigne Touba</td>\n",
       "      <td>Malika Plage, Senegal</td>\n",
       "      <td>-17.3363701, 14.7963104</td>\n",
       "      <td>+221 76 002 83 91</td>\n",
       "      <td>-17.3363701</td>\n",
       "      <td>14.7963104</td>\n",
       "      <td>POINT (-17.33637 14.79631)</td>\n",
       "    </tr>\n",
       "    <tr>\n",
       "      <th>3</th>\n",
       "      <td>Gs Cholaye</td>\n",
       "      <td>Malika plage, Malika, Senegal</td>\n",
       "      <td>-17.3376452, 14.8007407</td>\n",
       "      <td>+221 77 381 32 10</td>\n",
       "      <td>-17.3376452</td>\n",
       "      <td>14.8007407</td>\n",
       "      <td>POINT (-17.33765 14.80074)</td>\n",
       "    </tr>\n",
       "    <tr>\n",
       "      <th>4</th>\n",
       "      <td>School Houddalah</td>\n",
       "      <td>Malika- Cite Sonatel Road, Senegal</td>\n",
       "      <td>-17.338977, 14.785753</td>\n",
       "      <td>NaN</td>\n",
       "      <td>-17.338977</td>\n",
       "      <td>14.785753</td>\n",
       "      <td>POINT (-17.33898 14.78575)</td>\n",
       "    </tr>\n",
       "  </tbody>\n",
       "</table>\n",
       "</div>"
      ],
      "text/plain": [
       "                         school_name                           addresses  \\\n",
       "0  Institut Biblique, Malika Sénégal                     Malika, Senegal   \n",
       "1     Elementary School Malika Plage                     Malika, Senegal   \n",
       "2                 Keur Serigne Touba               Malika Plage, Senegal   \n",
       "3                         Gs Cholaye       Malika plage, Malika, Senegal   \n",
       "4                   School Houddalah  Malika- Cite Sonatel Road, Senegal   \n",
       "\n",
       "               coordinates     phone_contacts    longitude    latitude  \\\n",
       "0    -17.337383, 14.796181                NaN   -17.337383   14.796181   \n",
       "1    -17.337383, 14.796181                NaN   -17.337383   14.796181   \n",
       "2  -17.3363701, 14.7963104  +221 76 002 83 91  -17.3363701  14.7963104   \n",
       "3  -17.3376452, 14.8007407  +221 77 381 32 10  -17.3376452  14.8007407   \n",
       "4    -17.338977, 14.785753                NaN   -17.338977   14.785753   \n",
       "\n",
       "                     geometry  \n",
       "0  POINT (-17.33738 14.79618)  \n",
       "1  POINT (-17.33738 14.79618)  \n",
       "2  POINT (-17.33637 14.79631)  \n",
       "3  POINT (-17.33765 14.80074)  \n",
       "4  POINT (-17.33898 14.78575)  "
      ]
     },
     "execution_count": 304,
     "metadata": {},
     "output_type": "execute_result"
    }
   ],
   "source": [
    "geom_schools.head()"
   ]
  },
  {
   "cell_type": "code",
   "execution_count": 305,
   "metadata": {},
   "outputs": [
    {
     "data": {
      "text/plain": [
       "Index(['school_name', 'addresses', 'coordinates', 'phone_contacts',\n",
       "       'longitude', 'latitude', 'geometry'],\n",
       "      dtype='object')"
      ]
     },
     "execution_count": 305,
     "metadata": {},
     "output_type": "execute_result"
    }
   ],
   "source": [
    "geom_schools.columns"
   ]
  },
  {
   "cell_type": "code",
   "execution_count": 306,
   "metadata": {},
   "outputs": [],
   "source": [
    "# Delete some uncessary columns like coordinates since we have the lat, lon and geometry\n",
    "geom_schools.drop('coordinates', axis=1, inplace=True)"
   ]
  },
  {
   "cell_type": "code",
   "execution_count": 307,
   "metadata": {},
   "outputs": [
    {
     "data": {
      "text/html": [
       "<div>\n",
       "<style scoped>\n",
       "    .dataframe tbody tr th:only-of-type {\n",
       "        vertical-align: middle;\n",
       "    }\n",
       "\n",
       "    .dataframe tbody tr th {\n",
       "        vertical-align: top;\n",
       "    }\n",
       "\n",
       "    .dataframe thead th {\n",
       "        text-align: right;\n",
       "    }\n",
       "</style>\n",
       "<table border=\"1\" class=\"dataframe\">\n",
       "  <thead>\n",
       "    <tr style=\"text-align: right;\">\n",
       "      <th></th>\n",
       "      <th>school_name</th>\n",
       "      <th>addresses</th>\n",
       "      <th>phone_contacts</th>\n",
       "      <th>longitude</th>\n",
       "      <th>latitude</th>\n",
       "      <th>geometry</th>\n",
       "    </tr>\n",
       "  </thead>\n",
       "  <tbody>\n",
       "    <tr>\n",
       "      <th>0</th>\n",
       "      <td>Institut Biblique, Malika Sénégal</td>\n",
       "      <td>Malika, Senegal</td>\n",
       "      <td>NaN</td>\n",
       "      <td>-17.337383</td>\n",
       "      <td>14.796181</td>\n",
       "      <td>POINT (-17.33738 14.79618)</td>\n",
       "    </tr>\n",
       "    <tr>\n",
       "      <th>1</th>\n",
       "      <td>Elementary School Malika Plage</td>\n",
       "      <td>Malika, Senegal</td>\n",
       "      <td>NaN</td>\n",
       "      <td>-17.337383</td>\n",
       "      <td>14.796181</td>\n",
       "      <td>POINT (-17.33738 14.79618)</td>\n",
       "    </tr>\n",
       "    <tr>\n",
       "      <th>2</th>\n",
       "      <td>Keur Serigne Touba</td>\n",
       "      <td>Malika Plage, Senegal</td>\n",
       "      <td>+221 76 002 83 91</td>\n",
       "      <td>-17.3363701</td>\n",
       "      <td>14.7963104</td>\n",
       "      <td>POINT (-17.33637 14.79631)</td>\n",
       "    </tr>\n",
       "    <tr>\n",
       "      <th>3</th>\n",
       "      <td>Gs Cholaye</td>\n",
       "      <td>Malika plage, Malika, Senegal</td>\n",
       "      <td>+221 77 381 32 10</td>\n",
       "      <td>-17.3376452</td>\n",
       "      <td>14.8007407</td>\n",
       "      <td>POINT (-17.33765 14.80074)</td>\n",
       "    </tr>\n",
       "    <tr>\n",
       "      <th>4</th>\n",
       "      <td>School Houddalah</td>\n",
       "      <td>Malika- Cite Sonatel Road, Senegal</td>\n",
       "      <td>NaN</td>\n",
       "      <td>-17.338977</td>\n",
       "      <td>14.785753</td>\n",
       "      <td>POINT (-17.33898 14.78575)</td>\n",
       "    </tr>\n",
       "  </tbody>\n",
       "</table>\n",
       "</div>"
      ],
      "text/plain": [
       "                         school_name                           addresses  \\\n",
       "0  Institut Biblique, Malika Sénégal                     Malika, Senegal   \n",
       "1     Elementary School Malika Plage                     Malika, Senegal   \n",
       "2                 Keur Serigne Touba               Malika Plage, Senegal   \n",
       "3                         Gs Cholaye       Malika plage, Malika, Senegal   \n",
       "4                   School Houddalah  Malika- Cite Sonatel Road, Senegal   \n",
       "\n",
       "      phone_contacts    longitude    latitude                    geometry  \n",
       "0                NaN   -17.337383   14.796181  POINT (-17.33738 14.79618)  \n",
       "1                NaN   -17.337383   14.796181  POINT (-17.33738 14.79618)  \n",
       "2  +221 76 002 83 91  -17.3363701  14.7963104  POINT (-17.33637 14.79631)  \n",
       "3  +221 77 381 32 10  -17.3376452  14.8007407  POINT (-17.33765 14.80074)  \n",
       "4                NaN   -17.338977   14.785753  POINT (-17.33898 14.78575)  "
      ]
     },
     "execution_count": 307,
     "metadata": {},
     "output_type": "execute_result"
    }
   ],
   "source": [
    "geom_schools.head()"
   ]
  },
  {
   "cell_type": "code",
   "execution_count": 308,
   "metadata": {},
   "outputs": [
    {
     "data": {
      "text/plain": [
       "<AxesSubplot:>"
      ]
     },
     "execution_count": 308,
     "metadata": {},
     "output_type": "execute_result"
    },
    {
     "data": {
      "image/png": "[encoded data removed]",
      "text/plain": [
       "<Figure size 432x288 with 1 Axes>"
      ]
     },
     "metadata": {
      "needs_background": "light"
     },
     "output_type": "display_data"
    }
   ],
   "source": [
    "# Plotting our geometry point\n",
    "geom_schools.plot()"
   ]
  },
  {
   "cell_type": "code",
   "execution_count": 309,
   "metadata": {},
   "outputs": [],
   "source": [
    "# save to shapefile, \n",
    "geom_schools.to_file('D:\\Research\\PROJECT\\pyexeriences\\Geospatial experiences\\data\\schools_in_malika')"
   ]
  },
  {
   "cell_type": "markdown",
   "metadata": {},
   "source": [
    "The saved file is about a folder containing 4 files: .cpg, .dbf, .shp, .shx"
   ]
  },
  {
   "cell_type": "markdown",
   "metadata": {},
   "source": [
    "We stored our data to a shapefile, let's load it back here and see:"
   ]
  },
  {
   "cell_type": "code",
   "execution_count": 310,
   "metadata": {},
   "outputs": [],
   "source": [
    "s = geopandas.read_file('D:\\Research\\PROJECT\\pyexeriences\\Geospatial experiences\\data\\schools_in_malika\\schools_in_malika.shp')"
   ]
  },
  {
   "cell_type": "code",
   "execution_count": 311,
   "metadata": {},
   "outputs": [
    {
     "data": {
      "text/html": [
       "<div>\n",
       "<style scoped>\n",
       "    .dataframe tbody tr th:only-of-type {\n",
       "        vertical-align: middle;\n",
       "    }\n",
       "\n",
       "    .dataframe tbody tr th {\n",
       "        vertical-align: top;\n",
       "    }\n",
       "\n",
       "    .dataframe thead th {\n",
       "        text-align: right;\n",
       "    }\n",
       "</style>\n",
       "<table border=\"1\" class=\"dataframe\">\n",
       "  <thead>\n",
       "    <tr style=\"text-align: right;\">\n",
       "      <th></th>\n",
       "      <th>school_nam</th>\n",
       "      <th>addresses</th>\n",
       "      <th>phone_cont</th>\n",
       "      <th>longitude</th>\n",
       "      <th>latitude</th>\n",
       "      <th>geometry</th>\n",
       "    </tr>\n",
       "  </thead>\n",
       "  <tbody>\n",
       "    <tr>\n",
       "      <th>0</th>\n",
       "      <td>Institut Biblique, Malika Sénégal</td>\n",
       "      <td>Malika, Senegal</td>\n",
       "      <td>None</td>\n",
       "      <td>-17.337383</td>\n",
       "      <td>14.796181</td>\n",
       "      <td>POINT (-17.33738 14.79618)</td>\n",
       "    </tr>\n",
       "    <tr>\n",
       "      <th>1</th>\n",
       "      <td>Elementary School Malika Plage</td>\n",
       "      <td>Malika, Senegal</td>\n",
       "      <td>None</td>\n",
       "      <td>-17.337383</td>\n",
       "      <td>14.796181</td>\n",
       "      <td>POINT (-17.33738 14.79618)</td>\n",
       "    </tr>\n",
       "    <tr>\n",
       "      <th>2</th>\n",
       "      <td>Keur Serigne Touba</td>\n",
       "      <td>Malika Plage, Senegal</td>\n",
       "      <td>+221 76 002 83 91</td>\n",
       "      <td>-17.3363701</td>\n",
       "      <td>14.7963104</td>\n",
       "      <td>POINT (-17.33637 14.79631)</td>\n",
       "    </tr>\n",
       "    <tr>\n",
       "      <th>3</th>\n",
       "      <td>Gs Cholaye</td>\n",
       "      <td>Malika plage, Malika, Senegal</td>\n",
       "      <td>+221 77 381 32 10</td>\n",
       "      <td>-17.3376452</td>\n",
       "      <td>14.8007407</td>\n",
       "      <td>POINT (-17.33765 14.80074)</td>\n",
       "    </tr>\n",
       "    <tr>\n",
       "      <th>4</th>\n",
       "      <td>School Houddalah</td>\n",
       "      <td>Malika- Cite Sonatel Road, Senegal</td>\n",
       "      <td>None</td>\n",
       "      <td>-17.338977</td>\n",
       "      <td>14.785753</td>\n",
       "      <td>POINT (-17.33898 14.78575)</td>\n",
       "    </tr>\n",
       "  </tbody>\n",
       "</table>\n",
       "</div>"
      ],
      "text/plain": [
       "                          school_nam                           addresses  \\\n",
       "0  Institut Biblique, Malika Sénégal                     Malika, Senegal   \n",
       "1     Elementary School Malika Plage                     Malika, Senegal   \n",
       "2                 Keur Serigne Touba               Malika Plage, Senegal   \n",
       "3                         Gs Cholaye       Malika plage, Malika, Senegal   \n",
       "4                   School Houddalah  Malika- Cite Sonatel Road, Senegal   \n",
       "\n",
       "          phone_cont    longitude    latitude                    geometry  \n",
       "0               None   -17.337383   14.796181  POINT (-17.33738 14.79618)  \n",
       "1               None   -17.337383   14.796181  POINT (-17.33738 14.79618)  \n",
       "2  +221 76 002 83 91  -17.3363701  14.7963104  POINT (-17.33637 14.79631)  \n",
       "3  +221 77 381 32 10  -17.3376452  14.8007407  POINT (-17.33765 14.80074)  \n",
       "4               None   -17.338977   14.785753  POINT (-17.33898 14.78575)  "
      ]
     },
     "execution_count": 311,
     "metadata": {},
     "output_type": "execute_result"
    }
   ],
   "source": [
    "s.head()"
   ]
  },
  {
   "cell_type": "code",
   "execution_count": 312,
   "metadata": {},
   "outputs": [
    {
     "data": {
      "text/plain": [
       "geopandas.geodataframe.GeoDataFrame"
      ]
     },
     "execution_count": 312,
     "metadata": {},
     "output_type": "execute_result"
    }
   ],
   "source": [
    "type(s)"
   ]
  },
  {
   "cell_type": "markdown",
   "metadata": {},
   "source": [
    "## Point in Polygon"
   ]
  },
  {
   "cell_type": "markdown",
   "metadata": {},
   "source": [
    "I will extract the Polygon of Malika and see which schools are lying within the polygon and which are not"
   ]
  },
  {
   "cell_type": "code",
   "execution_count": 313,
   "metadata": {},
   "outputs": [],
   "source": [
    "# TRYING TO GET POLYGON OF MALIKA WITH GEOPANDAS\n",
    "ms = geopandas.tools.geocode('Malika, Senegal', provider= 'Nominatim', user_agent= 'exercice')"
   ]
  },
  {
   "cell_type": "code",
   "execution_count": 314,
   "metadata": {
    "scrolled": true
   },
   "outputs": [
    {
     "data": {
      "text/html": [
       "<div>\n",
       "<style scoped>\n",
       "    .dataframe tbody tr th:only-of-type {\n",
       "        vertical-align: middle;\n",
       "    }\n",
       "\n",
       "    .dataframe tbody tr th {\n",
       "        vertical-align: top;\n",
       "    }\n",
       "\n",
       "    .dataframe thead th {\n",
       "        text-align: right;\n",
       "    }\n",
       "</style>\n",
       "<table border=\"1\" class=\"dataframe\">\n",
       "  <thead>\n",
       "    <tr style=\"text-align: right;\">\n",
       "      <th></th>\n",
       "      <th>geometry</th>\n",
       "      <th>address</th>\n",
       "    </tr>\n",
       "  </thead>\n",
       "  <tbody>\n",
       "    <tr>\n",
       "      <th>0</th>\n",
       "      <td>POINT (-17.33760 14.80148)</td>\n",
       "      <td>Malika, Dakar, 20896, Sénégal</td>\n",
       "    </tr>\n",
       "  </tbody>\n",
       "</table>\n",
       "</div>"
      ],
      "text/plain": [
       "                     geometry                        address\n",
       "0  POINT (-17.33760 14.80148)  Malika, Dakar, 20896, Sénégal"
      ]
     },
     "execution_count": 314,
     "metadata": {},
     "output_type": "execute_result"
    }
   ],
   "source": [
    "ms"
   ]
  },
  {
   "cell_type": "markdown",
   "metadata": {},
   "source": [
    "We have Point geometry type here, i would like to have a Polygon. I will later try with osmnx and if i don't get it, then i will manually extract the geometries with google earth pro"
   ]
  },
  {
   "cell_type": "code",
   "execution_count": 315,
   "metadata": {},
   "outputs": [
    {
     "data": {
      "text/plain": [
       "<AxesSubplot:>"
      ]
     },
     "execution_count": 315,
     "metadata": {},
     "output_type": "execute_result"
    },
    {
     "data": {
      "image/png": "[encoded data removed]",
      "text/plain": [
       "<Figure size 432x288 with 1 Axes>"
      ]
     },
     "metadata": {
      "needs_background": "light"
     },
     "output_type": "display_data"
    }
   ],
   "source": [
    "ms.plot()"
   ]
  },
  {
   "cell_type": "code",
   "execution_count": 316,
   "metadata": {},
   "outputs": [],
   "source": [
    "# Extracting polygon of Malika with osmnx library but not easy\n",
    "#shape_malika = ox.geocode_to_gdf('Malika Senegal')"
   ]
  },
  {
   "cell_type": "code",
   "execution_count": 317,
   "metadata": {},
   "outputs": [],
   "source": [
    "malika_point = Point(-17.33721052118471, 14.798335688964817) \n",
    "# This code can be done through ms variable created above\n",
    "# points = ms.geometry"
   ]
  },
  {
   "cell_type": "code",
   "execution_count": 318,
   "metadata": {},
   "outputs": [
    {
     "data": {
      "image/svg+xml": [
       "<svg xmlns=\"http://www.w3.org/2000/svg\" xmlns:xlink=\"http://www.w3.org/1999/xlink\" width=\"100.0\" height=\"100.0\" viewBox=\"-18.33721052118471 13.798335688964817 2.0 2.0\" preserveAspectRatio=\"xMinYMin meet\"><g transform=\"matrix(1,0,0,-1,0,29.596671377929635)\"><circle cx=\"-17.33721052118471\" cy=\"14.798335688964817\" r=\"0.06\" stroke=\"#555555\" stroke-width=\"0.02\" fill=\"#66cc99\" opacity=\"0.6\" /></g></svg>"
      ],
      "text/plain": [
       "<shapely.geometry.point.Point at 0x4aea0d60>"
      ]
     },
     "execution_count": 318,
     "metadata": {},
     "output_type": "execute_result"
    }
   ],
   "source": [
    "malika_point"
   ]
  },
  {
   "cell_type": "code",
   "execution_count": 319,
   "metadata": {},
   "outputs": [],
   "source": [
    "# Here i will create a Polygon of Malika within 1000m (1km) between 'Ben Barak' and 'Keur Massar'. The polygon here is about a circle \n",
    "buffer_malika = Polygon(malika_point.buffer(1000))"
   ]
  },
  {
   "cell_type": "code",
   "execution_count": 320,
   "metadata": {},
   "outputs": [
    {
     "data": {
      "text/plain": [
       "True"
      ]
     },
     "execution_count": 320,
     "metadata": {},
     "output_type": "execute_result"
    }
   ],
   "source": [
    "# Check if Malika point we created earlier is in the buffered Polygon\n",
    "buffer_malika.contains(malika_point)"
   ]
  },
  {
   "cell_type": "code",
   "execution_count": 333,
   "metadata": {},
   "outputs": [],
   "source": [
    "# Check if my actual location where i'm in Malika is within the Polygon\n",
    "actual_location = Point(-17.336645000001983, 14.792184253470058) # The point i copied it from google map"
   ]
  },
  {
   "cell_type": "code",
   "execution_count": 322,
   "metadata": {
    "scrolled": true
   },
   "outputs": [
    {
     "data": {
      "text/plain": [
       "True"
      ]
     },
     "execution_count": 322,
     "metadata": {},
     "output_type": "execute_result"
    }
   ],
   "source": [
    "buffer_malika.contains(actual_location)"
   ]
  },
  {
   "cell_type": "code",
   "execution_count": 332,
   "metadata": {},
   "outputs": [
    {
     "data": {
      "text/plain": [
       "3136548.4905459387"
      ]
     },
     "execution_count": 332,
     "metadata": {},
     "output_type": "execute_result"
    }
   ],
   "source": [
    "buffer_malika.area"
   ]
  },
  {
   "cell_type": "code",
   "execution_count": 331,
   "metadata": {},
   "outputs": [
    {
     "data": {
      "text/plain": [
       "'Polygon'"
      ]
     },
     "execution_count": 331,
     "metadata": {},
     "output_type": "execute_result"
    }
   ],
   "source": [
    "buffer_malika.geom_type"
   ]
  },
  {
   "cell_type": "markdown",
   "metadata": {},
   "source": [
    "### Another method to buffer a location or to create a Polygon of an area"
   ]
  },
  {
   "cell_type": "code",
   "execution_count": 330,
   "metadata": {},
   "outputs": [],
   "source": [
    " from functools import partial\n",
    " import pyproj\n",
    " from shapely.ops import transform"
   ]
  },
  {
   "cell_type": "code",
   "execution_count": 329,
   "metadata": {},
   "outputs": [],
   "source": [
    "proj_wgs84 = pyproj.Proj('+proj=longlat +datum=WGS84')"
   ]
  },
  {
   "cell_type": "code",
   "execution_count": 328,
   "metadata": {},
   "outputs": [],
   "source": [
    "def geodesic_point_buffer(lat, lon, km):\n",
    "    # Azimuthal equidistant projection\n",
    "    aeqd_proj = '+proj=aeqd +lat_0={lat} +lon_0={lon} +x_0=0 +y_0=0'\n",
    "    project = partial(\n",
    "        pyproj.transform,\n",
    "        pyproj.Proj(aeqd_proj.format(lat=lat, lon=lon)),\n",
    "        proj_wgs84)\n",
    "    buf = Point(0, 0).buffer(km * 1000)  # distance in metres\n",
    "    return transform(project, buf).exterior.coords[:]"
   ]
  },
  {
   "cell_type": "code",
   "execution_count": 327,
   "metadata": {},
   "outputs": [],
   "source": [
    "poly_malika = geodesic_point_buffer(14.798335688964817, -17.33721052118471, 1)\n"
   ]
  },
  {
   "cell_type": "code",
   "execution_count": 326,
   "metadata": {},
   "outputs": [],
   "source": [
    "poly_malika = Polygon(poly_malika)"
   ]
  },
  {
   "cell_type": "code",
   "execution_count": 325,
   "metadata": {},
   "outputs": [
    {
     "data": {
      "text/plain": [
       "shapely.geometry.polygon.Polygon"
      ]
     },
     "execution_count": 325,
     "metadata": {},
     "output_type": "execute_result"
    }
   ],
   "source": [
    "type(poly_malika)"
   ]
  },
  {
   "cell_type": "code",
   "execution_count": 324,
   "metadata": {},
   "outputs": [
    {
     "data": {
      "image/svg+xml": [
       "<svg xmlns=\"http://www.w3.org/2000/svg\" xmlns:xlink=\"http://www.w3.org/1999/xlink\" width=\"100.0\" height=\"100.0\" viewBox=\"-17.347242975898943 14.788554769686412 0.020064909428484157 0.019561831483466463\" preserveAspectRatio=\"xMinYMin meet\"><g transform=\"matrix(1,0,0,-1,0,29.596671370856292)\"><path fill-rule=\"evenodd\" fill=\"#66cc99\" stroke=\"#555555\" stroke-width=\"0.0004012981885696831\" opacity=\"0.6\" d=\"M -17.32792121126411,14.79833550183494 L -17.32796597935276,14.797449647139791 L -17.328099776350417,14.796572327186261 L -17.32832131267998,14.795711990894441 L -17.328628453868223,14.794876923528635 L -17.329018241138687,14.794075166915178 L -17.329486919938564,14.793314442007869 L -17.330029976123466,14.792602074546389 L -17.330642179450784,14.791944924522966 L -17.331317633961824,14.791349320135952 L -17.332049834767158,14.790820996865637 L -17.33283173068816,14.790365042258236 L -17.333655792151585,14.789985846949063 L -17.33451408368379,14.789687062395867 L -17.33539834030722,14.789471565728658 L -17.336300047104448,14.789341432054027 L -17.3372105211847,14.78929791448006 L -17.338120995264955,14.789341432054027 L -17.339022702062184,14.789471565728656 L -17.339906958685614,14.789687062395863 L -17.340765250217814,14.789985846949067 L -17.341589311681243,14.790365042258237 L -17.342371207602245,14.79082099686564 L -17.34310340840758,14.791349320135952 L -17.343778862918615,14.79194492452297 L -17.344391066245937,14.792602074546389 L -17.344934122430843,14.793314442007873 L -17.345402801230716,14.794075166915178 L -17.34579258850118,14.794876923528635 L -17.346099729689428,14.795711990894443 L -17.346321266018986,14.796572327186265 L -17.346455063016645,14.797449647139793 L -17.346499831105294,14.79833550183494 L -17.346455138063224,14.799221360057778 L -17.34632141322816,14.800098690458816 L -17.346099943404024,14.800959043716475 L -17.34579286050827,14.801794133914452 L -17.34540312107721,14.802595918348988 L -17.344934477825227,14.803356674997131 L -17.344391443530604,14.804069076899438 L -17.34377924759473,14.80472626274012 L -17.343103785692254,14.805321902944394 L -17.342371562996636,14.805850260655522 L -17.341589631527743,14.80630624700377 L -17.34076552222491,14.806685470134024 L -17.339907172400213,14.806984277519398 L -17.33902284927136,14.807199791152437 L -17.338121070311544,14.807329935274574 L -17.3372105211847,14.807373456376231 L -17.336299972057862,14.807329935274574 L -17.335398193098044,14.807199791152437 L -17.334513869969186,14.806984277519398 L -17.333655520144493,14.806685470134028 L -17.33283141084166,14.80630624700377 L -17.332049479372767,14.805850260655527 L -17.33131725667715,14.805321902944394 L -17.33064179477467,14.80472626274012 L -17.330029598838795,14.804069076899438 L -17.32948656454417,14.803356674997135 L -17.32901792129219,14.802595918348988 L -17.328628181861134,14.801794133914452 L -17.32832109896538,14.800959043716478 L -17.328099629141242,14.800098690458816 L -17.327965904306172,14.799221360057782 L -17.32792121126411,14.79833550183494 L -17.32792121126411,14.79833550183494 z\" /></g></svg>"
      ],
      "text/plain": [
       "<shapely.geometry.polygon.Polygon at 0x1c8b4e80>"
      ]
     },
     "execution_count": 324,
     "metadata": {},
     "output_type": "execute_result"
    }
   ],
   "source": [
    "poly_malika"
   ]
  },
  {
   "cell_type": "code",
   "execution_count": 289,
   "metadata": {
    "scrolled": true
   },
   "outputs": [],
   "source": [
    "# Checking those points (schools) within the Polygon of Malika. Note: The polygon of Malika is just a buffer of 1km, around 1000m\n",
    "within_points = [geom_schools.geometry[i].within(poly_malika) for i in range(geom_schools.geometry.count())]\n"
   ]
  },
  {
   "cell_type": "code",
   "execution_count": 288,
   "metadata": {},
   "outputs": [
    {
     "data": {
      "text/plain": [
       "11"
      ]
     },
     "execution_count": 288,
     "metadata": {},
     "output_type": "execute_result"
    }
   ],
   "source": [
    "# Checking the True of schools within our polygon\n",
    "tr = [i for i in within_points if i == True]\n",
    "len(tr)"
   ]
  },
  {
   "cell_type": "code",
   "execution_count": 287,
   "metadata": {},
   "outputs": [
    {
     "data": {
      "text/plain": [
       "19"
      ]
     },
     "execution_count": 287,
     "metadata": {},
     "output_type": "execute_result"
    }
   ],
   "source": [
    "# Checking the point that are not within the polygon, the false ones\n",
    "fa = [i for i in within_points if i == False]\n",
    "len(fa)"
   ]
  },
  {
   "cell_type": "markdown",
   "metadata": {},
   "source": [
    "There are 11 point locations (schools) that are in 'Malika' area and the rest are in the neighbor municipalities like 'Keur Massar', 'Yeumbeul', 'Keur Massar'...\n"
   ]
  },
  {
   "cell_type": "code",
   "execution_count": null,
   "metadata": {},
   "outputs": [],
   "source": [
    "only_malika = geom_schools[geom_schools['addresses'].str.contains('Malika')]\n",
    "#only_malika.reset_index(drop=True, inplace=True)\n",
    "fig, ax = plt.subplots()\n",
    "only_malika.plot(ax=ax, facecolor='black');\n",
    "geom_schools.plot(ax=ax, facecolor='yellow');\n",
    "#data.plot(ax=ax, color='blue', markersize=5);\n",
    "plt.tight_layout();"
   ]
  },
  {
   "cell_type": "code",
   "execution_count": null,
   "metadata": {},
   "outputs": [],
   "source": [
    "geopandas.GeoDataFrame(poly_malika.coords)"
   ]
  },
  {
   "cell_type": "markdown",
   "metadata": {},
   "source": [
    "Malika is one of municipalities of Pikine (a department of Dakar). Let's extract Dakar region and map the schools on it\n"
   ]
  },
  {
   "cell_type": "code",
   "execution_count": 184,
   "metadata": {},
   "outputs": [],
   "source": [
    "dakar_region = ox.graph_from_place('Dakar Senegal')"
   ]
  },
  {
   "cell_type": "code",
   "execution_count": 185,
   "metadata": {},
   "outputs": [
    {
     "data": {
      "image/png": "[encoded data removed]",
      "text/plain": [
       "<Figure size 576x576 with 1 Axes>"
      ]
     },
     "metadata": {},
     "output_type": "display_data"
    },
    {
     "data": {
      "text/plain": [
       "(<Figure size 576x576 with 1 Axes>, <AxesSubplot:>)"
      ]
     },
     "execution_count": 185,
     "metadata": {},
     "output_type": "execute_result"
    }
   ],
   "source": [
    "ox.plot_graph(dakar_region)"
   ]
  },
  {
   "cell_type": "markdown",
   "metadata": {},
   "source": [
    "This is a graph shape of Dakar, the capital city of Senegal, Malika is one of the district in this region. Let's map all the schools in this city"
   ]
  },
  {
   "cell_type": "code",
   "execution_count": null,
   "metadata": {},
   "outputs": [],
   "source": []
  },
  {
   "cell_type": "code",
   "execution_count": 211,
   "metadata": {},
   "outputs": [],
   "source": [
    "city = ox.geocode_to_gdf('Malika village, Pikine, Dakar, Senegal')\n"
   ]
  },
  {
   "cell_type": "code",
   "execution_count": 212,
   "metadata": {},
   "outputs": [
    {
     "data": {
      "text/html": [
       "<div>\n",
       "<style scoped>\n",
       "    .dataframe tbody tr th:only-of-type {\n",
       "        vertical-align: middle;\n",
       "    }\n",
       "\n",
       "    .dataframe tbody tr th {\n",
       "        vertical-align: top;\n",
       "    }\n",
       "\n",
       "    .dataframe thead th {\n",
       "        text-align: right;\n",
       "    }\n",
       "</style>\n",
       "<table border=\"1\" class=\"dataframe\">\n",
       "  <thead>\n",
       "    <tr style=\"text-align: right;\">\n",
       "      <th></th>\n",
       "      <th>geometry</th>\n",
       "      <th>place_name</th>\n",
       "      <th>bbox_north</th>\n",
       "      <th>bbox_south</th>\n",
       "      <th>bbox_east</th>\n",
       "      <th>bbox_west</th>\n",
       "    </tr>\n",
       "  </thead>\n",
       "  <tbody>\n",
       "    <tr>\n",
       "      <th>0</th>\n",
       "      <td>POLYGON ((-17.34103 14.78713, -17.34094 14.787...</td>\n",
       "      <td>Mosquée Malika Sud, Route de Malika, Malika, D...</td>\n",
       "      <td>14.787283</td>\n",
       "      <td>14.787086</td>\n",
       "      <td>-17.340798</td>\n",
       "      <td>-17.341033</td>\n",
       "    </tr>\n",
       "  </tbody>\n",
       "</table>\n",
       "</div>"
      ],
      "text/plain": [
       "                                            geometry  \\\n",
       "0  POLYGON ((-17.34103 14.78713, -17.34094 14.787...   \n",
       "\n",
       "                                          place_name  bbox_north  bbox_south  \\\n",
       "0  Mosquée Malika Sud, Route de Malika, Malika, D...   14.787283   14.787086   \n",
       "\n",
       "   bbox_east  bbox_west  \n",
       "0 -17.340798 -17.341033  "
      ]
     },
     "execution_count": 212,
     "metadata": {},
     "output_type": "execute_result"
    }
   ],
   "source": [
    "city"
   ]
  },
  {
   "cell_type": "code",
   "execution_count": 213,
   "metadata": {},
   "outputs": [
    {
     "data": {
      "text/plain": [
       "<AxesSubplot:>"
      ]
     },
     "execution_count": 213,
     "metadata": {},
     "output_type": "execute_result"
    },
    {
     "data": {
      "image/png": "[encoded data removed]",
      "text/plain": [
       "<Figure size 432x288 with 1 Axes>"
      ]
     },
     "metadata": {
      "needs_background": "light"
     },
     "output_type": "display_data"
    }
   ],
   "source": [
    "city.plot()"
   ]
  },
  {
   "cell_type": "code",
   "execution_count": 214,
   "metadata": {},
   "outputs": [
    {
     "name": "stderr",
     "output_type": "stream",
     "text": [
      "<ipython-input-214-2f155db52f9a>:1: UserWarning: Geometry is in a geographic CRS. Results from 'area' are likely incorrect. Use 'GeoSeries.to_crs()' to re-project geometries to a projected CRS before this operation.\n",
      "\n",
      "  city.area\n"
     ]
    },
    {
     "data": {
      "text/plain": [
       "0    2.891240e-08\n",
       "dtype: float64"
      ]
     },
     "execution_count": 214,
     "metadata": {},
     "output_type": "execute_result"
    }
   ],
   "source": [
    "city.area"
   ]
  },
  {
   "cell_type": "code",
   "execution_count": 215,
   "metadata": {},
   "outputs": [
    {
     "data": {
      "text/plain": [
       "<Geographic 2D CRS: EPSG:4326>\n",
       "Name: WGS 84\n",
       "Axis Info [ellipsoidal]:\n",
       "- Lat[north]: Geodetic latitude (degree)\n",
       "- Lon[east]: Geodetic longitude (degree)\n",
       "Area of Use:\n",
       "- name: World.\n",
       "- bounds: (-180.0, -90.0, 180.0, 90.0)\n",
       "Datum: World Geodetic System 1984\n",
       "- Ellipsoid: WGS 84\n",
       "- Prime Meridian: Greenwich"
      ]
     },
     "execution_count": 215,
     "metadata": {},
     "output_type": "execute_result"
    }
   ],
   "source": [
    "city.crs"
   ]
  },
  {
   "cell_type": "markdown",
   "metadata": {},
   "source": [
    "The place name is Mosquee de Malika, it’s just normal because it's not well delimited geographically. Just put in mind it's an approximation"
   ]
  },
  {
   "cell_type": "code",
   "execution_count": 260,
   "metadata": {},
   "outputs": [],
   "source": [
    "g = ox.graph_from_point([14.797673115014163, -17.337297062427563])\n"
   ]
  },
  {
   "cell_type": "code",
   "execution_count": 262,
   "metadata": {
    "scrolled": true
   },
   "outputs": [
    {
     "data": {
      "image/png": "[encoded data removed]",
      "text/plain": [
       "<Figure size 576x576 with 1 Axes>"
      ]
     },
     "metadata": {},
     "output_type": "display_data"
    },
    {
     "data": {
      "text/plain": [
       "(<Figure size 576x576 with 1 Axes>, <AxesSubplot:>)"
      ]
     },
     "execution_count": 262,
     "metadata": {},
     "output_type": "execute_result"
    }
   ],
   "source": [
    "ox.plot_graph(g)"
   ]
  },
  {
   "cell_type": "code",
   "execution_count": 273,
   "metadata": {},
   "outputs": [],
   "source": [
    "import descartes\n",
    "import numpy as np"
   ]
  },
  {
   "cell_type": "code",
   "execution_count": 272,
   "metadata": {},
   "outputs": [],
   "source": [
    "geom_schools.longitude = geom_schools.longitude.astype(np.float64)\n",
    "geom_schools.latitude = geom_schools.latitude.astype(np.float64)"
   ]
  },
  {
   "cell_type": "code",
   "execution_count": 286,
   "metadata": {},
   "outputs": [
    {
     "data": {
      "image/png": "[encoded data removed]",
      "text/plain": [
       "<Figure size 1440x576 with 1 Axes>"
      ]
     },
     "metadata": {
      "needs_background": "light"
     },
     "output_type": "display_data"
    },
    {
     "data": {
      "text/plain": [
       "<AxesSubplot:>"
      ]
     },
     "execution_count": 286,
     "metadata": {},
     "output_type": "execute_result"
    },
    {
     "data": {
      "text/plain": [
       "<Figure size 432x288 with 0 Axes>"
      ]
     },
     "metadata": {},
     "output_type": "display_data"
    }
   ],
   "source": [
    "fig, ax = plt.subplots(figsize=(20,8))\n",
    "ox.plot_footprints(city, ax=ax)\n",
    "geom_schools.plot(ax=ax, linewidth = 1, edgecolor= 'b')"
   ]
  },
  {
   "cell_type": "code",
   "execution_count": null,
   "metadata": {},
   "outputs": [],
   "source": []
  }
 ],
 "metadata": {
  "kernelspec": {
   "display_name": "Python 3",
   "language": "python",
   "name": "python3"
  },
  "language_info": {
   "codemirror_mode": {
    "name": "ipython",
    "version": 3
   },
   "file_extension": ".py",
   "mimetype": "text/x-python",
   "name": "python",
   "nbconvert_exporter": "python",
   "pygments_lexer": "ipython3",
   "version": "3.8.6"
  }
 },
 "nbformat": 4,
 "nbformat_minor": 4
}
