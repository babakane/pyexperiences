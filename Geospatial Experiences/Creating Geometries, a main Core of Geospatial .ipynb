{
 "cells": [
  {
   "cell_type": "markdown",
   "metadata": {},
   "source": [
    "# Creating Geometries, a main core of Geospatial data Science"
   ]
  },
  {
   "cell_type": "markdown",
   "metadata": {},
   "source": [
    "A 'geometry' column in spatial data ia a main core of it's composition. Without a geometry column, we cannot title the data as spatial since we will not be able to visualize it on earth or even plot it to have a result.\\\n",
    "\n",
    "There are different python libraries to help for creating geometries, geopandas is the challegiest of them."
   ]
  },
  {
   "cell_type": "markdown",
   "metadata": {},
   "source": [
    "### Writing geometries with Geopandas"
   ]
  },
  {
   "cell_type": "code",
   "execution_count": 200,
   "metadata": {},
   "outputs": [],
   "source": [
    "import geopandas, fiona, pandas as pd, matplotlib.pyplot as plt\n",
    "from shapely.geometry import Point, Polygon"
   ]
  },
  {
   "cell_type": "code",
   "execution_count": 201,
   "metadata": {},
   "outputs": [],
   "source": [
    "# Create an empty geopandas GeoDataFrame\n",
    "new_data = geopandas.GeoDataFrame()"
   ]
  },
  {
   "cell_type": "code",
   "execution_count": 202,
   "metadata": {},
   "outputs": [
    {
     "data": {
      "text/html": [
       "<div>\n",
       "<style scoped>\n",
       "    .dataframe tbody tr th:only-of-type {\n",
       "        vertical-align: middle;\n",
       "    }\n",
       "\n",
       "    .dataframe tbody tr th {\n",
       "        vertical-align: top;\n",
       "    }\n",
       "\n",
       "    .dataframe thead th {\n",
       "        text-align: right;\n",
       "    }\n",
       "</style>\n",
       "<table border=\"1\" class=\"dataframe\">\n",
       "  <thead>\n",
       "    <tr style=\"text-align: right;\">\n",
       "      <th></th>\n",
       "    </tr>\n",
       "  </thead>\n",
       "  <tbody>\n",
       "  </tbody>\n",
       "</table>\n",
       "</div>"
      ],
      "text/plain": [
       "Empty GeoDataFrame\n",
       "Columns: []\n",
       "Index: []"
      ]
     },
     "execution_count": 202,
     "metadata": {},
     "output_type": "execute_result"
    }
   ],
   "source": [
    "new_data"
   ]
  },
  {
   "cell_type": "code",
   "execution_count": 203,
   "metadata": {},
   "outputs": [
    {
     "data": {
      "text/plain": [
       "geopandas.geodataframe.GeoDataFrame"
      ]
     },
     "execution_count": 203,
     "metadata": {},
     "output_type": "execute_result"
    }
   ],
   "source": [
    "type(new_data)"
   ]
  },
  {
   "cell_type": "markdown",
   "metadata": {},
   "source": [
    "I will create a new dataframe of 'schools_in_kaolack' then extracte there coordinates to our new_data by creating a geometry column to it directly."
   ]
  },
  {
   "cell_type": "markdown",
   "metadata": {},
   "source": [
    "### Creating my data step by step from google earth"
   ]
  },
  {
   "cell_type": "markdown",
   "metadata": {},
   "source": [
    "I want to google earth pro, searching 'schools in kaolack', there are appear many pages, to extract the data that appear on the first pages, you need to scroll down, you will see an icon similar to folder 'click here to save it to place', by clicking on that, just go to places, scroll down, you will see the title of your search, right click on it and rename it to 'your search 1', then go to second page in the researching result then do the same until the pages finish or just your needs. Return to the places and right click on the renamed pages, save them to kml. Go to the folder in your computer where you saved this searches results, right click on one of them, select property, change opening to '.txt' or just notepad, open excel file, import the searches results in txt format, modify it then you will have a similar to a correct data, remove unwanted columns, save it, use pandas to read them in python."
   ]
  },
  {
   "cell_type": "code",
   "execution_count": 204,
   "metadata": {},
   "outputs": [],
   "source": [
    "# Loading the data 'schools in kaolack' which i extracted from google earth and created an excel file\n",
    "data = pd.read_excel('D:\\Research\\PROJECT\\SENEGAL DATA ANALYSIS\\data\\some_school_in_kaolack.xlsx')"
   ]
  },
  {
   "cell_type": "code",
   "execution_count": 205,
   "metadata": {},
   "outputs": [
    {
     "data": {
      "text/html": [
       "<div>\n",
       "<style scoped>\n",
       "    .dataframe tbody tr th:only-of-type {\n",
       "        vertical-align: middle;\n",
       "    }\n",
       "\n",
       "    .dataframe tbody tr th {\n",
       "        vertical-align: top;\n",
       "    }\n",
       "\n",
       "    .dataframe thead th {\n",
       "        text-align: right;\n",
       "    }\n",
       "</style>\n",
       "<table border=\"1\" class=\"dataframe\">\n",
       "  <thead>\n",
       "    <tr style=\"text-align: right;\">\n",
       "      <th></th>\n",
       "      <th>Name of Schools</th>\n",
       "      <th>Addresses</th>\n",
       "      <th>Coordinates</th>\n",
       "      <th>Contact Number</th>\n",
       "    </tr>\n",
       "  </thead>\n",
       "  <tbody>\n",
       "    <tr>\n",
       "      <th>0</th>\n",
       "      <td>Cem Kabatoki</td>\n",
       "      <td>Kaolack, Senegal</td>\n",
       "      <td>-16.143184,14.17126,0</td>\n",
       "      <td>NaN</td>\n",
       "    </tr>\n",
       "    <tr>\n",
       "      <th>1</th>\n",
       "      <td>Al-Azhar Institut Islamique</td>\n",
       "      <td>Rue de Faidherbe, Kaolack, Senegal</td>\n",
       "      <td>-16.0756005,14.1333456,0</td>\n",
       "      <td>NaN</td>\n",
       "    </tr>\n",
       "    <tr>\n",
       "      <th>2</th>\n",
       "      <td>Wa.kuer Cheikh Ibraime Niass</td>\n",
       "      <td>Unnamed Road, Senegal</td>\n",
       "      <td>-16.0708281,14.153684,0</td>\n",
       "      <td>+221 77 910 11 11</td>\n",
       "    </tr>\n",
       "    <tr>\n",
       "      <th>3</th>\n",
       "      <td>Cem Mbaba</td>\n",
       "      <td>Unnamed Road, Senegal</td>\n",
       "      <td>-16.0624218,14.1536635,0</td>\n",
       "      <td>NaN</td>\n",
       "    </tr>\n",
       "    <tr>\n",
       "      <th>4</th>\n",
       "      <td>School De Koutal</td>\n",
       "      <td>Kaolack, Senegal</td>\n",
       "      <td>-16.068386,14.085892,0</td>\n",
       "      <td>+221 77 659 42 96</td>\n",
       "    </tr>\n",
       "  </tbody>\n",
       "</table>\n",
       "</div>"
      ],
      "text/plain": [
       "                Name of Schools                           Addresses  \\\n",
       "0                  Cem Kabatoki                    Kaolack, Senegal   \n",
       "1   Al-Azhar Institut Islamique  Rue de Faidherbe, Kaolack, Senegal   \n",
       "2  Wa.kuer Cheikh Ibraime Niass               Unnamed Road, Senegal   \n",
       "3                     Cem Mbaba               Unnamed Road, Senegal   \n",
       "4              School De Koutal                    Kaolack, Senegal   \n",
       "\n",
       "                Coordinates     Contact Number  \n",
       "0     -16.143184,14.17126,0                NaN  \n",
       "1  -16.0756005,14.1333456,0                NaN  \n",
       "2   -16.0708281,14.153684,0  +221 77 910 11 11  \n",
       "3  -16.0624218,14.1536635,0                NaN  \n",
       "4    -16.068386,14.085892,0  +221 77 659 42 96  "
      ]
     },
     "execution_count": 205,
     "metadata": {},
     "output_type": "execute_result"
    }
   ],
   "source": [
    "data.head()"
   ]
  },
  {
   "cell_type": "code",
   "execution_count": 206,
   "metadata": {},
   "outputs": [
    {
     "data": {
      "text/plain": [
       "Index(['Name of Schools', 'Addresses', 'Coordinates', 'Contact Number'], dtype='object')"
      ]
     },
     "execution_count": 206,
     "metadata": {},
     "output_type": "execute_result"
    }
   ],
   "source": [
    "data.columns"
   ]
  },
  {
   "cell_type": "markdown",
   "metadata": {},
   "source": [
    "We are interested in the column named 'Coordinates', let's check if there is no missing values on it"
   ]
  },
  {
   "cell_type": "code",
   "execution_count": 207,
   "metadata": {},
   "outputs": [
    {
     "data": {
      "text/plain": [
       "0"
      ]
     },
     "execution_count": 207,
     "metadata": {},
     "output_type": "execute_result"
    }
   ],
   "source": [
    "data['Coordinates'].isnull().sum()"
   ]
  },
  {
   "cell_type": "markdown",
   "metadata": {},
   "source": [
    "There is no missing data on Coordinates. The next step is to create 'Geometry' column, for that we need to extract latitude and longitude from data['Coordinates']."
   ]
  },
  {
   "cell_type": "markdown",
   "metadata": {},
   "source": [
    "The coordinate column contains normaly latitude and longitude x and y, but in our data the longitude is first and latitude is second, the ',0' must be removed from the data"
   ]
  },
  {
   "cell_type": "code",
   "execution_count": 208,
   "metadata": {},
   "outputs": [],
   "source": [
    "# removing ',0' from coordinates to keep only the longitude started with (-) and latitude seperated by ','\n",
    "data['Coordinates'] = data['Coordinates'].str.replace(',0', '')"
   ]
  },
  {
   "cell_type": "code",
   "execution_count": 209,
   "metadata": {},
   "outputs": [
    {
     "data": {
      "text/plain": [
       "0       -16.143184,14.17126\n",
       "1    -16.0756005,14.1333456\n",
       "2     -16.0708281,14.153684\n",
       "3    -16.0624218,14.1536635\n",
       "4      -16.068386,14.085892\n",
       "Name: Coordinates, dtype: object"
      ]
     },
     "execution_count": 209,
     "metadata": {},
     "output_type": "execute_result"
    }
   ],
   "source": [
    "data['Coordinates'].head()"
   ]
  },
  {
   "cell_type": "markdown",
   "metadata": {},
   "source": [
    "The data has been cleaned, next step is to create a lat and long column \n"
   ]
  },
  {
   "cell_type": "code",
   "execution_count": 210,
   "metadata": {},
   "outputs": [],
   "source": [
    "data[['longitude','latitude']] = data.Coordinates.str.split(',', expand=True) "
   ]
  },
  {
   "cell_type": "code",
   "execution_count": 211,
   "metadata": {},
   "outputs": [
    {
     "data": {
      "text/html": [
       "<div>\n",
       "<style scoped>\n",
       "    .dataframe tbody tr th:only-of-type {\n",
       "        vertical-align: middle;\n",
       "    }\n",
       "\n",
       "    .dataframe tbody tr th {\n",
       "        vertical-align: top;\n",
       "    }\n",
       "\n",
       "    .dataframe thead th {\n",
       "        text-align: right;\n",
       "    }\n",
       "</style>\n",
       "<table border=\"1\" class=\"dataframe\">\n",
       "  <thead>\n",
       "    <tr style=\"text-align: right;\">\n",
       "      <th></th>\n",
       "      <th>Name of Schools</th>\n",
       "      <th>Addresses</th>\n",
       "      <th>Coordinates</th>\n",
       "      <th>Contact Number</th>\n",
       "      <th>longitude</th>\n",
       "      <th>latitude</th>\n",
       "    </tr>\n",
       "  </thead>\n",
       "  <tbody>\n",
       "    <tr>\n",
       "      <th>0</th>\n",
       "      <td>Cem Kabatoki</td>\n",
       "      <td>Kaolack, Senegal</td>\n",
       "      <td>-16.143184,14.17126</td>\n",
       "      <td>NaN</td>\n",
       "      <td>-16.143184</td>\n",
       "      <td>14.17126</td>\n",
       "    </tr>\n",
       "    <tr>\n",
       "      <th>1</th>\n",
       "      <td>Al-Azhar Institut Islamique</td>\n",
       "      <td>Rue de Faidherbe, Kaolack, Senegal</td>\n",
       "      <td>-16.0756005,14.1333456</td>\n",
       "      <td>NaN</td>\n",
       "      <td>-16.0756005</td>\n",
       "      <td>14.1333456</td>\n",
       "    </tr>\n",
       "    <tr>\n",
       "      <th>2</th>\n",
       "      <td>Wa.kuer Cheikh Ibraime Niass</td>\n",
       "      <td>Unnamed Road, Senegal</td>\n",
       "      <td>-16.0708281,14.153684</td>\n",
       "      <td>+221 77 910 11 11</td>\n",
       "      <td>-16.0708281</td>\n",
       "      <td>14.153684</td>\n",
       "    </tr>\n",
       "    <tr>\n",
       "      <th>3</th>\n",
       "      <td>Cem Mbaba</td>\n",
       "      <td>Unnamed Road, Senegal</td>\n",
       "      <td>-16.0624218,14.1536635</td>\n",
       "      <td>NaN</td>\n",
       "      <td>-16.0624218</td>\n",
       "      <td>14.1536635</td>\n",
       "    </tr>\n",
       "    <tr>\n",
       "      <th>4</th>\n",
       "      <td>School De Koutal</td>\n",
       "      <td>Kaolack, Senegal</td>\n",
       "      <td>-16.068386,14.085892</td>\n",
       "      <td>+221 77 659 42 96</td>\n",
       "      <td>-16.068386</td>\n",
       "      <td>14.085892</td>\n",
       "    </tr>\n",
       "  </tbody>\n",
       "</table>\n",
       "</div>"
      ],
      "text/plain": [
       "                Name of Schools                           Addresses  \\\n",
       "0                  Cem Kabatoki                    Kaolack, Senegal   \n",
       "1   Al-Azhar Institut Islamique  Rue de Faidherbe, Kaolack, Senegal   \n",
       "2  Wa.kuer Cheikh Ibraime Niass               Unnamed Road, Senegal   \n",
       "3                     Cem Mbaba               Unnamed Road, Senegal   \n",
       "4              School De Koutal                    Kaolack, Senegal   \n",
       "\n",
       "              Coordinates     Contact Number    longitude    latitude  \n",
       "0     -16.143184,14.17126                NaN   -16.143184    14.17126  \n",
       "1  -16.0756005,14.1333456                NaN  -16.0756005  14.1333456  \n",
       "2   -16.0708281,14.153684  +221 77 910 11 11  -16.0708281   14.153684  \n",
       "3  -16.0624218,14.1536635                NaN  -16.0624218  14.1536635  \n",
       "4    -16.068386,14.085892  +221 77 659 42 96   -16.068386   14.085892  "
      ]
     },
     "execution_count": 211,
     "metadata": {},
     "output_type": "execute_result"
    }
   ],
   "source": [
    "data.head()"
   ]
  },
  {
   "cell_type": "code",
   "execution_count": 212,
   "metadata": {},
   "outputs": [
    {
     "data": {
      "text/plain": [
       "array(['Name of Schools', 'Addresses', 'Coordinates', 'Contact Number',\n",
       "       'longitude', 'latitude'], dtype=object)"
      ]
     },
     "execution_count": 212,
     "metadata": {},
     "output_type": "execute_result"
    }
   ],
   "source": [
    "# Check the changes in columns\n",
    "data.columns.values"
   ]
  },
  {
   "cell_type": "markdown",
   "metadata": {},
   "source": [
    "Now, we can create a geometry column"
   ]
  },
  {
   "cell_type": "code",
   "execution_count": 213,
   "metadata": {},
   "outputs": [],
   "source": [
    "data['geometry'] = geopandas.points_from_xy(data.longitude, data.latitude)"
   ]
  },
  {
   "cell_type": "code",
   "execution_count": 214,
   "metadata": {},
   "outputs": [
    {
     "data": {
      "text/html": [
       "<div>\n",
       "<style scoped>\n",
       "    .dataframe tbody tr th:only-of-type {\n",
       "        vertical-align: middle;\n",
       "    }\n",
       "\n",
       "    .dataframe tbody tr th {\n",
       "        vertical-align: top;\n",
       "    }\n",
       "\n",
       "    .dataframe thead th {\n",
       "        text-align: right;\n",
       "    }\n",
       "</style>\n",
       "<table border=\"1\" class=\"dataframe\">\n",
       "  <thead>\n",
       "    <tr style=\"text-align: right;\">\n",
       "      <th></th>\n",
       "      <th>Name of Schools</th>\n",
       "      <th>Addresses</th>\n",
       "      <th>Coordinates</th>\n",
       "      <th>Contact Number</th>\n",
       "      <th>longitude</th>\n",
       "      <th>latitude</th>\n",
       "      <th>geometry</th>\n",
       "    </tr>\n",
       "  </thead>\n",
       "  <tbody>\n",
       "    <tr>\n",
       "      <th>0</th>\n",
       "      <td>Cem Kabatoki</td>\n",
       "      <td>Kaolack, Senegal</td>\n",
       "      <td>-16.143184,14.17126</td>\n",
       "      <td>NaN</td>\n",
       "      <td>-16.143184</td>\n",
       "      <td>14.17126</td>\n",
       "      <td>POINT (-16.14318 14.17126)</td>\n",
       "    </tr>\n",
       "    <tr>\n",
       "      <th>1</th>\n",
       "      <td>Al-Azhar Institut Islamique</td>\n",
       "      <td>Rue de Faidherbe, Kaolack, Senegal</td>\n",
       "      <td>-16.0756005,14.1333456</td>\n",
       "      <td>NaN</td>\n",
       "      <td>-16.0756005</td>\n",
       "      <td>14.1333456</td>\n",
       "      <td>POINT (-16.07560 14.13335)</td>\n",
       "    </tr>\n",
       "    <tr>\n",
       "      <th>2</th>\n",
       "      <td>Wa.kuer Cheikh Ibraime Niass</td>\n",
       "      <td>Unnamed Road, Senegal</td>\n",
       "      <td>-16.0708281,14.153684</td>\n",
       "      <td>+221 77 910 11 11</td>\n",
       "      <td>-16.0708281</td>\n",
       "      <td>14.153684</td>\n",
       "      <td>POINT (-16.07083 14.15368)</td>\n",
       "    </tr>\n",
       "    <tr>\n",
       "      <th>3</th>\n",
       "      <td>Cem Mbaba</td>\n",
       "      <td>Unnamed Road, Senegal</td>\n",
       "      <td>-16.0624218,14.1536635</td>\n",
       "      <td>NaN</td>\n",
       "      <td>-16.0624218</td>\n",
       "      <td>14.1536635</td>\n",
       "      <td>POINT (-16.06242 14.15366)</td>\n",
       "    </tr>\n",
       "    <tr>\n",
       "      <th>4</th>\n",
       "      <td>School De Koutal</td>\n",
       "      <td>Kaolack, Senegal</td>\n",
       "      <td>-16.068386,14.085892</td>\n",
       "      <td>+221 77 659 42 96</td>\n",
       "      <td>-16.068386</td>\n",
       "      <td>14.085892</td>\n",
       "      <td>POINT (-16.06839 14.08589)</td>\n",
       "    </tr>\n",
       "  </tbody>\n",
       "</table>\n",
       "</div>"
      ],
      "text/plain": [
       "                Name of Schools                           Addresses  \\\n",
       "0                  Cem Kabatoki                    Kaolack, Senegal   \n",
       "1   Al-Azhar Institut Islamique  Rue de Faidherbe, Kaolack, Senegal   \n",
       "2  Wa.kuer Cheikh Ibraime Niass               Unnamed Road, Senegal   \n",
       "3                     Cem Mbaba               Unnamed Road, Senegal   \n",
       "4              School De Koutal                    Kaolack, Senegal   \n",
       "\n",
       "              Coordinates     Contact Number    longitude    latitude  \\\n",
       "0     -16.143184,14.17126                NaN   -16.143184    14.17126   \n",
       "1  -16.0756005,14.1333456                NaN  -16.0756005  14.1333456   \n",
       "2   -16.0708281,14.153684  +221 77 910 11 11  -16.0708281   14.153684   \n",
       "3  -16.0624218,14.1536635                NaN  -16.0624218  14.1536635   \n",
       "4    -16.068386,14.085892  +221 77 659 42 96   -16.068386   14.085892   \n",
       "\n",
       "                     geometry  \n",
       "0  POINT (-16.14318 14.17126)  \n",
       "1  POINT (-16.07560 14.13335)  \n",
       "2  POINT (-16.07083 14.15368)  \n",
       "3  POINT (-16.06242 14.15366)  \n",
       "4  POINT (-16.06839 14.08589)  "
      ]
     },
     "execution_count": 214,
     "metadata": {},
     "output_type": "execute_result"
    }
   ],
   "source": [
    "data.head()"
   ]
  },
  {
   "cell_type": "code",
   "execution_count": 215,
   "metadata": {},
   "outputs": [
    {
     "data": {
      "text/plain": [
       "Index(['Name of Schools', 'Addresses', 'Coordinates', 'Contact Number',\n",
       "       'longitude', 'latitude', 'geometry'],\n",
       "      dtype='object')"
      ]
     },
     "execution_count": 215,
     "metadata": {},
     "output_type": "execute_result"
    }
   ],
   "source": [
    "data.columns"
   ]
  },
  {
   "cell_type": "markdown",
   "metadata": {},
   "source": [
    "Now, we have a spatial data format"
   ]
  },
  {
   "cell_type": "markdown",
   "metadata": {},
   "source": [
    "We still need to see the datatype of our data"
   ]
  },
  {
   "cell_type": "code",
   "execution_count": 216,
   "metadata": {},
   "outputs": [
    {
     "data": {
      "text/plain": [
       "Name of Schools      object\n",
       "Addresses            object\n",
       "Coordinates          object\n",
       "Contact Number       object\n",
       "longitude            object\n",
       "latitude             object\n",
       "geometry           geometry\n",
       "dtype: object"
      ]
     },
     "execution_count": 216,
     "metadata": {},
     "output_type": "execute_result"
    }
   ],
   "source": [
    "data.dtypes"
   ]
  },
  {
   "cell_type": "markdown",
   "metadata": {},
   "source": [
    "We need to change it to the corresponding format.\n"
   ]
  },
  {
   "cell_type": "code",
   "execution_count": 217,
   "metadata": {},
   "outputs": [],
   "source": [
    "data = data.astype({\"longitude\": float, \"latitude\": float})\n"
   ]
  },
  {
   "cell_type": "code",
   "execution_count": 218,
   "metadata": {},
   "outputs": [
    {
     "data": {
      "text/plain": [
       "Name of Schools      object\n",
       "Addresses            object\n",
       "Coordinates          object\n",
       "Contact Number       object\n",
       "longitude           float64\n",
       "latitude            float64\n",
       "geometry           geometry\n",
       "dtype: object"
      ]
     },
     "execution_count": 218,
     "metadata": {},
     "output_type": "execute_result"
    }
   ],
   "source": [
    "data.dtypes"
   ]
  },
  {
   "cell_type": "markdown",
   "metadata": {},
   "source": [
    "We can try to plot our data and see the result"
   ]
  },
  {
   "cell_type": "markdown",
   "metadata": {},
   "source": [
    "### Creating geometries with shapely library"
   ]
  },
  {
   "cell_type": "markdown",
   "metadata": {},
   "source": [
    "We have Point in our result of geometry, let's create a point geometries for our coordinates"
   ]
  },
  {
   "cell_type": "code",
   "execution_count": 219,
   "metadata": {},
   "outputs": [
    {
     "data": {
      "text/plain": [
       "100"
      ]
     },
     "execution_count": 219,
     "metadata": {},
     "output_type": "execute_result"
    }
   ],
   "source": [
    "from shapely.geometry import Point\n",
    "geometry = [Point(xy) for xy in zip(data['longitude'], data['latitude'])]\n",
    "# Let's see what we have\n",
    "len(geometry)"
   ]
  },
  {
   "cell_type": "code",
   "execution_count": 220,
   "metadata": {},
   "outputs": [],
   "source": [
    "new_data = geopandas.GeoDataFrame()\n",
    "# Create a new column called 'geometry' to the GeoDataFrame\n",
    "new_data['geometry'] = geometry\n",
    "new_geometry = geopandas.GeoDataFrame(new_data, geometry=geometry, crs = \"EPSG:4626\") # note that we here specify the CRS (projection) directly while reading to GDF\n"
   ]
  },
  {
   "cell_type": "code",
   "execution_count": 221,
   "metadata": {},
   "outputs": [
    {
     "data": {
      "text/html": [
       "<div>\n",
       "<style scoped>\n",
       "    .dataframe tbody tr th:only-of-type {\n",
       "        vertical-align: middle;\n",
       "    }\n",
       "\n",
       "    .dataframe tbody tr th {\n",
       "        vertical-align: top;\n",
       "    }\n",
       "\n",
       "    .dataframe thead th {\n",
       "        text-align: right;\n",
       "    }\n",
       "</style>\n",
       "<table border=\"1\" class=\"dataframe\">\n",
       "  <thead>\n",
       "    <tr style=\"text-align: right;\">\n",
       "      <th></th>\n",
       "      <th>geometry</th>\n",
       "    </tr>\n",
       "  </thead>\n",
       "  <tbody>\n",
       "    <tr>\n",
       "      <th>0</th>\n",
       "      <td>POINT (-16.14318 14.17126)</td>\n",
       "    </tr>\n",
       "    <tr>\n",
       "      <th>1</th>\n",
       "      <td>POINT (-16.07560 14.13335)</td>\n",
       "    </tr>\n",
       "    <tr>\n",
       "      <th>2</th>\n",
       "      <td>POINT (-16.07083 14.15368)</td>\n",
       "    </tr>\n",
       "    <tr>\n",
       "      <th>3</th>\n",
       "      <td>POINT (-16.06242 14.15366)</td>\n",
       "    </tr>\n",
       "    <tr>\n",
       "      <th>4</th>\n",
       "      <td>POINT (-16.06839 14.08589)</td>\n",
       "    </tr>\n",
       "    <tr>\n",
       "      <th>...</th>\n",
       "      <td>...</td>\n",
       "    </tr>\n",
       "    <tr>\n",
       "      <th>95</th>\n",
       "      <td>POINT (-15.70535 14.38126)</td>\n",
       "    </tr>\n",
       "    <tr>\n",
       "      <th>96</th>\n",
       "      <td>POINT (-16.06820 14.14829)</td>\n",
       "    </tr>\n",
       "    <tr>\n",
       "      <th>97</th>\n",
       "      <td>POINT (-15.78012 14.37662)</td>\n",
       "    </tr>\n",
       "    <tr>\n",
       "      <th>98</th>\n",
       "      <td>POINT (-16.07992 14.14671)</td>\n",
       "    </tr>\n",
       "    <tr>\n",
       "      <th>99</th>\n",
       "      <td>POINT (-15.70497 14.38069)</td>\n",
       "    </tr>\n",
       "  </tbody>\n",
       "</table>\n",
       "<p>100 rows × 1 columns</p>\n",
       "</div>"
      ],
      "text/plain": [
       "                      geometry\n",
       "0   POINT (-16.14318 14.17126)\n",
       "1   POINT (-16.07560 14.13335)\n",
       "2   POINT (-16.07083 14.15368)\n",
       "3   POINT (-16.06242 14.15366)\n",
       "4   POINT (-16.06839 14.08589)\n",
       "..                         ...\n",
       "95  POINT (-15.70535 14.38126)\n",
       "96  POINT (-16.06820 14.14829)\n",
       "97  POINT (-15.78012 14.37662)\n",
       "98  POINT (-16.07992 14.14671)\n",
       "99  POINT (-15.70497 14.38069)\n",
       "\n",
       "[100 rows x 1 columns]"
      ]
     },
     "execution_count": 221,
     "metadata": {},
     "output_type": "execute_result"
    }
   ],
   "source": [
    "new_data"
   ]
  },
  {
   "cell_type": "code",
   "execution_count": 222,
   "metadata": {
    "scrolled": true
   },
   "outputs": [
    {
     "data": {
      "text/plain": [
       "<AxesSubplot:>"
      ]
     },
     "execution_count": 222,
     "metadata": {},
     "output_type": "execute_result"
    },
    {
     "data": {
      "image/png": "[encoded data removed]",
      "text/plain": [
       "<Figure size 720x720 with 1 Axes>"
      ]
     },
     "metadata": {
      "needs_background": "light"
     },
     "output_type": "display_data"
    }
   ],
   "source": [
    "new_data.plot(figsize=(10,10), marker='*', color='green', markersize=50)"
   ]
  },
  {
   "cell_type": "code",
   "execution_count": 223,
   "metadata": {},
   "outputs": [],
   "source": [
    "# Adding column to our data\n",
    "new_data['addresses'] = [i for i in data['Addresses']]"
   ]
  },
  {
   "cell_type": "code",
   "execution_count": 224,
   "metadata": {
    "scrolled": true
   },
   "outputs": [
    {
     "data": {
      "text/html": [
       "<div>\n",
       "<style scoped>\n",
       "    .dataframe tbody tr th:only-of-type {\n",
       "        vertical-align: middle;\n",
       "    }\n",
       "\n",
       "    .dataframe tbody tr th {\n",
       "        vertical-align: top;\n",
       "    }\n",
       "\n",
       "    .dataframe thead th {\n",
       "        text-align: right;\n",
       "    }\n",
       "</style>\n",
       "<table border=\"1\" class=\"dataframe\">\n",
       "  <thead>\n",
       "    <tr style=\"text-align: right;\">\n",
       "      <th></th>\n",
       "      <th>geometry</th>\n",
       "      <th>addresses</th>\n",
       "    </tr>\n",
       "  </thead>\n",
       "  <tbody>\n",
       "    <tr>\n",
       "      <th>0</th>\n",
       "      <td>POINT (-16.14318 14.17126)</td>\n",
       "      <td>Kaolack, Senegal</td>\n",
       "    </tr>\n",
       "    <tr>\n",
       "      <th>1</th>\n",
       "      <td>POINT (-16.07560 14.13335)</td>\n",
       "      <td>Rue de Faidherbe, Kaolack, Senegal</td>\n",
       "    </tr>\n",
       "    <tr>\n",
       "      <th>2</th>\n",
       "      <td>POINT (-16.07083 14.15368)</td>\n",
       "      <td>Unnamed Road, Senegal</td>\n",
       "    </tr>\n",
       "    <tr>\n",
       "      <th>3</th>\n",
       "      <td>POINT (-16.06242 14.15366)</td>\n",
       "      <td>Unnamed Road, Senegal</td>\n",
       "    </tr>\n",
       "    <tr>\n",
       "      <th>4</th>\n",
       "      <td>POINT (-16.06839 14.08589)</td>\n",
       "      <td>Kaolack, Senegal</td>\n",
       "    </tr>\n",
       "  </tbody>\n",
       "</table>\n",
       "</div>"
      ],
      "text/plain": [
       "                     geometry                           addresses\n",
       "0  POINT (-16.14318 14.17126)                    Kaolack, Senegal\n",
       "1  POINT (-16.07560 14.13335)  Rue de Faidherbe, Kaolack, Senegal\n",
       "2  POINT (-16.07083 14.15368)               Unnamed Road, Senegal\n",
       "3  POINT (-16.06242 14.15366)               Unnamed Road, Senegal\n",
       "4  POINT (-16.06839 14.08589)                    Kaolack, Senegal"
      ]
     },
     "execution_count": 224,
     "metadata": {},
     "output_type": "execute_result"
    }
   ],
   "source": [
    "new_data.head()"
   ]
  },
  {
   "cell_type": "code",
   "execution_count": 225,
   "metadata": {},
   "outputs": [
    {
     "name": "stdout",
     "output_type": "stream",
     "text": [
      "None\n"
     ]
    }
   ],
   "source": [
    "print(new_data.crs)"
   ]
  },
  {
   "cell_type": "code",
   "execution_count": 226,
   "metadata": {},
   "outputs": [
    {
     "data": {
      "text/plain": [
       "geopandas.geodataframe.GeoDataFrame"
      ]
     },
     "execution_count": 226,
     "metadata": {},
     "output_type": "execute_result"
    }
   ],
   "source": [
    "# Projecting our new_data to the right coordinate reference system, first let's just our data reference system\n",
    "type(new_data)"
   ]
  },
  {
   "cell_type": "code",
   "execution_count": 227,
   "metadata": {},
   "outputs": [
    {
     "name": "stderr",
     "output_type": "stream",
     "text": [
      "d:\\programm files\\python 3 8 6\\lib\\site-packages\\pyproj\\crs\\crs.py:53: FutureWarning: '+init=<authority>:<code>' syntax is deprecated. '<authority>:<code>' is the preferred initialization method. When making the change, be mindful of axis order changes: https://pyproj4.github.io/pyproj/stable/gotchas.html#axis-order-changes-in-proj-6\n",
      "  return _prepare_from_string(\" \".join(pjargs))\n"
     ]
    }
   ],
   "source": [
    "from fiona.crs import from_epsg\n",
    "new_data.crs = from_epsg(4326)"
   ]
  },
  {
   "cell_type": "code",
   "execution_count": 228,
   "metadata": {},
   "outputs": [
    {
     "data": {
      "text/plain": [
       "<Geographic 2D CRS: +init=epsg:4326 +no_defs +type=crs>\n",
       "Name: WGS 84\n",
       "Axis Info [ellipsoidal]:\n",
       "- lon[east]: Longitude (degree)\n",
       "- lat[north]: Latitude (degree)\n",
       "Area of Use:\n",
       "- name: World.\n",
       "- bounds: (-180.0, -90.0, 180.0, 90.0)\n",
       "Datum: World Geodetic System 1984\n",
       "- Ellipsoid: WGS 84\n",
       "- Prime Meridian: Greenwich"
      ]
     },
     "execution_count": 228,
     "metadata": {},
     "output_type": "execute_result"
    }
   ],
   "source": [
    "new_data.crs"
   ]
  },
  {
   "cell_type": "code",
   "execution_count": 229,
   "metadata": {
    "scrolled": true
   },
   "outputs": [
    {
     "data": {
      "text/plain": [
       "<AxesSubplot:>"
      ]
     },
     "execution_count": 229,
     "metadata": {},
     "output_type": "execute_result"
    },
    {
     "data": {
      "image/png": "[encoded data removed]",
      "text/plain": [
       "<Figure size 432x288 with 1 Axes>"
      ]
     },
     "metadata": {
      "needs_background": "light"
     },
     "output_type": "display_data"
    }
   ],
   "source": [
    "new_data.plot()"
   ]
  },
  {
   "cell_type": "markdown",
   "metadata": {},
   "source": [
    "## Saving our files"
   ]
  },
  {
   "cell_type": "code",
   "execution_count": 230,
   "metadata": {},
   "outputs": [],
   "source": [
    "# Saving the dataframe data file \n",
    "data.to_excel('D:\\Research\\PROJECT\\SENEGAL DATA ANALYSIS\\data\\schools_in_kaolack.xlsx')\n"
   ]
  },
  {
   "cell_type": "code",
   "execution_count": null,
   "metadata": {},
   "outputs": [],
   "source": []
  },
  {
   "cell_type": "code",
   "execution_count": 231,
   "metadata": {},
   "outputs": [
    {
     "data": {
      "text/html": [
       "<div>\n",
       "<style scoped>\n",
       "    .dataframe tbody tr th:only-of-type {\n",
       "        vertical-align: middle;\n",
       "    }\n",
       "\n",
       "    .dataframe tbody tr th {\n",
       "        vertical-align: top;\n",
       "    }\n",
       "\n",
       "    .dataframe thead th {\n",
       "        text-align: right;\n",
       "    }\n",
       "</style>\n",
       "<table border=\"1\" class=\"dataframe\">\n",
       "  <thead>\n",
       "    <tr style=\"text-align: right;\">\n",
       "      <th></th>\n",
       "      <th>Name of Schools</th>\n",
       "      <th>Addresses</th>\n",
       "      <th>Coordinates</th>\n",
       "      <th>Contact Number</th>\n",
       "      <th>longitude</th>\n",
       "      <th>latitude</th>\n",
       "      <th>geometry</th>\n",
       "    </tr>\n",
       "  </thead>\n",
       "  <tbody>\n",
       "    <tr>\n",
       "      <th>0</th>\n",
       "      <td>Cem Kabatoki</td>\n",
       "      <td>Kaolack, Senegal</td>\n",
       "      <td>-16.143184,14.17126</td>\n",
       "      <td>NaN</td>\n",
       "      <td>-16.143184</td>\n",
       "      <td>14.171260</td>\n",
       "      <td>POINT (-16.14318 14.17126)</td>\n",
       "    </tr>\n",
       "    <tr>\n",
       "      <th>1</th>\n",
       "      <td>Al-Azhar Institut Islamique</td>\n",
       "      <td>Rue de Faidherbe, Kaolack, Senegal</td>\n",
       "      <td>-16.0756005,14.1333456</td>\n",
       "      <td>NaN</td>\n",
       "      <td>-16.075601</td>\n",
       "      <td>14.133346</td>\n",
       "      <td>POINT (-16.07560 14.13335)</td>\n",
       "    </tr>\n",
       "    <tr>\n",
       "      <th>2</th>\n",
       "      <td>Wa.kuer Cheikh Ibraime Niass</td>\n",
       "      <td>Unnamed Road, Senegal</td>\n",
       "      <td>-16.0708281,14.153684</td>\n",
       "      <td>+221 77 910 11 11</td>\n",
       "      <td>-16.070828</td>\n",
       "      <td>14.153684</td>\n",
       "      <td>POINT (-16.07083 14.15368)</td>\n",
       "    </tr>\n",
       "    <tr>\n",
       "      <th>3</th>\n",
       "      <td>Cem Mbaba</td>\n",
       "      <td>Unnamed Road, Senegal</td>\n",
       "      <td>-16.0624218,14.1536635</td>\n",
       "      <td>NaN</td>\n",
       "      <td>-16.062422</td>\n",
       "      <td>14.153664</td>\n",
       "      <td>POINT (-16.06242 14.15366)</td>\n",
       "    </tr>\n",
       "    <tr>\n",
       "      <th>4</th>\n",
       "      <td>School De Koutal</td>\n",
       "      <td>Kaolack, Senegal</td>\n",
       "      <td>-16.068386,14.085892</td>\n",
       "      <td>+221 77 659 42 96</td>\n",
       "      <td>-16.068386</td>\n",
       "      <td>14.085892</td>\n",
       "      <td>POINT (-16.06839 14.08589)</td>\n",
       "    </tr>\n",
       "  </tbody>\n",
       "</table>\n",
       "</div>"
      ],
      "text/plain": [
       "                Name of Schools                           Addresses  \\\n",
       "0                  Cem Kabatoki                    Kaolack, Senegal   \n",
       "1   Al-Azhar Institut Islamique  Rue de Faidherbe, Kaolack, Senegal   \n",
       "2  Wa.kuer Cheikh Ibraime Niass               Unnamed Road, Senegal   \n",
       "3                     Cem Mbaba               Unnamed Road, Senegal   \n",
       "4              School De Koutal                    Kaolack, Senegal   \n",
       "\n",
       "              Coordinates     Contact Number  longitude   latitude  \\\n",
       "0     -16.143184,14.17126                NaN -16.143184  14.171260   \n",
       "1  -16.0756005,14.1333456                NaN -16.075601  14.133346   \n",
       "2   -16.0708281,14.153684  +221 77 910 11 11 -16.070828  14.153684   \n",
       "3  -16.0624218,14.1536635                NaN -16.062422  14.153664   \n",
       "4    -16.068386,14.085892  +221 77 659 42 96 -16.068386  14.085892   \n",
       "\n",
       "                     geometry  \n",
       "0  POINT (-16.14318 14.17126)  \n",
       "1  POINT (-16.07560 14.13335)  \n",
       "2  POINT (-16.07083 14.15368)  \n",
       "3  POINT (-16.06242 14.15366)  \n",
       "4  POINT (-16.06839 14.08589)  "
      ]
     },
     "execution_count": 231,
     "metadata": {},
     "output_type": "execute_result"
    }
   ],
   "source": [
    "# Converting our data to a geodataframe and save it\n",
    "gdf = geopandas.GeoDataFrame(data)\n",
    "gdf.head()"
   ]
  },
  {
   "cell_type": "code",
   "execution_count": 232,
   "metadata": {
    "scrolled": true
   },
   "outputs": [
    {
     "data": {
      "text/plain": [
       "Name of Schools      object\n",
       "Addresses            object\n",
       "Coordinates          object\n",
       "Contact Number       object\n",
       "longitude           float64\n",
       "latitude            float64\n",
       "geometry           geometry\n",
       "dtype: object"
      ]
     },
     "execution_count": 232,
     "metadata": {},
     "output_type": "execute_result"
    }
   ],
   "source": [
    "gdf.dtypes"
   ]
  },
  {
   "cell_type": "code",
   "execution_count": 233,
   "metadata": {},
   "outputs": [
    {
     "name": "stdout",
     "output_type": "stream",
     "text": [
      "None\n"
     ]
    }
   ],
   "source": [
    "print(gdf.crs)"
   ]
  },
  {
   "cell_type": "code",
   "execution_count": 234,
   "metadata": {},
   "outputs": [
    {
     "data": {
      "text/plain": [
       "<Geographic 2D CRS: EPSG:4326>\n",
       "Name: WGS 84\n",
       "Axis Info [ellipsoidal]:\n",
       "- Lat[north]: Geodetic latitude (degree)\n",
       "- Lon[east]: Geodetic longitude (degree)\n",
       "Area of Use:\n",
       "- name: World.\n",
       "- bounds: (-180.0, -90.0, 180.0, 90.0)\n",
       "Datum: World Geodetic System 1984\n",
       "- Ellipsoid: WGS 84\n",
       "- Prime Meridian: Greenwich"
      ]
     },
     "execution_count": 234,
     "metadata": {},
     "output_type": "execute_result"
    }
   ],
   "source": [
    "gdf.crs = 'epsg:4326'\n",
    "gdf.crs"
   ]
  },
  {
   "cell_type": "code",
   "execution_count": 235,
   "metadata": {},
   "outputs": [],
   "source": [
    "gdf.to_excel('D:\\Research\\PROJECT\\SENEGAL DATA ANALYSIS\\data\\schools_in_kaolack_geodaframe.xlsx')"
   ]
  },
  {
   "cell_type": "code",
   "execution_count": 236,
   "metadata": {},
   "outputs": [],
   "source": [
    "gdf.to_file('D:\\Research\\PROJECT\\SENEGAL DATA ANALYSIS\\data\\schools_in_kaolack_data_shape')"
   ]
  },
  {
   "cell_type": "markdown",
   "metadata": {},
   "source": [
    "The above code is saving the data as shapefile"
   ]
  },
  {
   "cell_type": "code",
   "execution_count": 237,
   "metadata": {},
   "outputs": [],
   "source": [
    "# Saving the new_data\n",
    "#new_data.to_file(new_data, 'D:\\Research\\PROJECT\\SENEGAL DATA ANALYSIS\\data\\new_data_kaolack_schools_shapefile')"
   ]
  }
 ],
 "metadata": {
  "kernelspec": {
   "display_name": "Python 3",
   "language": "python",
   "name": "python3"
  },
  "language_info": {
   "codemirror_mode": {
    "name": "ipython",
    "version": 3
   },
   "file_extension": ".py",
   "mimetype": "text/x-python",
   "name": "python",
   "nbconvert_exporter": "python",
   "pygments_lexer": "ipython3",
   "version": "3.8.6"
  }
 },
 "nbformat": 4,
 "nbformat_minor": 4
}
