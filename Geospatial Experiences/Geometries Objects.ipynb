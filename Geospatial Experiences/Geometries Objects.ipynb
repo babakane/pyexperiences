{
 "cells": [
  {
   "cell_type": "markdown",
   "metadata": {},
   "source": [
    "# Geometries Object, the first step of Geospatial in Python"
   ]
  },
  {
   "cell_type": "code",
   "execution_count": 1,
   "metadata": {},
   "outputs": [],
   "source": [
    "from shapely.geometry import Point, LineString, Polygon"
   ]
  },
  {
   "cell_type": "code",
   "execution_count": 2,
   "metadata": {},
   "outputs": [
    {
     "name": "stdout",
     "output_type": "stream",
     "text": [
      "POINT (14.16113524342423 -16.06258707011215)\n"
     ]
    }
   ],
   "source": [
    "# Creating a Point, a point represent a single location or place, x and y dimension or x,y,z\n",
    "# I'm very near in the symbolic place of Kaolack region in Senegal, which is 'Great mosque of Medina Baye', let's create a point of it.\n",
    "great_medina = Point(14.16113524342423, -16.062587070112155)\n",
    "print(great_medina)"
   ]
  },
  {
   "cell_type": "code",
   "execution_count": 4,
   "metadata": {},
   "outputs": [
    {
     "name": "stdout",
     "output_type": "stream",
     "text": [
      "POINT (14.15963413033422 -16.0719522756612)\n"
     ]
    }
   ],
   "source": [
    "# The second most famous place in Kaolack region is 'lycee valdiodio Ndiaye', a famous high school in the region\n",
    "lycee_valdiodio = Point(14.15963413033422, -16.071952275661204)\n",
    "print(lycee_valdiodio)"
   ]
  },
  {
   "cell_type": "code",
   "execution_count": 5,
   "metadata": {},
   "outputs": [
    {
     "name": "stdout",
     "output_type": "stream",
     "text": [
      "POINT (13.75527643826057 -15.73754010897331)\n"
     ]
    }
   ],
   "source": [
    "# One of the symbolic places in Kaolack is 'Taiba Niassene'\n",
    "taiba = Point(13.755276438260571, -15.737540108973315)\n",
    "print(taiba)"
   ]
  },
  {
   "cell_type": "code",
   "execution_count": 6,
   "metadata": {},
   "outputs": [
    {
     "name": "stdout",
     "output_type": "stream",
     "text": [
      "POINT (14.14781397644444 -16.05143034497607)\n"
     ]
    }
   ],
   "source": [
    "# The small airport of Kaolack\n",
    "airport = Point(14.147813976444436, -16.051430344976072)\n",
    "print(airport)"
   ]
  },
  {
   "cell_type": "code",
   "execution_count": 8,
   "metadata": {},
   "outputs": [
    {
     "name": "stdout",
     "output_type": "stream",
     "text": [
      "<class 'shapely.geometry.point.Point'> <class 'shapely.geometry.point.Point'> <class 'shapely.geometry.point.Point'> <class 'shapely.geometry.point.Point'>\n"
     ]
    }
   ],
   "source": [
    "print(type(airport), type(taiba), type(great_medina), type(lycee_valdiodio))"
   ]
  },
  {
   "cell_type": "markdown",
   "metadata": {},
   "source": [
    "### Extracting the Coordinate of geometry Point"
   ]
  },
  {
   "cell_type": "code",
   "execution_count": 15,
   "metadata": {},
   "outputs": [
    {
     "name": "stdout",
     "output_type": "stream",
     "text": [
      "<shapely.coords.CoordinateSequence object at 0x00000000116B5A90>\n",
      "<shapely.coords.CoordinateSequence object at 0x00000000116B5EE0>\n",
      "<shapely.coords.CoordinateSequence object at 0x00000000116B5A60>\n",
      "<shapely.coords.CoordinateSequence object at 0x00000000116B5FD0>\n"
     ]
    }
   ],
   "source": [
    "# Extracting the coordinate to be able to calculate the distance between points\n",
    "coordinate_great_medina = great_medina.coords\n",
    "coordinate_lycee_valdiodio = lycee_valdiodio.coords\n",
    "coordinate_taiba = taiba.coords\n",
    "coordinate_airport = airport.coords\n",
    "print(coordinate_great_medina);\n",
    "print(coordinate_lycee_valdiodio);\n",
    "print(coordinate_taiba);\n",
    "print(coordinate_airport)"
   ]
  },
  {
   "cell_type": "code",
   "execution_count": 16,
   "metadata": {},
   "outputs": [
    {
     "name": "stdout",
     "output_type": "stream",
     "text": [
      "(array('d', [14.16113524342423]), array('d', [-16.062587070112155]))\n",
      "(array('d', [14.15963413033422]), array('d', [-16.071952275661204]))\n",
      "(array('d', [13.755276438260571]), array('d', [-15.737540108973315]))\n",
      "(array('d', [14.147813976444436]), array('d', [-16.051430344976072]))\n"
     ]
    }
   ],
   "source": [
    "# Getting the x and y coordinates (we have explained previousely that a single point location is composed with 2 dimentional x and y or 3 dimentionals x,y,z)\n",
    "# Getting the x and y coordinates of all above symbolic places we've mentionned already\n",
    "xy_great_medina = coordinate_great_medina.xy\n",
    "xy_lycee_valdiodio = coordinate_lycee_valdiodio.xy\n",
    "xy_taiba = coordinate_taiba.xy\n",
    "xy_airport = coordinate_airport.xy\n",
    "print(xy_great_medina);\n",
    "print(xy_lycee_valdiodio);\n",
    "print(xy_taiba);\n",
    "print(xy_airport)"
   ]
  },
  {
   "cell_type": "code",
   "execution_count": 22,
   "metadata": {},
   "outputs": [
    {
     "name": "stdout",
     "output_type": "stream",
     "text": [
      "array('d', [14.16113524342423])\n",
      "array('d', [-16.062587070112155])\n",
      "array('d', [14.15963413033422])\n",
      "array('d', [-16.071952275661204])\n"
     ]
    }
   ],
   "source": [
    "# Extract x and y of every place, i will just focus on great_medina and lycee_valdiodio\n",
    "x_great_medina, y_great_medina = coordinate_great_medina.xy\n",
    "x_lycee_valdiodio, y_lycee_valdiodio = coordinate_lycee_valdiodio.xy\n",
    "print(x_great_medina);\n",
    "print(y_great_medina);\n",
    "print(x_lycee_valdiodio);\n",
    "print(y_lycee_valdiodio)"
   ]
  },
  {
   "cell_type": "markdown",
   "metadata": {},
   "source": [
    " The x represent the latitude, the horizontal line going from north to south, the y represents the longitude,, the vertical line, going from east to west (+180 east, -180 west). "
   ]
  },
  {
   "cell_type": "markdown",
   "metadata": {},
   "source": [
    "### Calculate Distance between Points"
   ]
  },
  {
   "cell_type": "code",
   "execution_count": 20,
   "metadata": {},
   "outputs": [
    {
     "name": "stdout",
     "output_type": "stream",
     "text": [
      "0.009484746463924658\n"
     ]
    }
   ],
   "source": [
    "# calculate the distance between great_medina and lycee_valdiodio\n",
    "distance_great_medina_and_lycee_valdiodio = great_medina.distance(lycee_valdiodio)\n",
    "print(distance_great_medina_and_lycee_valdiodio)"
   ]
  },
  {
   "cell_type": "code",
   "execution_count": 21,
   "metadata": {},
   "outputs": [
    {
     "name": "stdout",
     "output_type": "stream",
     "text": [
      "Distance between Great mosque of Medina Baye and Lycee Valdiodio is 0.01 decimal degrees\n"
     ]
    }
   ],
   "source": [
    "print(\"Distance between Great mosque of Medina Baye and Lycee Valdiodio is {0:.2f} decimal degrees\".format(distance_great_medina_and_lycee_valdiodio))"
   ]
  },
  {
   "cell_type": "markdown",
   "metadata": {},
   "source": [
    "Using google map, when we create a line distance between the two location, we got this:\\ Total distance: 912.88 m (2,995.00 ft)\n",
    "\n"
   ]
  },
  {
   "cell_type": "markdown",
   "metadata": {},
   "source": [
    "It's very important to know that shapely library calculate distance between two points in Euclidean distance, means like distance in a plane. We have to calculate distance between two points on sphere when we are in the surface of Earth"
   ]
  },
  {
   "cell_type": "code",
   "execution_count": 68,
   "metadata": {},
   "outputs": [
    {
     "name": "stdout",
     "output_type": "stream",
     "text": [
      "Result: 1.023745908203328\n"
     ]
    }
   ],
   "source": [
    "from math import sin, cos, sqrt, atan2, radians\n",
    "\n",
    "# approximate radius of earth in km\n",
    "R = 6373.0\n",
    "\n",
    "lat1 = radians(14.16113524342423)\n",
    "lon1 = radians(-16.062587070112155)\n",
    "lat2 = radians(14.15963413033422)\n",
    "lon2 = radians(-16.071952275661204)\n",
    "\n",
    "dlon = lon2 - lon1\n",
    "dlat = lat2 - lat1\n",
    "\n",
    "a = sin(dlat / 2)**2 + cos(lat1) * cos(lat2) * sin(dlon / 2)**2\n",
    "c = 2 * atan2(sqrt(a), sqrt(1 - a))\n",
    "dist = R * c\n",
    "\n",
    "print(\"Result:\", dist)\n"
   ]
  },
  {
   "cell_type": "code",
   "execution_count": 69,
   "metadata": {},
   "outputs": [
    {
     "data": {
      "text/plain": [
       "(array('d', [14.16113524342423]), array('d', [-16.062587070112155]))"
      ]
     },
     "execution_count": 69,
     "metadata": {},
     "output_type": "execute_result"
    }
   ],
   "source": [
    "great_medina.coords.xy"
   ]
  },
  {
   "cell_type": "code",
   "execution_count": 65,
   "metadata": {},
   "outputs": [
    {
     "data": {
      "text/plain": [
       "(array('d', [14.15963413033422]), array('d', [-16.071952275661204]))"
      ]
     },
     "execution_count": 65,
     "metadata": {},
     "output_type": "execute_result"
    }
   ],
   "source": [
    "lycee_valdiodio.coords.xy"
   ]
  },
  {
   "cell_type": "markdown",
   "metadata": {},
   "source": [
    "# Creating LineString \n",
    "When we regroup two seperate points together in a line that's also a LineString. For example, when we regroup great_medina coordinate and lycee_valdiodio coordinates. We will regroup three points in the next code to form a linestring"
   ]
  },
  {
   "cell_type": "code",
   "execution_count": 79,
   "metadata": {
    "scrolled": true
   },
   "outputs": [
    {
     "name": "stdout",
     "output_type": "stream",
     "text": [
      "POINT (14.16113524342423 -16.06258707011215)\n",
      "POINT (14.15963413033422 -16.0719522756612)\n",
      "POINT (14.14781397644444 -16.05143034497607)\n"
     ]
    }
   ],
   "source": [
    "print(great_medina);\n",
    "print(lycee_valdiodio);\n",
    "print(airport)"
   ]
  },
  {
   "cell_type": "code",
   "execution_count": 97,
   "metadata": {},
   "outputs": [
    {
     "data": {
      "text/plain": [
       "shapely.coords.CoordinateSequence"
      ]
     },
     "execution_count": 97,
     "metadata": {},
     "output_type": "execute_result"
    }
   ],
   "source": [
    "type(lycee_valdiodio.coords)"
   ]
  },
  {
   "cell_type": "code",
   "execution_count": 98,
   "metadata": {},
   "outputs": [
    {
     "name": "stdout",
     "output_type": "stream",
     "text": [
      "LINESTRING (14.16113524342423 -16.06258707011215, 14.15963413033422 -16.0719522756612, 14.14781397644444 -16.05143034497607)\n"
     ]
    }
   ],
   "source": [
    "from shapely.geometry import Point, LineString\n",
    "\n",
    "lines = LineString([great_medina, lycee_valdiodio, airport]).wkt\n",
    "print(lines)"
   ]
  },
  {
   "cell_type": "code",
   "execution_count": 105,
   "metadata": {
    "scrolled": false
   },
   "outputs": [
    {
     "name": "stdout",
     "output_type": "stream",
     "text": [
      "LINESTRING (14.16113524342423 -16.06258707011215, 14.15963413033422 -16.0719522756612, 14.14781397644444 -16.05143034497607)\n"
     ]
    }
   ],
   "source": [
    "lines_tuples = LineString([(14.16113524342423, -16.06258707011215), (14.15963413033422, -16.0719522756612), (14.14781397644444, -16.05143034497607)])\n",
    "print(lines_tuples)"
   ]
  },
  {
   "cell_type": "markdown",
   "metadata": {},
   "source": [
    "We will use our lincestring to do the following:\\\n",
    "    - To extract the coordinates or the length of a LineString (line),\\ \n",
    "    - Calculate the centroid of the line, \\\n",
    "    - Create points along the line at specific distance, \\\n",
    "    - Calculate the closest distance from a line to specified Point and simplify the geometry.\n",
    "    \n",
    "\n"
   ]
  },
  {
   "cell_type": "code",
   "execution_count": 112,
   "metadata": {},
   "outputs": [
    {
     "data": {
      "text/plain": [
       "(array('d', [14.16113524342423, 14.15963413033422, 14.14781397644444]),\n",
       " array('d', [-16.06258707011215, -16.0719522756612, -16.05143034497607]))"
      ]
     },
     "execution_count": 112,
     "metadata": {},
     "output_type": "execute_result"
    }
   ],
   "source": [
    "# Extracting the coordinates of our linestring named 'lines'\n",
    "lines_tuples.xy"
   ]
  },
  {
   "cell_type": "code",
   "execution_count": 113,
   "metadata": {},
   "outputs": [
    {
     "data": {
      "text/plain": [
       "'LINESTRING (14.16113524342423 -16.06258707011215, 14.15963413033422 -16.0719522756612, 14.14781397644444 -16.05143034497607)'"
      ]
     },
     "execution_count": 113,
     "metadata": {},
     "output_type": "execute_result"
    }
   ],
   "source": [
    "lines"
   ]
  },
  {
   "cell_type": "code",
   "execution_count": 118,
   "metadata": {
    "scrolled": true
   },
   "outputs": [
    {
     "name": "stdout",
     "output_type": "stream",
     "text": [
      "(14.16113524342423, -16.06258707011215)\n",
      "(14.15963413033422, -16.0719522756612)\n",
      "(14.14781397644444, -16.05143034497607)\n"
     ]
    }
   ],
   "source": [
    "# Txtracting the total of our tree location points,\n",
    "for i in lines_tuples.coords:\n",
    "    print(i)"
   ]
  },
  {
   "cell_type": "code",
   "execution_count": 121,
   "metadata": {
    "scrolled": true
   },
   "outputs": [
    {
     "name": "stdout",
     "output_type": "stream",
     "text": [
      "(14.16113524342423, -16.06258707011215)\n",
      "[(14.16113524342423, -16.06258707011215), (14.15963413033422, -16.0719522756612), (14.14781397644444, -16.05143034497607)]\n"
     ]
    }
   ],
   "source": [
    "# The Alternative code of above extraction\n",
    "all_lines = [i for i in lines_tuples.coords]\n",
    "print(all_lines[0]); # Extracting a \n",
    "print(all_lines)"
   ]
  },
  {
   "cell_type": "code",
   "execution_count": 125,
   "metadata": {},
   "outputs": [
    {
     "data": {
      "image/svg+xml": [
       "<svg xmlns=\"http://www.w3.org/2000/svg\" xmlns:xlink=\"http://www.w3.org/1999/xlink\" width=\"100.0\" height=\"100.0\" viewBox=\"14.146993099217035 -16.072773152888605 0.01496302143459971 0.02216368513994027\" preserveAspectRatio=\"xMinYMin meet\"><g transform=\"matrix(1,0,0,-1,0,-32.12338262063727)\"><polyline fill=\"none\" stroke=\"#66cc99\" stroke-width=\"0.0004432737027988054\" points=\"14.16113524342423,-16.06258707011215 14.15963413033422,-16.0719522756612 14.14781397644444,-16.05143034497607\" opacity=\"0.8\" /></g></svg>"
      ],
      "text/plain": [
       "<shapely.geometry.linestring.LineString at 0x124e9eb0>"
      ]
     },
     "execution_count": 125,
     "metadata": {},
     "output_type": "execute_result"
    }
   ],
   "source": [
    "lines_tuples"
   ]
  },
  {
   "cell_type": "code",
   "execution_count": null,
   "metadata": {},
   "outputs": [],
   "source": [
    "# Get the lenght of the lines_tuple"
   ]
  },
  {
   "cell_type": "code",
   "execution_count": 138,
   "metadata": {},
   "outputs": [
    {
     "name": "stdout",
     "output_type": "stream",
     "text": [
      "Length of our line: 0.03\n"
     ]
    }
   ],
   "source": [
    "lenght_lines_tuples = lines_tuples.length\n",
    "print(\"Length of our line: {0:.2f}\".format(lenght_lines_tuples))"
   ]
  },
  {
   "cell_type": "code",
   "execution_count": 128,
   "metadata": {},
   "outputs": [
    {
     "name": "stdout",
     "output_type": "stream",
     "text": [
      "POINT (14.15562877056682 -16.06328653440982)\n"
     ]
    }
   ],
   "source": [
    "# Get the centroid of the line\n",
    "centroid_lines_tuples = lines_tuples.centroid\n",
    "print(centroid_lines_tuples)"
   ]
  },
  {
   "cell_type": "code",
   "execution_count": 139,
   "metadata": {},
   "outputs": [
    {
     "data": {
      "text/plain": [
       "0.033167349298567565"
      ]
     },
     "execution_count": 139,
     "metadata": {},
     "output_type": "execute_result"
    }
   ],
   "source": [
    "lenght_lines_tuples"
   ]
  },
  {
   "cell_type": "code",
   "execution_count": 142,
   "metadata": {},
   "outputs": [
    {
     "data": {
      "text/plain": [
       "3.5079370846056706e-15"
      ]
     },
     "execution_count": 142,
     "metadata": {},
     "output_type": "execute_result"
    }
   ],
   "source": [
    "# Checking the closest distance between the linestring and point\n",
    "lines_tuples.project(great_medina)"
   ]
  },
  {
   "cell_type": "code",
   "execution_count": 147,
   "metadata": {},
   "outputs": [
    {
     "data": {
      "text/plain": [
       "5.622738603069307e-16"
      ]
     },
     "execution_count": 147,
     "metadata": {},
     "output_type": "execute_result"
    }
   ],
   "source": [
    "# Calculate the closest distance of great_medina to the linestring,\n",
    "closest_distance = great_medina.distance(lines_tuples)\n",
    "closest_distance"
   ]
  },
  {
   "cell_type": "code",
   "execution_count": 145,
   "metadata": {},
   "outputs": [
    {
     "data": {
      "text/plain": [
       "False"
      ]
     },
     "execution_count": 145,
     "metadata": {},
     "output_type": "execute_result"
    }
   ],
   "source": [
    "lines_tuples.contains(great_medina)"
   ]
  },
  {
   "cell_type": "code",
   "execution_count": 156,
   "metadata": {},
   "outputs": [
    {
     "name": "stdout",
     "output_type": "stream",
     "text": [
      "(14.16113524342423, -16.062587070112155)\n"
     ]
    }
   ],
   "source": [
    "# Find the closest point, another method\n",
    "pol_ext = LineString(lines_tuples.coords)\n",
    "d = pol_ext.project(great_medina)\n",
    "p = pol_ext.interpolate(d)\n",
    "closest_point_coords = list(p.coords)[0]\n",
    "print(closest_point_coords)"
   ]
  },
  {
   "cell_type": "markdown",
   "metadata": {},
   "source": [
    "## Polygon"
   ]
  },
  {
   "cell_type": "code",
   "execution_count": 159,
   "metadata": {},
   "outputs": [
    {
     "name": "stdout",
     "output_type": "stream",
     "text": [
      "POLYGON ((14.16113524342423 -16.06258707011215, 14.15963413033422 -16.0719522756612, 14.14781397644444 -16.05143034497607, 14.16113524342423 -16.06258707011215))\n"
     ]
    }
   ],
   "source": [
    "# Create a Polygon from the coordinates\n",
    "poly = Polygon([(14.16113524342423, -16.06258707011215), (14.15963413033422, -16.0719522756612), (14.14781397644444, -16.05143034497607)])\n",
    "print(poly)"
   ]
  },
  {
   "cell_type": "code",
   "execution_count": 160,
   "metadata": {},
   "outputs": [
    {
     "name": "stdout",
     "output_type": "stream",
     "text": [
      "POLYGON ((14.16113524342423 -16.06258707011215, 14.15963413033422 -16.0719522756612, 14.14781397644444 -16.05143034497607, 14.16113524342423 -16.06258707011215))\n"
     ]
    }
   ],
   "source": [
    "\n",
    "# We can also use our previously created Point objects (same outcome)\n",
    "# --> notice that Polygon object requires x,y coordinates as input\n",
    "poly2 = Polygon([[p.x, p.y] for p in [great_medina, lycee_valdiodio, airport]])\n",
    "print(poly2)"
   ]
  },
  {
   "cell_type": "code",
   "execution_count": 161,
   "metadata": {},
   "outputs": [],
   "source": [
    "\n",
    "# Geometry type can be accessed as a String\n",
    "poly_type = poly.geom_type\n",
    "\n",
    "# Using the Python's type function gives the type in a different format\n",
    "poly_type2 = type(poly)"
   ]
  },
  {
   "cell_type": "code",
   "execution_count": 162,
   "metadata": {},
   "outputs": [
    {
     "name": "stdout",
     "output_type": "stream",
     "text": [
      "Polygon\n",
      "<class 'shapely.geometry.polygon.Polygon'>\n"
     ]
    }
   ],
   "source": [
    "print(poly_type);\n",
    "print(poly_type2)"
   ]
  },
  {
   "cell_type": "markdown",
   "metadata": {},
   "source": [
    "Polygon can bave a double parentheses, this is because polygon can have a holes inside of it, that why polygon can have interior and exterior coordinates"
   ]
  },
  {
   "cell_type": "code",
   "execution_count": 163,
   "metadata": {},
   "outputs": [
    {
     "data": {
      "image/svg+xml": [
       "<svg xmlns=\"http://www.w3.org/2000/svg\" xmlns:xlink=\"http://www.w3.org/1999/xlink\" width=\"100.0\" height=\"100.0\" viewBox=\"14.146993099217035 -16.072773152888605 0.01496302143459971 0.02216368513994027\" preserveAspectRatio=\"xMinYMin meet\"><g transform=\"matrix(1,0,0,-1,0,-32.12338262063727)\"><path fill-rule=\"evenodd\" fill=\"#66cc99\" stroke=\"#555555\" stroke-width=\"0.0004432737027988054\" opacity=\"0.6\" d=\"M 14.16113524342423,-16.06258707011215 L 14.15963413033422,-16.0719522756612 L 14.14781397644444,-16.05143034497607 L 14.16113524342423,-16.06258707011215 z\" /></g></svg>"
      ],
      "text/plain": [
       "<shapely.geometry.polygon.Polygon at 0x129163a0>"
      ]
     },
     "execution_count": 163,
     "metadata": {},
     "output_type": "execute_result"
    }
   ],
   "source": [
    "# Extract the shape of our polygon\n",
    "poly"
   ]
  },
  {
   "cell_type": "code",
   "execution_count": 164,
   "metadata": {},
   "outputs": [
    {
     "data": {
      "image/svg+xml": [
       "<svg xmlns=\"http://www.w3.org/2000/svg\" xmlns:xlink=\"http://www.w3.org/1999/xlink\" width=\"100.0\" height=\"100.0\" viewBox=\"14.146993099217031 -16.072773152888608 0.014963021434603263 0.02216368513994027\" preserveAspectRatio=\"xMinYMin meet\"><g transform=\"matrix(1,0,0,-1,0,-32.12338262063727)\"><path fill-rule=\"evenodd\" fill=\"#66cc99\" stroke=\"#555555\" stroke-width=\"0.0004432737027988054\" opacity=\"0.6\" d=\"M 14.16113524342423,-16.062587070112155 L 14.15963413033422,-16.071952275661204 L 14.147813976444436,-16.051430344976072 L 14.16113524342423,-16.062587070112155 z\" /></g></svg>"
      ],
      "text/plain": [
       "<shapely.geometry.polygon.Polygon at 0x128bee50>"
      ]
     },
     "execution_count": 164,
     "metadata": {},
     "output_type": "execute_result"
    }
   ],
   "source": [
    "poly2"
   ]
  },
  {
   "cell_type": "code",
   "execution_count": 165,
   "metadata": {},
   "outputs": [
    {
     "data": {
      "text/plain": [
       "7.075195479145349e-05"
      ]
     },
     "execution_count": 165,
     "metadata": {},
     "output_type": "execute_result"
    }
   ],
   "source": [
    "poly.area"
   ]
  },
  {
   "cell_type": "code",
   "execution_count": 168,
   "metadata": {},
   "outputs": [
    {
     "data": {
      "image/svg+xml": [
       "<svg xmlns=\"http://www.w3.org/2000/svg\" xmlns:xlink=\"http://www.w3.org/1999/xlink\" width=\"100.0\" height=\"100.0\" viewBox=\"14.146993099217035 -16.072773152888605 0.01496302143459971 0.02216368513994027\" preserveAspectRatio=\"xMinYMin meet\"><g transform=\"matrix(1,0,0,-1,0,-32.12338262063727)\"><polyline fill=\"none\" stroke=\"#66cc99\" stroke-width=\"0.0004432737027988054\" points=\"14.16113524342423,-16.06258707011215 14.15963413033422,-16.0719522756612 14.14781397644444,-16.05143034497607 14.16113524342423,-16.06258707011215\" opacity=\"0.8\" /></g></svg>"
      ],
      "text/plain": [
       "<shapely.geometry.linestring.LineString at 0x12548b20>"
      ]
     },
     "execution_count": 168,
     "metadata": {},
     "output_type": "execute_result"
    }
   ],
   "source": [
    "poly.boundary"
   ]
  },
  {
   "cell_type": "code",
   "execution_count": 179,
   "metadata": {},
   "outputs": [
    {
     "data": {
      "text/plain": [
       "(14.14781397644444, -16.0719522756612, 14.16113524342423, -16.05143034497607)"
      ]
     },
     "execution_count": 179,
     "metadata": {},
     "output_type": "execute_result"
    }
   ],
   "source": [
    "poly.bounds"
   ]
  },
  {
   "cell_type": "markdown",
   "metadata": {},
   "source": [
    "Conclusion:\\\n",
    "    The first part of geospatial is to know the geometry types and attributes, point, linestring, polygon and so on. Identifying your own place and create a line to other places near to you can be a fun, you can calculate distances and more."
   ]
  },
  {
   "cell_type": "code",
   "execution_count": null,
   "metadata": {},
   "outputs": [],
   "source": []
  }
 ],
 "metadata": {
  "kernelspec": {
   "display_name": "Python 3",
   "language": "python",
   "name": "python3"
  },
  "language_info": {
   "codemirror_mode": {
    "name": "ipython",
    "version": 3
   },
   "file_extension": ".py",
   "mimetype": "text/x-python",
   "name": "python",
   "nbconvert_exporter": "python",
   "pygments_lexer": "ipython3",
   "version": "3.8.6"
  }
 },
 "nbformat": 4,
 "nbformat_minor": 4
}
