{
 "cells": [
  {
   "cell_type": "markdown",
   "metadata": {},
   "source": [
    "# Pmlotting Spatial Data with Python and Calculating distances between points in Geodataframe"
   ]
  },
  {
   "cell_type": "code",
   "execution_count": 19,
   "metadata": {},
   "outputs": [],
   "source": [
    "import pandas as pd\n",
    "import geopandas\n",
    "import numpy as np\n",
    "import matplotlib.pyplot as plt"
   ]
  },
  {
   "cell_type": "code",
   "execution_count": 2,
   "metadata": {},
   "outputs": [],
   "source": [
    "schools_malika = pd.read_excel('D:\\Research\\PROJECT\\pyexeriences\\Geospatial experiences\\schools_in_malika_with_latlon.xlsx')\n"
   ]
  },
  {
   "cell_type": "code",
   "execution_count": 3,
   "metadata": {},
   "outputs": [
    {
     "data": {
      "text/html": [
       "<div>\n",
       "<style scoped>\n",
       "    .dataframe tbody tr th:only-of-type {\n",
       "        vertical-align: middle;\n",
       "    }\n",
       "\n",
       "    .dataframe tbody tr th {\n",
       "        vertical-align: top;\n",
       "    }\n",
       "\n",
       "    .dataframe thead th {\n",
       "        text-align: right;\n",
       "    }\n",
       "</style>\n",
       "<table border=\"1\" class=\"dataframe\">\n",
       "  <thead>\n",
       "    <tr style=\"text-align: right;\">\n",
       "      <th></th>\n",
       "      <th>Unnamed: 0</th>\n",
       "      <th>school_name</th>\n",
       "      <th>addresses</th>\n",
       "      <th>coordinates</th>\n",
       "      <th>phone_contacts</th>\n",
       "      <th>longitude</th>\n",
       "      <th>latitude</th>\n",
       "    </tr>\n",
       "  </thead>\n",
       "  <tbody>\n",
       "    <tr>\n",
       "      <th>0</th>\n",
       "      <td>0</td>\n",
       "      <td>Institut Biblique, Malika Sénégal</td>\n",
       "      <td>Malika, Senegal</td>\n",
       "      <td>-17.337383, 14.796181</td>\n",
       "      <td>NaN</td>\n",
       "      <td>-17.337383</td>\n",
       "      <td>14.796181</td>\n",
       "    </tr>\n",
       "    <tr>\n",
       "      <th>1</th>\n",
       "      <td>1</td>\n",
       "      <td>Elementary School Malika Plage</td>\n",
       "      <td>Malika, Senegal</td>\n",
       "      <td>-17.337383, 14.796181</td>\n",
       "      <td>NaN</td>\n",
       "      <td>-17.337383</td>\n",
       "      <td>14.796181</td>\n",
       "    </tr>\n",
       "    <tr>\n",
       "      <th>2</th>\n",
       "      <td>2</td>\n",
       "      <td>Keur Serigne Touba</td>\n",
       "      <td>Malika Plage, Senegal</td>\n",
       "      <td>-17.3363701, 14.7963104</td>\n",
       "      <td>+221 76 002 83 91</td>\n",
       "      <td>-17.336370</td>\n",
       "      <td>14.796310</td>\n",
       "    </tr>\n",
       "    <tr>\n",
       "      <th>3</th>\n",
       "      <td>3</td>\n",
       "      <td>Gs Cholaye</td>\n",
       "      <td>Malika plage, Malika, Senegal</td>\n",
       "      <td>-17.3376452, 14.8007407</td>\n",
       "      <td>+221 77 381 32 10</td>\n",
       "      <td>-17.337645</td>\n",
       "      <td>14.800741</td>\n",
       "    </tr>\n",
       "    <tr>\n",
       "      <th>4</th>\n",
       "      <td>4</td>\n",
       "      <td>School Houddalah</td>\n",
       "      <td>Malika- Cite Sonatel Road, Senegal</td>\n",
       "      <td>-17.338977, 14.785753</td>\n",
       "      <td>NaN</td>\n",
       "      <td>-17.338977</td>\n",
       "      <td>14.785753</td>\n",
       "    </tr>\n",
       "  </tbody>\n",
       "</table>\n",
       "</div>"
      ],
      "text/plain": [
       "   Unnamed: 0                        school_name  \\\n",
       "0           0  Institut Biblique, Malika Sénégal   \n",
       "1           1     Elementary School Malika Plage   \n",
       "2           2                 Keur Serigne Touba   \n",
       "3           3                         Gs Cholaye   \n",
       "4           4                   School Houddalah   \n",
       "\n",
       "                            addresses              coordinates  \\\n",
       "0                     Malika, Senegal    -17.337383, 14.796181   \n",
       "1                     Malika, Senegal    -17.337383, 14.796181   \n",
       "2               Malika Plage, Senegal  -17.3363701, 14.7963104   \n",
       "3       Malika plage, Malika, Senegal  -17.3376452, 14.8007407   \n",
       "4  Malika- Cite Sonatel Road, Senegal    -17.338977, 14.785753   \n",
       "\n",
       "      phone_contacts  longitude   latitude  \n",
       "0                NaN -17.337383  14.796181  \n",
       "1                NaN -17.337383  14.796181  \n",
       "2  +221 76 002 83 91 -17.336370  14.796310  \n",
       "3  +221 77 381 32 10 -17.337645  14.800741  \n",
       "4                NaN -17.338977  14.785753  "
      ]
     },
     "execution_count": 3,
     "metadata": {},
     "output_type": "execute_result"
    }
   ],
   "source": [
    "schools_malika.head()"
   ]
  },
  {
   "cell_type": "code",
   "execution_count": 4,
   "metadata": {},
   "outputs": [],
   "source": [
    "# removing 'Unnamed: 0' column\n",
    "schools_malika.drop('Unnamed: 0', axis=1, inplace=True)"
   ]
  },
  {
   "cell_type": "code",
   "execution_count": 5,
   "metadata": {},
   "outputs": [
    {
     "data": {
      "text/plain": [
       "Index(['school_name', 'addresses', 'coordinates', 'phone_contacts',\n",
       "       'longitude', 'latitude'],\n",
       "      dtype='object')"
      ]
     },
     "execution_count": 5,
     "metadata": {},
     "output_type": "execute_result"
    }
   ],
   "source": [
    "schools_malika.columns"
   ]
  },
  {
   "cell_type": "code",
   "execution_count": 6,
   "metadata": {},
   "outputs": [
    {
     "data": {
      "text/html": [
       "<div>\n",
       "<style scoped>\n",
       "    .dataframe tbody tr th:only-of-type {\n",
       "        vertical-align: middle;\n",
       "    }\n",
       "\n",
       "    .dataframe tbody tr th {\n",
       "        vertical-align: top;\n",
       "    }\n",
       "\n",
       "    .dataframe thead th {\n",
       "        text-align: right;\n",
       "    }\n",
       "</style>\n",
       "<table border=\"1\" class=\"dataframe\">\n",
       "  <thead>\n",
       "    <tr style=\"text-align: right;\">\n",
       "      <th></th>\n",
       "      <th>school_name</th>\n",
       "      <th>addresses</th>\n",
       "      <th>coordinates</th>\n",
       "      <th>phone_contacts</th>\n",
       "      <th>longitude</th>\n",
       "      <th>latitude</th>\n",
       "    </tr>\n",
       "  </thead>\n",
       "  <tbody>\n",
       "    <tr>\n",
       "      <th>25</th>\n",
       "      <td>French School</td>\n",
       "      <td>Keur Massar, Senegal</td>\n",
       "      <td>-17.310605, 14.7891319</td>\n",
       "      <td>NaN</td>\n",
       "      <td>-17.310605</td>\n",
       "      <td>14.789132</td>\n",
       "    </tr>\n",
       "    <tr>\n",
       "      <th>26</th>\n",
       "      <td>School Tinder Ndiaye Deguene</td>\n",
       "      <td>Senegal</td>\n",
       "      <td>-17.3833717, 14.7778211</td>\n",
       "      <td>NaN</td>\n",
       "      <td>-17.383372</td>\n",
       "      <td>14.777821</td>\n",
       "    </tr>\n",
       "    <tr>\n",
       "      <th>27</th>\n",
       "      <td>School Group Galle Nanondiral</td>\n",
       "      <td>Dakar, Senegal</td>\n",
       "      <td>-17.347285, 14.787532</td>\n",
       "      <td>NaN</td>\n",
       "      <td>-17.347285</td>\n",
       "      <td>14.787532</td>\n",
       "    </tr>\n",
       "    <tr>\n",
       "      <th>28</th>\n",
       "      <td>Small School Soldats</td>\n",
       "      <td>Senegal</td>\n",
       "      <td>-17.3439065, 14.7710441</td>\n",
       "      <td>+221 33 872 82 57</td>\n",
       "      <td>-17.343906</td>\n",
       "      <td>14.771044</td>\n",
       "    </tr>\n",
       "    <tr>\n",
       "      <th>29</th>\n",
       "      <td>Keur Serigne Touba</td>\n",
       "      <td>Unnamed Road, Senegal</td>\n",
       "      <td>-17.3461828, 14.7894696</td>\n",
       "      <td>NaN</td>\n",
       "      <td>-17.346183</td>\n",
       "      <td>14.789470</td>\n",
       "    </tr>\n",
       "  </tbody>\n",
       "</table>\n",
       "</div>"
      ],
      "text/plain": [
       "                      school_name              addresses  \\\n",
       "25                  French School   Keur Massar, Senegal   \n",
       "26   School Tinder Ndiaye Deguene                Senegal   \n",
       "27  School Group Galle Nanondiral         Dakar, Senegal   \n",
       "28           Small School Soldats                Senegal   \n",
       "29             Keur Serigne Touba  Unnamed Road, Senegal   \n",
       "\n",
       "                coordinates     phone_contacts  longitude   latitude  \n",
       "25   -17.310605, 14.7891319                NaN -17.310605  14.789132  \n",
       "26  -17.3833717, 14.7778211                NaN -17.383372  14.777821  \n",
       "27    -17.347285, 14.787532                NaN -17.347285  14.787532  \n",
       "28  -17.3439065, 14.7710441  +221 33 872 82 57 -17.343906  14.771044  \n",
       "29  -17.3461828, 14.7894696                NaN -17.346183  14.789470  "
      ]
     },
     "execution_count": 6,
     "metadata": {},
     "output_type": "execute_result"
    }
   ],
   "source": [
    "# Check the last rows\n",
    "schools_malika.tail()"
   ]
  },
  {
   "cell_type": "code",
   "execution_count": 7,
   "metadata": {},
   "outputs": [
    {
     "data": {
      "text/plain": [
       "(30, 6)"
      ]
     },
     "execution_count": 7,
     "metadata": {},
     "output_type": "execute_result"
    }
   ],
   "source": [
    "# The shape of our data\n",
    "schools_malika.shape"
   ]
  },
  {
   "cell_type": "markdown",
   "metadata": {},
   "source": [
    "## Plotting a shapefile"
   ]
  },
  {
   "cell_type": "code",
   "execution_count": 9,
   "metadata": {},
   "outputs": [],
   "source": [
    "geom_schools = geopandas.GeoDataFrame(schools_malika, geometry=geopandas.points_from_xy(schools_malika.longitude, schools_malika.latitude))\n"
   ]
  },
  {
   "cell_type": "code",
   "execution_count": 10,
   "metadata": {},
   "outputs": [
    {
     "data": {
      "text/html": [
       "<div>\n",
       "<style scoped>\n",
       "    .dataframe tbody tr th:only-of-type {\n",
       "        vertical-align: middle;\n",
       "    }\n",
       "\n",
       "    .dataframe tbody tr th {\n",
       "        vertical-align: top;\n",
       "    }\n",
       "\n",
       "    .dataframe thead th {\n",
       "        text-align: right;\n",
       "    }\n",
       "</style>\n",
       "<table border=\"1\" class=\"dataframe\">\n",
       "  <thead>\n",
       "    <tr style=\"text-align: right;\">\n",
       "      <th></th>\n",
       "      <th>school_name</th>\n",
       "      <th>addresses</th>\n",
       "      <th>coordinates</th>\n",
       "      <th>phone_contacts</th>\n",
       "      <th>longitude</th>\n",
       "      <th>latitude</th>\n",
       "      <th>geometry</th>\n",
       "    </tr>\n",
       "  </thead>\n",
       "  <tbody>\n",
       "    <tr>\n",
       "      <th>0</th>\n",
       "      <td>Institut Biblique, Malika Sénégal</td>\n",
       "      <td>Malika, Senegal</td>\n",
       "      <td>-17.337383, 14.796181</td>\n",
       "      <td>NaN</td>\n",
       "      <td>-17.337383</td>\n",
       "      <td>14.796181</td>\n",
       "      <td>POINT (-17.33738 14.79618)</td>\n",
       "    </tr>\n",
       "    <tr>\n",
       "      <th>1</th>\n",
       "      <td>Elementary School Malika Plage</td>\n",
       "      <td>Malika, Senegal</td>\n",
       "      <td>-17.337383, 14.796181</td>\n",
       "      <td>NaN</td>\n",
       "      <td>-17.337383</td>\n",
       "      <td>14.796181</td>\n",
       "      <td>POINT (-17.33738 14.79618)</td>\n",
       "    </tr>\n",
       "    <tr>\n",
       "      <th>2</th>\n",
       "      <td>Keur Serigne Touba</td>\n",
       "      <td>Malika Plage, Senegal</td>\n",
       "      <td>-17.3363701, 14.7963104</td>\n",
       "      <td>+221 76 002 83 91</td>\n",
       "      <td>-17.336370</td>\n",
       "      <td>14.796310</td>\n",
       "      <td>POINT (-17.33637 14.79631)</td>\n",
       "    </tr>\n",
       "    <tr>\n",
       "      <th>3</th>\n",
       "      <td>Gs Cholaye</td>\n",
       "      <td>Malika plage, Malika, Senegal</td>\n",
       "      <td>-17.3376452, 14.8007407</td>\n",
       "      <td>+221 77 381 32 10</td>\n",
       "      <td>-17.337645</td>\n",
       "      <td>14.800741</td>\n",
       "      <td>POINT (-17.33765 14.80074)</td>\n",
       "    </tr>\n",
       "    <tr>\n",
       "      <th>4</th>\n",
       "      <td>School Houddalah</td>\n",
       "      <td>Malika- Cite Sonatel Road, Senegal</td>\n",
       "      <td>-17.338977, 14.785753</td>\n",
       "      <td>NaN</td>\n",
       "      <td>-17.338977</td>\n",
       "      <td>14.785753</td>\n",
       "      <td>POINT (-17.33898 14.78575)</td>\n",
       "    </tr>\n",
       "  </tbody>\n",
       "</table>\n",
       "</div>"
      ],
      "text/plain": [
       "                         school_name                           addresses  \\\n",
       "0  Institut Biblique, Malika Sénégal                     Malika, Senegal   \n",
       "1     Elementary School Malika Plage                     Malika, Senegal   \n",
       "2                 Keur Serigne Touba               Malika Plage, Senegal   \n",
       "3                         Gs Cholaye       Malika plage, Malika, Senegal   \n",
       "4                   School Houddalah  Malika- Cite Sonatel Road, Senegal   \n",
       "\n",
       "               coordinates     phone_contacts  longitude   latitude  \\\n",
       "0    -17.337383, 14.796181                NaN -17.337383  14.796181   \n",
       "1    -17.337383, 14.796181                NaN -17.337383  14.796181   \n",
       "2  -17.3363701, 14.7963104  +221 76 002 83 91 -17.336370  14.796310   \n",
       "3  -17.3376452, 14.8007407  +221 77 381 32 10 -17.337645  14.800741   \n",
       "4    -17.338977, 14.785753                NaN -17.338977  14.785753   \n",
       "\n",
       "                     geometry  \n",
       "0  POINT (-17.33738 14.79618)  \n",
       "1  POINT (-17.33738 14.79618)  \n",
       "2  POINT (-17.33637 14.79631)  \n",
       "3  POINT (-17.33765 14.80074)  \n",
       "4  POINT (-17.33898 14.78575)  "
      ]
     },
     "execution_count": 10,
     "metadata": {},
     "output_type": "execute_result"
    }
   ],
   "source": [
    "geom_schools.head()"
   ]
  },
  {
   "cell_type": "code",
   "execution_count": 14,
   "metadata": {},
   "outputs": [
    {
     "name": "stdout",
     "output_type": "stream",
     "text": [
      "school_name         object\n",
      "addresses           object\n",
      "coordinates         object\n",
      "phone_contacts      object\n",
      "longitude          float64\n",
      "latitude           float64\n",
      "geometry          geometry\n",
      "dtype: object\n",
      "The following data are differents:\n",
      "school_name         object\n",
      "addresses           object\n",
      "coordinates         object\n",
      "phone_contacts      object\n",
      "longitude          float64\n",
      "latitude           float64\n",
      "geometry          geometry\n",
      "dtype: object\n"
     ]
    }
   ],
   "source": [
    "#  Checking the data type of both our data\n",
    "print(schools_malika.dtypes);\n",
    "print('The following data are differents:')\n",
    "print(geom_schools.dtypes)"
   ]
  },
  {
   "cell_type": "code",
   "execution_count": 15,
   "metadata": {},
   "outputs": [],
   "source": [
    "# Dropping the coordinates column in our geom_school data\n",
    "geom_schools.drop('coordinates', axis=1, inplace=True)\n"
   ]
  },
  {
   "cell_type": "code",
   "execution_count": 16,
   "metadata": {},
   "outputs": [
    {
     "data": {
      "text/plain": [
       "Index(['school_name', 'addresses', 'phone_contacts', 'longitude', 'latitude',\n",
       "       'geometry'],\n",
       "      dtype='object')"
      ]
     },
     "execution_count": 16,
     "metadata": {},
     "output_type": "execute_result"
    }
   ],
   "source": [
    "geom_schools.columns"
   ]
  },
  {
   "cell_type": "code",
   "execution_count": 17,
   "metadata": {},
   "outputs": [
    {
     "data": {
      "text/plain": [
       "<AxesSubplot:>"
      ]
     },
     "execution_count": 17,
     "metadata": {},
     "output_type": "execute_result"
    },
    {
     "data": {
      "image/png": "[encoded data removed]",
      "text/plain": [
       "<Figure size 432x288 with 1 Axes>"
      ]
     },
     "metadata": {
      "needs_background": "light"
     },
     "output_type": "display_data"
    }
   ],
   "source": [
    "# plotting schools locations\n",
    "geom_schools.plot()"
   ]
  },
  {
   "cell_type": "code",
   "execution_count": 20,
   "metadata": {},
   "outputs": [
    {
     "data": {
      "text/plain": [
       "<AxesSubplot:>"
      ]
     },
     "execution_count": 20,
     "metadata": {},
     "output_type": "execute_result"
    },
    {
     "data": {
      "image/png": "[encoded data removed]",
      "text/plain": [
       "<Figure size 720x720 with 1 Axes>"
      ]
     },
     "metadata": {
      "needs_background": "light"
     },
     "output_type": "display_data"
    }
   ],
   "source": [
    "fig, ax = plt.subplots(figsize = (10,10))\n",
    "geom_schools.plot(ax=ax)"
   ]
  },
  {
   "cell_type": "code",
   "execution_count": 22,
   "metadata": {},
   "outputs": [
    {
     "data": {
      "image/png": "[encoded data removed]",
      "text/plain": [
       "<Figure size 720x720 with 1 Axes>"
      ]
     },
     "metadata": {
      "needs_background": "light"
     },
     "output_type": "display_data"
    }
   ],
   "source": [
    "fig, ax = plt.subplots(figsize=(10, 10))\n",
    "\n",
    "# Plot the data and add a legend\n",
    "geom_schools.plot(categorical=True,\n",
    "                         legend=True,\n",
    "                         figsize=(10, 6),\n",
    "                         markersize=45,\n",
    "                         cmap=\"Set2\",\n",
    "                         ax=ax)\n",
    "# Add a title\n",
    "ax.set_title('Different schools in Malika, Dakar, Senegal')\n",
    "\n",
    "plt.show()"
   ]
  },
  {
   "cell_type": "code",
   "execution_count": 23,
   "metadata": {},
   "outputs": [],
   "source": [
    "import contextily as ctx"
   ]
  },
  {
   "cell_type": "code",
   "execution_count": 34,
   "metadata": {},
   "outputs": [
    {
     "data": {
      "image/png": "[encoded data removed]",
      "text/plain": [
       "<Figure size 720x720 with 1 Axes>"
      ]
     },
     "metadata": {
      "needs_background": "light"
     },
     "output_type": "display_data"
    }
   ],
   "source": [
    "ctx.add_basemap(geom_schools.plot(figsize=(10,10)), zoom=8)"
   ]
  },
  {
   "cell_type": "markdown",
   "metadata": {},
   "source": [
    "## Coordinate Reference System CRS"
   ]
  },
  {
   "cell_type": "markdown",
   "metadata": {},
   "source": [
    "Let's check if our data contains a crs"
   ]
  },
  {
   "cell_type": "code",
   "execution_count": 36,
   "metadata": {},
   "outputs": [
    {
     "name": "stdout",
     "output_type": "stream",
     "text": [
      "None\n"
     ]
    }
   ],
   "source": [
    "print(geom_schools.crs)"
   ]
  },
  {
   "cell_type": "markdown",
   "metadata": {},
   "source": [
    "We can insert a crs for our data easily with the following method"
   ]
  },
  {
   "cell_type": "code",
   "execution_count": 37,
   "metadata": {},
   "outputs": [],
   "source": [
    "geom_schools.crs = 'epsg:4326'"
   ]
  },
  {
   "cell_type": "code",
   "execution_count": 38,
   "metadata": {},
   "outputs": [
    {
     "data": {
      "text/plain": [
       "<Geographic 2D CRS: EPSG:4326>\n",
       "Name: WGS 84\n",
       "Axis Info [ellipsoidal]:\n",
       "- Lat[north]: Geodetic latitude (degree)\n",
       "- Lon[east]: Geodetic longitude (degree)\n",
       "Area of Use:\n",
       "- name: World.\n",
       "- bounds: (-180.0, -90.0, 180.0, 90.0)\n",
       "Datum: World Geodetic System 1984\n",
       "- Ellipsoid: WGS 84\n",
       "- Prime Meridian: Greenwich"
      ]
     },
     "execution_count": 38,
     "metadata": {},
     "output_type": "execute_result"
    }
   ],
   "source": [
    "geom_schools.crs"
   ]
  },
  {
   "cell_type": "code",
   "execution_count": 50,
   "metadata": {
    "scrolled": true
   },
   "outputs": [
    {
     "data": {
      "image/png": "[encoded data removed]",
      "text/plain": [
       "<Figure size 1440x864 with 1 Axes>"
      ]
     },
     "metadata": {
      "needs_background": "light"
     },
     "output_type": "display_data"
    }
   ],
   "source": [
    "ctx.add_basemap(geom_schools.plot(figsize=(20,12)), zoom = 17)"
   ]
  },
  {
   "cell_type": "code",
   "execution_count": 54,
   "metadata": {},
   "outputs": [],
   "source": [
    "import osmnx as ox\n",
    "dakar_region = ox.geocode_to_gdf('Dakar, Senegal')"
   ]
  },
  {
   "cell_type": "code",
   "execution_count": 55,
   "metadata": {},
   "outputs": [
    {
     "data": {
      "text/html": [
       "<div>\n",
       "<style scoped>\n",
       "    .dataframe tbody tr th:only-of-type {\n",
       "        vertical-align: middle;\n",
       "    }\n",
       "\n",
       "    .dataframe tbody tr th {\n",
       "        vertical-align: top;\n",
       "    }\n",
       "\n",
       "    .dataframe thead th {\n",
       "        text-align: right;\n",
       "    }\n",
       "</style>\n",
       "<table border=\"1\" class=\"dataframe\">\n",
       "  <thead>\n",
       "    <tr style=\"text-align: right;\">\n",
       "      <th></th>\n",
       "      <th>geometry</th>\n",
       "      <th>place_name</th>\n",
       "      <th>bbox_north</th>\n",
       "      <th>bbox_south</th>\n",
       "      <th>bbox_east</th>\n",
       "      <th>bbox_west</th>\n",
       "    </tr>\n",
       "  </thead>\n",
       "  <tbody>\n",
       "    <tr>\n",
       "      <th>0</th>\n",
       "      <td>MULTIPOLYGON (((-17.54902 14.74736, -17.54584 ...</td>\n",
       "      <td>Dakar, Senegal</td>\n",
       "      <td>14.887899</td>\n",
       "      <td>14.590074</td>\n",
       "      <td>-17.12061</td>\n",
       "      <td>-17.549025</td>\n",
       "    </tr>\n",
       "  </tbody>\n",
       "</table>\n",
       "</div>"
      ],
      "text/plain": [
       "                                            geometry      place_name  \\\n",
       "0  MULTIPOLYGON (((-17.54902 14.74736, -17.54584 ...  Dakar, Senegal   \n",
       "\n",
       "   bbox_north  bbox_south  bbox_east  bbox_west  \n",
       "0   14.887899   14.590074  -17.12061 -17.549025  "
      ]
     },
     "execution_count": 55,
     "metadata": {},
     "output_type": "execute_result"
    }
   ],
   "source": [
    "dakar_region"
   ]
  },
  {
   "cell_type": "code",
   "execution_count": 56,
   "metadata": {},
   "outputs": [
    {
     "data": {
      "text/plain": [
       "<AxesSubplot:>"
      ]
     },
     "execution_count": 56,
     "metadata": {},
     "output_type": "execute_result"
    },
    {
     "data": {
      "image/png": "[encoded data removed]",
      "text/plain": [
       "<Figure size 432x288 with 1 Axes>"
      ]
     },
     "metadata": {
      "needs_background": "light"
     },
     "output_type": "display_data"
    }
   ],
   "source": [
    "dakar_region.plot()"
   ]
  },
  {
   "cell_type": "markdown",
   "metadata": {},
   "source": [
    "## Visualizing Shools"
   ]
  },
  {
   "cell_type": "code",
   "execution_count": 60,
   "metadata": {},
   "outputs": [
    {
     "data": {
      "text/plain": [
       "<AxesSubplot:>"
      ]
     },
     "execution_count": 60,
     "metadata": {},
     "output_type": "execute_result"
    },
    {
     "data": {
      "image/png": "[encoded data removed]",
      "text/plain": [
       "<Figure size 864x576 with 1 Axes>"
      ]
     },
     "metadata": {
      "needs_background": "light"
     },
     "output_type": "display_data"
    }
   ],
   "source": [
    "# Plot point locations\n",
    "fig, ax = plt.subplots(figsize=(12, 8))\n",
    "\n",
    "dakar_region.plot(figsize=(10, 5), color='k',\n",
    "               ax=ax)\n",
    "# Add city locations\n",
    "geom_schools.plot(ax=ax, \n",
    "                    color='springgreen', \n",
    "                    marker='*',\n",
    "                    markersize=45)"
   ]
  },
  {
   "cell_type": "markdown",
   "metadata": {},
   "source": [
    "We can see some schools in Malika in the Malika district area"
   ]
  },
  {
   "cell_type": "markdown",
   "metadata": {},
   "source": [
    "Most schools are located on the main road, that's absolutely a very dangerous for kids even there will be a trafic controler. We can see a concentration of schools in the road that leading to the high way"
   ]
  },
  {
   "cell_type": "code",
   "execution_count": 63,
   "metadata": {},
   "outputs": [],
   "source": [
    "data = geom_schools.copy()"
   ]
  },
  {
   "cell_type": "code",
   "execution_count": 66,
   "metadata": {},
   "outputs": [],
   "source": [
    "g1 = data[data['addresses'].str.contains('Malika')]\n",
    "g2 = data[data['addresses'].str.contains('Malika') == False]"
   ]
  },
  {
   "cell_type": "code",
   "execution_count": 68,
   "metadata": {},
   "outputs": [
    {
     "data": {
      "text/plain": [
       "<AxesSubplot:>"
      ]
     },
     "execution_count": 68,
     "metadata": {},
     "output_type": "execute_result"
    },
    {
     "data": {
      "image/png": "[encoded data removed]",
      "text/plain": [
       "<Figure size 432x288 with 1 Axes>"
      ]
     },
     "metadata": {
      "needs_background": "light"
     },
     "output_type": "display_data"
    }
   ],
   "source": [
    "g1.plot()"
   ]
  },
  {
   "cell_type": "code",
   "execution_count": 69,
   "metadata": {
    "scrolled": true
   },
   "outputs": [
    {
     "data": {
      "text/plain": [
       "<AxesSubplot:>"
      ]
     },
     "execution_count": 69,
     "metadata": {},
     "output_type": "execute_result"
    },
    {
     "data": {
      "image/png": "[encoded data removed]",
      "text/plain": [
       "<Figure size 432x288 with 1 Axes>"
      ]
     },
     "metadata": {
      "needs_background": "light"
     },
     "output_type": "display_data"
    }
   ],
   "source": [
    "g2.plot()"
   ]
  },
  {
   "cell_type": "code",
   "execution_count": 79,
   "metadata": {},
   "outputs": [
    {
     "name": "stderr",
     "output_type": "stream",
     "text": [
      "d:\\programm files\\python 3 8 6\\lib\\site-packages\\pyproj\\crs\\crs.py:53: FutureWarning: '+init=<authority>:<code>' syntax is deprecated. '<authority>:<code>' is the preferred initialization method. When making the change, be mindful of axis order changes: https://pyproj4.github.io/pyproj/stable/gotchas.html#axis-order-changes-in-proj-6\n",
      "  return _prepare_from_string(\" \".join(pjargs))\n"
     ]
    }
   ],
   "source": [
    "g1 = g1.to_crs({'init': 'epsg:4326'})\n",
    "g2 = g2.to_crs({'init': 'epsg:4326'})\n"
   ]
  },
  {
   "cell_type": "code",
   "execution_count": 80,
   "metadata": {
    "scrolled": true
   },
   "outputs": [
    {
     "data": {
      "text/plain": [
       "<Geographic 2D CRS: +init=epsg:4326 +type=crs>\n",
       "Name: WGS 84\n",
       "Axis Info [ellipsoidal]:\n",
       "- lon[east]: Longitude (degree)\n",
       "- lat[north]: Latitude (degree)\n",
       "Area of Use:\n",
       "- name: World.\n",
       "- bounds: (-180.0, -90.0, 180.0, 90.0)\n",
       "Datum: World Geodetic System 1984\n",
       "- Ellipsoid: WGS 84\n",
       "- Prime Meridian: Greenwich"
      ]
     },
     "execution_count": 80,
     "metadata": {},
     "output_type": "execute_result"
    }
   ],
   "source": [
    "g2.crs"
   ]
  },
  {
   "cell_type": "code",
   "execution_count": 85,
   "metadata": {},
   "outputs": [],
   "source": [
    "L1 = [14.795562203226474, -17.337780327723806]"
   ]
  },
  {
   "cell_type": "markdown",
   "metadata": {},
   "source": [
    "## Calculate Distance between schools"
   ]
  },
  {
   "cell_type": "markdown",
   "metadata": {},
   "source": [
    "The main school in Malika is the elementary school Seydi Anta Gadiaga, everyone knows it there, so let's find a distance from that school to every other school around Malika within our dataset"
   ]
  },
  {
   "cell_type": "code",
   "execution_count": 86,
   "metadata": {},
   "outputs": [],
   "source": [
    "data['distance'] = data[['longitude', 'latitude']].sub(np.array(L1)).pow(2).sum(1).pow(0.5)\n"
   ]
  },
  {
   "cell_type": "code",
   "execution_count": 87,
   "metadata": {},
   "outputs": [
    {
     "data": {
      "text/html": [
       "<div>\n",
       "<style scoped>\n",
       "    .dataframe tbody tr th:only-of-type {\n",
       "        vertical-align: middle;\n",
       "    }\n",
       "\n",
       "    .dataframe tbody tr th {\n",
       "        vertical-align: top;\n",
       "    }\n",
       "\n",
       "    .dataframe thead th {\n",
       "        text-align: right;\n",
       "    }\n",
       "</style>\n",
       "<table border=\"1\" class=\"dataframe\">\n",
       "  <thead>\n",
       "    <tr style=\"text-align: right;\">\n",
       "      <th></th>\n",
       "      <th>school_name</th>\n",
       "      <th>addresses</th>\n",
       "      <th>phone_contacts</th>\n",
       "      <th>longitude</th>\n",
       "      <th>latitude</th>\n",
       "      <th>geometry</th>\n",
       "      <th>distance</th>\n",
       "    </tr>\n",
       "  </thead>\n",
       "  <tbody>\n",
       "    <tr>\n",
       "      <th>0</th>\n",
       "      <td>Institut Biblique, Malika Sénégal</td>\n",
       "      <td>Malika, Senegal</td>\n",
       "      <td>NaN</td>\n",
       "      <td>-17.337383</td>\n",
       "      <td>14.796181</td>\n",
       "      <td>POINT (-17.33738 14.79618)</td>\n",
       "      <td>45.443565</td>\n",
       "    </tr>\n",
       "    <tr>\n",
       "      <th>1</th>\n",
       "      <td>Elementary School Malika Plage</td>\n",
       "      <td>Malika, Senegal</td>\n",
       "      <td>NaN</td>\n",
       "      <td>-17.337383</td>\n",
       "      <td>14.796181</td>\n",
       "      <td>POINT (-17.33738 14.79618)</td>\n",
       "      <td>45.443565</td>\n",
       "    </tr>\n",
       "    <tr>\n",
       "      <th>2</th>\n",
       "      <td>Keur Serigne Touba</td>\n",
       "      <td>Malika Plage, Senegal</td>\n",
       "      <td>+221 76 002 83 91</td>\n",
       "      <td>-17.336370</td>\n",
       "      <td>14.796310</td>\n",
       "      <td>POINT (-17.33637 14.79631)</td>\n",
       "      <td>45.442941</td>\n",
       "    </tr>\n",
       "    <tr>\n",
       "      <th>3</th>\n",
       "      <td>Gs Cholaye</td>\n",
       "      <td>Malika plage, Malika, Senegal</td>\n",
       "      <td>+221 77 381 32 10</td>\n",
       "      <td>-17.337645</td>\n",
       "      <td>14.800741</td>\n",
       "      <td>POINT (-17.33765 14.80074)</td>\n",
       "      <td>45.446975</td>\n",
       "    </tr>\n",
       "    <tr>\n",
       "      <th>4</th>\n",
       "      <td>School Houddalah</td>\n",
       "      <td>Malika- Cite Sonatel Road, Senegal</td>\n",
       "      <td>NaN</td>\n",
       "      <td>-17.338977</td>\n",
       "      <td>14.785753</td>\n",
       "      <td>POINT (-17.33898 14.78575)</td>\n",
       "      <td>45.437319</td>\n",
       "    </tr>\n",
       "    <tr>\n",
       "      <th>5</th>\n",
       "      <td>Daara De Malika</td>\n",
       "      <td>Dakar, Senegal</td>\n",
       "      <td>+221 77 463 39 65</td>\n",
       "      <td>-17.328278</td>\n",
       "      <td>14.790430</td>\n",
       "      <td>POINT (-17.32828 14.79043)</td>\n",
       "      <td>45.433061</td>\n",
       "    </tr>\n",
       "    <tr>\n",
       "      <th>6</th>\n",
       "      <td>Institution Saint Louis Marie Grignion De Malika</td>\n",
       "      <td>Malika, Senegal</td>\n",
       "      <td>+221 33 878 09 33</td>\n",
       "      <td>-17.330980</td>\n",
       "      <td>14.794662</td>\n",
       "      <td>POINT (-17.33098 14.79466)</td>\n",
       "      <td>45.437964</td>\n",
       "    </tr>\n",
       "    <tr>\n",
       "      <th>7</th>\n",
       "      <td>School Franco Arabic Abdoulaye Malick</td>\n",
       "      <td>Malika, Senegal</td>\n",
       "      <td>+221 77 382 60 40</td>\n",
       "      <td>-17.333222</td>\n",
       "      <td>14.781860</td>\n",
       "      <td>POINT (-17.33322 14.78186)</td>\n",
       "      <td>45.430497</td>\n",
       "    </tr>\n",
       "    <tr>\n",
       "      <th>8</th>\n",
       "      <td>Course Saint-Vallier</td>\n",
       "      <td>Route de la plage, Malika, Senegal</td>\n",
       "      <td>+221 77 839 17 92</td>\n",
       "      <td>-17.337383</td>\n",
       "      <td>14.796181</td>\n",
       "      <td>POINT (-17.33738 14.79618)</td>\n",
       "      <td>45.443565</td>\n",
       "    </tr>\n",
       "    <tr>\n",
       "      <th>9</th>\n",
       "      <td>Elementary School Seydi Anta Gadiagade Malika</td>\n",
       "      <td>Dakar, Senegal</td>\n",
       "      <td>NaN</td>\n",
       "      <td>-17.337636</td>\n",
       "      <td>14.795445</td>\n",
       "      <td>POINT (-17.33764 14.79545)</td>\n",
       "      <td>45.443224</td>\n",
       "    </tr>\n",
       "    <tr>\n",
       "      <th>10</th>\n",
       "      <td>Malika Récepteur</td>\n",
       "      <td>Unnamed Road, Senegal</td>\n",
       "      <td>+221 78 419 83 43</td>\n",
       "      <td>-17.341154</td>\n",
       "      <td>14.785254</td>\n",
       "      <td>POINT (-17.34115 14.78525)</td>\n",
       "      <td>45.438506</td>\n",
       "    </tr>\n",
       "    <tr>\n",
       "      <th>11</th>\n",
       "      <td>Cem Malika Plage</td>\n",
       "      <td>Unnamed Road, Senegal</td>\n",
       "      <td>+221 78 188 37 21</td>\n",
       "      <td>-17.337642</td>\n",
       "      <td>14.802873</td>\n",
       "      <td>POINT (-17.33764 14.80287)</td>\n",
       "      <td>45.448481</td>\n",
       "    </tr>\n",
       "    <tr>\n",
       "      <th>12</th>\n",
       "      <td>Ciga Formation Malika</td>\n",
       "      <td>Malika, Senegal</td>\n",
       "      <td>+221 77 793 64 04</td>\n",
       "      <td>-17.338803</td>\n",
       "      <td>14.805419</td>\n",
       "      <td>POINT (-17.33880 14.80542)</td>\n",
       "      <td>45.451102</td>\n",
       "    </tr>\n",
       "    <tr>\n",
       "      <th>13</th>\n",
       "      <td>Cpcatl</td>\n",
       "      <td>Dakar, Senegal</td>\n",
       "      <td>+221 77 764 77 51</td>\n",
       "      <td>-17.338543</td>\n",
       "      <td>14.788350</td>\n",
       "      <td>POINT (-17.33854 14.78835)</td>\n",
       "      <td>45.438849</td>\n",
       "    </tr>\n",
       "    <tr>\n",
       "      <th>14</th>\n",
       "      <td>Heartfulness Keur Massar</td>\n",
       "      <td>keur massar, Sénégal P.A, Senegal</td>\n",
       "      <td>+221 33 959 05 08</td>\n",
       "      <td>-17.321189</td>\n",
       "      <td>14.778684</td>\n",
       "      <td>POINT (-17.32119 14.77868)</td>\n",
       "      <td>45.419742</td>\n",
       "    </tr>\n",
       "    <tr>\n",
       "      <th>15</th>\n",
       "      <td>Private School Libasse Niang</td>\n",
       "      <td>Ecole Unité 17, Keur Massar, Senegal</td>\n",
       "      <td>+221 77 422 50 26</td>\n",
       "      <td>-17.326922</td>\n",
       "      <td>14.780888</td>\n",
       "      <td>POINT (-17.32692 14.78089)</td>\n",
       "      <td>45.425355</td>\n",
       "    </tr>\n",
       "    <tr>\n",
       "      <th>16</th>\n",
       "      <td>Ecole Pau13</td>\n",
       "      <td>Senegal</td>\n",
       "      <td>+221 77 805 57 51</td>\n",
       "      <td>-17.330103</td>\n",
       "      <td>14.770525</td>\n",
       "      <td>POINT (-17.33010 14.77052)</td>\n",
       "      <td>45.420278</td>\n",
       "    </tr>\n",
       "    <tr>\n",
       "      <th>17</th>\n",
       "      <td>Machalah School</td>\n",
       "      <td>Dakar, Senegal</td>\n",
       "      <td>NaN</td>\n",
       "      <td>-17.380348</td>\n",
       "      <td>14.787871</td>\n",
       "      <td>POINT (-17.38035 14.78787)</td>\n",
       "      <td>45.468084</td>\n",
       "    </tr>\n",
       "    <tr>\n",
       "      <th>18</th>\n",
       "      <td>Workshop Inventeurs Et Dessinateurs</td>\n",
       "      <td>route de la plage, Malika, Senegal</td>\n",
       "      <td>NaN</td>\n",
       "      <td>-17.337967</td>\n",
       "      <td>14.801568</td>\n",
       "      <td>POINT (-17.33797 14.80157)</td>\n",
       "      <td>45.447788</td>\n",
       "    </tr>\n",
       "    <tr>\n",
       "      <th>19</th>\n",
       "      <td>Private School Cheikh Hamidou Kane</td>\n",
       "      <td>Parcelles assainies Keur Massar-Malika unité 1...</td>\n",
       "      <td>NaN</td>\n",
       "      <td>-17.311941</td>\n",
       "      <td>14.786368</td>\n",
       "      <td>POINT (-17.31194 14.78637)</td>\n",
       "      <td>45.418638</td>\n",
       "    </tr>\n",
       "    <tr>\n",
       "      <th>20</th>\n",
       "      <td>Elementary School Seydi Anta Gadiaga</td>\n",
       "      <td>Dakar, Senegal</td>\n",
       "      <td>NaN</td>\n",
       "      <td>-17.337770</td>\n",
       "      <td>14.795417</td>\n",
       "      <td>POINT (-17.33777 14.79542)</td>\n",
       "      <td>45.443299</td>\n",
       "    </tr>\n",
       "    <tr>\n",
       "      <th>21</th>\n",
       "      <td>School Area De Recasemen De Keur Massar</td>\n",
       "      <td>Keur Massar, Senegal</td>\n",
       "      <td>NaN</td>\n",
       "      <td>-17.314980</td>\n",
       "      <td>14.787783</td>\n",
       "      <td>POINT (-17.31498 14.78778)</td>\n",
       "      <td>45.421787</td>\n",
       "    </tr>\n",
       "    <tr>\n",
       "      <th>22</th>\n",
       "      <td>Natangué</td>\n",
       "      <td>Keur Massar, Senegal</td>\n",
       "      <td>+221 77 742 22 69</td>\n",
       "      <td>-17.311941</td>\n",
       "      <td>14.786368</td>\n",
       "      <td>POINT (-17.31194 14.78637)</td>\n",
       "      <td>45.418638</td>\n",
       "    </tr>\n",
       "    <tr>\n",
       "      <th>23</th>\n",
       "      <td>School Sotrac</td>\n",
       "      <td>Dakar, Senegal</td>\n",
       "      <td>NaN</td>\n",
       "      <td>-17.350645</td>\n",
       "      <td>14.785273</td>\n",
       "      <td>POINT (-17.35065 14.78527)</td>\n",
       "      <td>45.445233</td>\n",
       "    </tr>\n",
       "    <tr>\n",
       "      <th>24</th>\n",
       "      <td>Ecole yeumbeul</td>\n",
       "      <td>Unnamed Road, Dakar, Senegal</td>\n",
       "      <td>NaN</td>\n",
       "      <td>-17.355541</td>\n",
       "      <td>14.780038</td>\n",
       "      <td>POINT (-17.35554 14.78004)</td>\n",
       "      <td>45.444996</td>\n",
       "    </tr>\n",
       "    <tr>\n",
       "      <th>25</th>\n",
       "      <td>French School</td>\n",
       "      <td>Keur Massar, Senegal</td>\n",
       "      <td>NaN</td>\n",
       "      <td>-17.310605</td>\n",
       "      <td>14.789132</td>\n",
       "      <td>POINT (-17.31060 14.78913)</td>\n",
       "      <td>45.419648</td>\n",
       "    </tr>\n",
       "    <tr>\n",
       "      <th>26</th>\n",
       "      <td>School Tinder Ndiaye Deguene</td>\n",
       "      <td>Senegal</td>\n",
       "      <td>NaN</td>\n",
       "      <td>-17.383372</td>\n",
       "      <td>14.777821</td>\n",
       "      <td>POINT (-17.38337 14.77782)</td>\n",
       "      <td>45.463124</td>\n",
       "    </tr>\n",
       "    <tr>\n",
       "      <th>27</th>\n",
       "      <td>School Group Galle Nanondiral</td>\n",
       "      <td>Dakar, Senegal</td>\n",
       "      <td>NaN</td>\n",
       "      <td>-17.347285</td>\n",
       "      <td>14.787532</td>\n",
       "      <td>POINT (-17.34728 14.78753)</td>\n",
       "      <td>45.444453</td>\n",
       "    </tr>\n",
       "    <tr>\n",
       "      <th>28</th>\n",
       "      <td>Small School Soldats</td>\n",
       "      <td>Senegal</td>\n",
       "      <td>+221 33 872 82 57</td>\n",
       "      <td>-17.343906</td>\n",
       "      <td>14.771044</td>\n",
       "      <td>POINT (-17.34391 14.77104)</td>\n",
       "      <td>45.430409</td>\n",
       "    </tr>\n",
       "    <tr>\n",
       "      <th>29</th>\n",
       "      <td>Keur Serigne Touba</td>\n",
       "      <td>Unnamed Road, Senegal</td>\n",
       "      <td>NaN</td>\n",
       "      <td>-17.346183</td>\n",
       "      <td>14.789470</td>\n",
       "      <td>POINT (-17.34618 14.78947)</td>\n",
       "      <td>45.445043</td>\n",
       "    </tr>\n",
       "  </tbody>\n",
       "</table>\n",
       "</div>"
      ],
      "text/plain": [
       "                                         school_name  \\\n",
       "0                  Institut Biblique, Malika Sénégal   \n",
       "1                     Elementary School Malika Plage   \n",
       "2                                 Keur Serigne Touba   \n",
       "3                                         Gs Cholaye   \n",
       "4                                   School Houddalah   \n",
       "5                                    Daara De Malika   \n",
       "6   Institution Saint Louis Marie Grignion De Malika   \n",
       "7              School Franco Arabic Abdoulaye Malick   \n",
       "8                               Course Saint-Vallier   \n",
       "9      Elementary School Seydi Anta Gadiagade Malika   \n",
       "10                                  Malika Récepteur   \n",
       "11                                  Cem Malika Plage   \n",
       "12                             Ciga Formation Malika   \n",
       "13                                            Cpcatl   \n",
       "14                          Heartfulness Keur Massar   \n",
       "15                      Private School Libasse Niang   \n",
       "16                                       Ecole Pau13   \n",
       "17                                   Machalah School   \n",
       "18               Workshop Inventeurs Et Dessinateurs   \n",
       "19                Private School Cheikh Hamidou Kane   \n",
       "20              Elementary School Seydi Anta Gadiaga   \n",
       "21           School Area De Recasemen De Keur Massar   \n",
       "22                                          Natangué   \n",
       "23                                     School Sotrac   \n",
       "24                                    Ecole yeumbeul   \n",
       "25                                     French School   \n",
       "26                      School Tinder Ndiaye Deguene   \n",
       "27                     School Group Galle Nanondiral   \n",
       "28                              Small School Soldats   \n",
       "29                                Keur Serigne Touba   \n",
       "\n",
       "                                            addresses     phone_contacts  \\\n",
       "0                                     Malika, Senegal                NaN   \n",
       "1                                     Malika, Senegal                NaN   \n",
       "2                               Malika Plage, Senegal  +221 76 002 83 91   \n",
       "3                       Malika plage, Malika, Senegal  +221 77 381 32 10   \n",
       "4                  Malika- Cite Sonatel Road, Senegal                NaN   \n",
       "5                                      Dakar, Senegal  +221 77 463 39 65   \n",
       "6                                     Malika, Senegal  +221 33 878 09 33   \n",
       "7                                     Malika, Senegal  +221 77 382 60 40   \n",
       "8                  Route de la plage, Malika, Senegal  +221 77 839 17 92   \n",
       "9                                      Dakar, Senegal                NaN   \n",
       "10                              Unnamed Road, Senegal  +221 78 419 83 43   \n",
       "11                              Unnamed Road, Senegal  +221 78 188 37 21   \n",
       "12                                    Malika, Senegal  +221 77 793 64 04   \n",
       "13                                     Dakar, Senegal  +221 77 764 77 51   \n",
       "14                  keur massar, Sénégal P.A, Senegal  +221 33 959 05 08   \n",
       "15               Ecole Unité 17, Keur Massar, Senegal  +221 77 422 50 26   \n",
       "16                                            Senegal  +221 77 805 57 51   \n",
       "17                                     Dakar, Senegal                NaN   \n",
       "18                 route de la plage, Malika, Senegal                NaN   \n",
       "19  Parcelles assainies Keur Massar-Malika unité 1...                NaN   \n",
       "20                                     Dakar, Senegal                NaN   \n",
       "21                               Keur Massar, Senegal                NaN   \n",
       "22                               Keur Massar, Senegal  +221 77 742 22 69   \n",
       "23                                     Dakar, Senegal                NaN   \n",
       "24                       Unnamed Road, Dakar, Senegal                NaN   \n",
       "25                               Keur Massar, Senegal                NaN   \n",
       "26                                            Senegal                NaN   \n",
       "27                                     Dakar, Senegal                NaN   \n",
       "28                                            Senegal  +221 33 872 82 57   \n",
       "29                              Unnamed Road, Senegal                NaN   \n",
       "\n",
       "    longitude   latitude                    geometry   distance  \n",
       "0  -17.337383  14.796181  POINT (-17.33738 14.79618)  45.443565  \n",
       "1  -17.337383  14.796181  POINT (-17.33738 14.79618)  45.443565  \n",
       "2  -17.336370  14.796310  POINT (-17.33637 14.79631)  45.442941  \n",
       "3  -17.337645  14.800741  POINT (-17.33765 14.80074)  45.446975  \n",
       "4  -17.338977  14.785753  POINT (-17.33898 14.78575)  45.437319  \n",
       "5  -17.328278  14.790430  POINT (-17.32828 14.79043)  45.433061  \n",
       "6  -17.330980  14.794662  POINT (-17.33098 14.79466)  45.437964  \n",
       "7  -17.333222  14.781860  POINT (-17.33322 14.78186)  45.430497  \n",
       "8  -17.337383  14.796181  POINT (-17.33738 14.79618)  45.443565  \n",
       "9  -17.337636  14.795445  POINT (-17.33764 14.79545)  45.443224  \n",
       "10 -17.341154  14.785254  POINT (-17.34115 14.78525)  45.438506  \n",
       "11 -17.337642  14.802873  POINT (-17.33764 14.80287)  45.448481  \n",
       "12 -17.338803  14.805419  POINT (-17.33880 14.80542)  45.451102  \n",
       "13 -17.338543  14.788350  POINT (-17.33854 14.78835)  45.438849  \n",
       "14 -17.321189  14.778684  POINT (-17.32119 14.77868)  45.419742  \n",
       "15 -17.326922  14.780888  POINT (-17.32692 14.78089)  45.425355  \n",
       "16 -17.330103  14.770525  POINT (-17.33010 14.77052)  45.420278  \n",
       "17 -17.380348  14.787871  POINT (-17.38035 14.78787)  45.468084  \n",
       "18 -17.337967  14.801568  POINT (-17.33797 14.80157)  45.447788  \n",
       "19 -17.311941  14.786368  POINT (-17.31194 14.78637)  45.418638  \n",
       "20 -17.337770  14.795417  POINT (-17.33777 14.79542)  45.443299  \n",
       "21 -17.314980  14.787783  POINT (-17.31498 14.78778)  45.421787  \n",
       "22 -17.311941  14.786368  POINT (-17.31194 14.78637)  45.418638  \n",
       "23 -17.350645  14.785273  POINT (-17.35065 14.78527)  45.445233  \n",
       "24 -17.355541  14.780038  POINT (-17.35554 14.78004)  45.444996  \n",
       "25 -17.310605  14.789132  POINT (-17.31060 14.78913)  45.419648  \n",
       "26 -17.383372  14.777821  POINT (-17.38337 14.77782)  45.463124  \n",
       "27 -17.347285  14.787532  POINT (-17.34728 14.78753)  45.444453  \n",
       "28 -17.343906  14.771044  POINT (-17.34391 14.77104)  45.430409  \n",
       "29 -17.346183  14.789470  POINT (-17.34618 14.78947)  45.445043  "
      ]
     },
     "execution_count": 87,
     "metadata": {},
     "output_type": "execute_result"
    }
   ],
   "source": [
    "data"
   ]
  },
  {
   "cell_type": "code",
   "execution_count": null,
   "metadata": {},
   "outputs": [],
   "source": []
  }
 ],
 "metadata": {
  "kernelspec": {
   "display_name": "Python 3",
   "language": "python",
   "name": "python3"
  },
  "language_info": {
   "codemirror_mode": {
    "name": "ipython",
    "version": 3
   },
   "file_extension": ".py",
   "mimetype": "text/x-python",
   "name": "python",
   "nbconvert_exporter": "python",
   "pygments_lexer": "ipython3",
   "version": "3.8.6"
  }
 },
 "nbformat": 4,
 "nbformat_minor": 4
}
